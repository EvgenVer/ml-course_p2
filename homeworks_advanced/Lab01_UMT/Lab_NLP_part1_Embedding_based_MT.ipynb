{
  "cells": [
    {
      "cell_type": "markdown",
      "metadata": {
        "id": "eulvfJWl7ueY"
      },
      "source": [
        "# Lab 1\n",
        "\n",
        "\n",
        "## Part 1: Bilingual dictionary induction and unsupervised embedding-based MT (30%)\n",
        "*Note: this homework is based on materials from yandexdataschool [NLP course](https://github.com/yandexdataschool/nlp_course/). Feel free to check this awesome course if you wish to dig deeper.*\n",
        "\n",
        "*Refined by [Nikolay Karpachev](https://www.linkedin.com/in/nikolay-karpachev-b0146a104/), [Valery Marchenkov](https://www.linkedin.com/in/vmarchenkoff/)*"
      ]
    },
    {
      "cell_type": "markdown",
      "metadata": {
        "id": "fV4rIjxa7uei"
      },
      "source": [
        "**In this homework** **<font color='red'>YOU</font>** will make machine translation system without using parallel corpora, alignment, attention, 100500 depth super-cool recurrent neural network and all that kind superstuff.\n",
        "\n",
        "But even without parallel corpora this system can be good enough (hopefully), in particular for similar languages."
      ]
    },
    {
      "cell_type": "markdown",
      "metadata": {
        "id": "idSYq2GU7uew"
      },
      "source": [
        "### Frament of the Swadesh list for some slavic languages\n",
        "\n",
        "The Swadesh list is a lexicostatistical stuff. It's named after American linguist Morris Swadesh and contains basic lexis. This list are used to define subgroupings of languages, its relatedness.\n",
        "\n",
        "So we can see some kind of word invariance for different Slavic languages.\n",
        "\n",
        "\n",
        "| Russian         | Belorussian              | Ukrainian               | Polish             | Czech                         | Bulgarian            |\n",
        "|-----------------|--------------------------|-------------------------|--------------------|-------------------------------|-----------------------|\n",
        "| женщина         | жанчына, кабета, баба    | жінка                   | kobieta            | žena                          | жена                  |\n",
        "| мужчина         | мужчына                  | чоловік, мужчина        | mężczyzna          | muž                           | мъж                   |\n",
        "| человек         | чалавек                  | людина, чоловік         | człowiek           | člověk                        | човек                 |\n",
        "| ребёнок, дитя   | дзіця, дзіцёнак, немаўля | дитина, дитя            | dziecko            | dítě                          | дете                  |\n",
        "| жена            | жонка                    | дружина, жінка          | żona               | žena, manželka, choť          | съпруга, жена         |\n",
        "| муж             | муж, гаспадар            | чоловiк, муж            | mąż                | muž, manžel, choť             | съпруг, мъж           |\n",
        "| мать, мама      | маці, матка              | мати, матір, неня, мама | matka              | matka, máma, 'стар.' mateř    | майка                 |\n",
        "| отец, тятя      | бацька, тата             | батько, тато, татусь    | ojciec             | otec                          | баща, татко           |\n",
        "| много           | шмат, багата             | багато                  | wiele              | mnoho, hodně                  | много                 |\n",
        "| несколько       | некалькі, колькі         | декілька, кілька        | kilka              | několik, pár, trocha          | няколко               |\n",
        "| другой, иной    | іншы                     | інший                   | inny               | druhý, jiný                   | друг                  |\n",
        "| зверь, животное | жывёла, звер, істота     | тварина, звір           | zwierzę            | zvíře                         | животно               |\n",
        "| рыба            | рыба                     | риба                    | ryba               | ryba                          | риба                  |\n",
        "| птица           | птушка                   | птах, птиця             | ptak               | pták                          | птица                 |\n",
        "| собака, пёс     | сабака                   | собака, пес             | pies               | pes                           | куче, пес             |\n",
        "| вошь            | вош                      | воша                    | wesz               | veš                           | въшка                 |\n",
        "| змея, гад       | змяя                     | змія, гад               | wąż                | had                           | змия                  |\n",
        "| червь, червяк   | чарвяк                   | хробак, черв'як         | robak              | červ                          | червей                |\n",
        "| дерево          | дрэва                    | дерево                  | drzewo             | strom, dřevo                  | дърво                 |\n",
        "| лес             | лес                      | ліс                     | las                | les                           | гора, лес             |\n",
        "| палка           | кій, палка               | палиця                  | patyk, pręt, pałka | hůl, klacek, prut, kůl, pálka | палка, пръчка, бастун |"
      ]
    },
    {
      "cell_type": "markdown",
      "metadata": {
        "id": "cNM3_fjr7ue2"
      },
      "source": [
        "But the context distribution of these languages demonstrates even more invariance. And we can use this fact for our for our purposes."
      ]
    },
    {
      "cell_type": "markdown",
      "metadata": {
        "id": "YLppwa527ue6"
      },
      "source": [
        "## Data"
      ]
    },
    {
      "cell_type": "markdown",
      "metadata": {
        "id": "MwGoVhRA7ufP"
      },
      "source": [
        "In this notebook we're going to use pretrained word vectors - FastText (original paper - https://arxiv.org/abs/1607.04606).\n",
        "\n",
        "You can download them from the official [website](https://fasttext.cc/docs/en/crawl-vectors.html). We're going to need embeddings for English and French languages."
      ]
    },
    {
      "cell_type": "code",
      "source": [
        "!wget -nc https://dl.fbaipublicfiles.com/fasttext/vectors-crawl/cc.en.300.vec.gz\n",
        "!gzip -d cc.en.300.vec.gz\n",
        "\n",
        "!wget -nc https://dl.fbaipublicfiles.com/fasttext/vectors-crawl/cc.fr.300.vec.gz\n",
        "!gzip -d cc.fr.300.vec.gz"
      ],
      "metadata": {
        "id": "KV2-MpR-ugq-",
        "colab": {
          "base_uri": "https://localhost:8080/"
        },
        "outputId": "0002e882-724a-4f51-8fa9-f47bbadf6c87"
      },
      "execution_count": 1,
      "outputs": [
        {
          "output_type": "stream",
          "name": "stdout",
          "text": [
            "--2023-11-22 07:30:08--  https://dl.fbaipublicfiles.com/fasttext/vectors-crawl/cc.en.300.vec.gz\n",
            "Resolving dl.fbaipublicfiles.com (dl.fbaipublicfiles.com)... 3.162.163.34, 3.162.163.11, 3.162.163.19, ...\n",
            "Connecting to dl.fbaipublicfiles.com (dl.fbaipublicfiles.com)|3.162.163.34|:443... connected.\n",
            "HTTP request sent, awaiting response... 200 OK\n",
            "Length: 1325960915 (1.2G) [binary/octet-stream]\n",
            "Saving to: ‘cc.en.300.vec.gz’\n",
            "\n",
            "cc.en.300.vec.gz    100%[===================>]   1.23G   262MB/s    in 9.0s    \n",
            "\n",
            "2023-11-22 07:30:18 (141 MB/s) - ‘cc.en.300.vec.gz’ saved [1325960915/1325960915]\n",
            "\n",
            "--2023-11-22 07:30:59--  https://dl.fbaipublicfiles.com/fasttext/vectors-crawl/cc.fr.300.vec.gz\n",
            "Resolving dl.fbaipublicfiles.com (dl.fbaipublicfiles.com)... 3.162.163.51, 3.162.163.11, 3.162.163.19, ...\n",
            "Connecting to dl.fbaipublicfiles.com (dl.fbaipublicfiles.com)|3.162.163.51|:443... connected.\n",
            "HTTP request sent, awaiting response... 200 OK\n",
            "Length: 1287757366 (1.2G) [binary/octet-stream]\n",
            "Saving to: ‘cc.fr.300.vec.gz’\n",
            "\n",
            "cc.fr.300.vec.gz    100%[===================>]   1.20G  26.6MB/s    in 50s     \n",
            "\n",
            "2023-11-22 07:31:50 (24.6 MB/s) - ‘cc.fr.300.vec.gz’ saved [1287757366/1287757366]\n",
            "\n"
          ]
        }
      ]
    },
    {
      "cell_type": "markdown",
      "source": [
        "After downloading and extracting the vectors, we should be able to load them using the [gensim](https://radimrehurek.com/gensim/) library:"
      ],
      "metadata": {
        "id": "Kwg26PKLv88U"
      }
    },
    {
      "cell_type": "code",
      "execution_count": 5,
      "metadata": {
        "id": "u1JjQv_97ufT",
        "outputId": "291a9e18-efe4-4b99-c875-11328424e447",
        "colab": {
          "base_uri": "https://localhost:8080/",
          "height": 373
        }
      },
      "outputs": [
        {
          "output_type": "error",
          "ename": "KeyboardInterrupt",
          "evalue": "ignored",
          "traceback": [
            "\u001b[0;31m---------------------------------------------------------------------------\u001b[0m",
            "\u001b[0;31mKeyboardInterrupt\u001b[0m                         Traceback (most recent call last)",
            "\u001b[0;32m<ipython-input-5-c9bfd89f9bf2>\u001b[0m in \u001b[0;36m<cell line: 6>\u001b[0;34m()\u001b[0m\n\u001b[1;32m      4\u001b[0m \u001b[0;34m\u001b[0m\u001b[0m\n\u001b[1;32m      5\u001b[0m \u001b[0;34m\u001b[0m\u001b[0m\n\u001b[0;32m----> 6\u001b[0;31m \u001b[0men_emb\u001b[0m \u001b[0;34m=\u001b[0m \u001b[0mKeyedVectors\u001b[0m\u001b[0;34m.\u001b[0m\u001b[0mload_word2vec_format\u001b[0m\u001b[0;34m(\u001b[0m\u001b[0;34m\"cc.en.300.vec\"\u001b[0m\u001b[0;34m)\u001b[0m\u001b[0;34m\u001b[0m\u001b[0;34m\u001b[0m\u001b[0m\n\u001b[0m\u001b[1;32m      7\u001b[0m \u001b[0mfr_emb\u001b[0m \u001b[0;34m=\u001b[0m \u001b[0mKeyedVectors\u001b[0m\u001b[0;34m.\u001b[0m\u001b[0mload_word2vec_format\u001b[0m\u001b[0;34m(\u001b[0m\u001b[0;34m\"cc.fr.300.vec\"\u001b[0m\u001b[0;34m)\u001b[0m\u001b[0;34m\u001b[0m\u001b[0;34m\u001b[0m\u001b[0m\n",
            "\u001b[0;32m/usr/local/lib/python3.10/dist-packages/gensim/models/keyedvectors.py\u001b[0m in \u001b[0;36mload_word2vec_format\u001b[0;34m(cls, fname, fvocab, binary, encoding, unicode_errors, limit, datatype, no_header)\u001b[0m\n\u001b[1;32m   1717\u001b[0m \u001b[0;34m\u001b[0m\u001b[0m\n\u001b[1;32m   1718\u001b[0m         \"\"\"\n\u001b[0;32m-> 1719\u001b[0;31m         return _load_word2vec_format(\n\u001b[0m\u001b[1;32m   1720\u001b[0m             \u001b[0mcls\u001b[0m\u001b[0;34m,\u001b[0m \u001b[0mfname\u001b[0m\u001b[0;34m,\u001b[0m \u001b[0mfvocab\u001b[0m\u001b[0;34m=\u001b[0m\u001b[0mfvocab\u001b[0m\u001b[0;34m,\u001b[0m \u001b[0mbinary\u001b[0m\u001b[0;34m=\u001b[0m\u001b[0mbinary\u001b[0m\u001b[0;34m,\u001b[0m \u001b[0mencoding\u001b[0m\u001b[0;34m=\u001b[0m\u001b[0mencoding\u001b[0m\u001b[0;34m,\u001b[0m \u001b[0municode_errors\u001b[0m\u001b[0;34m=\u001b[0m\u001b[0municode_errors\u001b[0m\u001b[0;34m,\u001b[0m\u001b[0;34m\u001b[0m\u001b[0;34m\u001b[0m\u001b[0m\n\u001b[1;32m   1721\u001b[0m             \u001b[0mlimit\u001b[0m\u001b[0;34m=\u001b[0m\u001b[0mlimit\u001b[0m\u001b[0;34m,\u001b[0m \u001b[0mdatatype\u001b[0m\u001b[0;34m=\u001b[0m\u001b[0mdatatype\u001b[0m\u001b[0;34m,\u001b[0m \u001b[0mno_header\u001b[0m\u001b[0;34m=\u001b[0m\u001b[0mno_header\u001b[0m\u001b[0;34m,\u001b[0m\u001b[0;34m\u001b[0m\u001b[0;34m\u001b[0m\u001b[0m\n",
            "\u001b[0;32m/usr/local/lib/python3.10/dist-packages/gensim/models/keyedvectors.py\u001b[0m in \u001b[0;36m_load_word2vec_format\u001b[0;34m(cls, fname, fvocab, binary, encoding, unicode_errors, limit, datatype, no_header, binary_chunk_size)\u001b[0m\n\u001b[1;32m   2067\u001b[0m             )\n\u001b[1;32m   2068\u001b[0m         \u001b[0;32melse\u001b[0m\u001b[0;34m:\u001b[0m\u001b[0;34m\u001b[0m\u001b[0;34m\u001b[0m\u001b[0m\n\u001b[0;32m-> 2069\u001b[0;31m             \u001b[0m_word2vec_read_text\u001b[0m\u001b[0;34m(\u001b[0m\u001b[0mfin\u001b[0m\u001b[0;34m,\u001b[0m \u001b[0mkv\u001b[0m\u001b[0;34m,\u001b[0m \u001b[0mcounts\u001b[0m\u001b[0;34m,\u001b[0m \u001b[0mvocab_size\u001b[0m\u001b[0;34m,\u001b[0m \u001b[0mvector_size\u001b[0m\u001b[0;34m,\u001b[0m \u001b[0mdatatype\u001b[0m\u001b[0;34m,\u001b[0m \u001b[0municode_errors\u001b[0m\u001b[0;34m,\u001b[0m \u001b[0mencoding\u001b[0m\u001b[0;34m)\u001b[0m\u001b[0;34m\u001b[0m\u001b[0;34m\u001b[0m\u001b[0m\n\u001b[0m\u001b[1;32m   2070\u001b[0m     \u001b[0;32mif\u001b[0m \u001b[0mkv\u001b[0m\u001b[0;34m.\u001b[0m\u001b[0mvectors\u001b[0m\u001b[0;34m.\u001b[0m\u001b[0mshape\u001b[0m\u001b[0;34m[\u001b[0m\u001b[0;36m0\u001b[0m\u001b[0;34m]\u001b[0m \u001b[0;34m!=\u001b[0m \u001b[0mlen\u001b[0m\u001b[0;34m(\u001b[0m\u001b[0mkv\u001b[0m\u001b[0;34m)\u001b[0m\u001b[0;34m:\u001b[0m\u001b[0;34m\u001b[0m\u001b[0;34m\u001b[0m\u001b[0m\n\u001b[1;32m   2071\u001b[0m         logger.info(\n",
            "\u001b[0;32m/usr/local/lib/python3.10/dist-packages/gensim/models/keyedvectors.py\u001b[0m in \u001b[0;36m_word2vec_read_text\u001b[0;34m(fin, kv, counts, vocab_size, vector_size, datatype, unicode_errors, encoding)\u001b[0m\n\u001b[1;32m   1972\u001b[0m         \u001b[0;32mif\u001b[0m \u001b[0mline\u001b[0m \u001b[0;34m==\u001b[0m \u001b[0;34mb''\u001b[0m\u001b[0;34m:\u001b[0m\u001b[0;34m\u001b[0m\u001b[0;34m\u001b[0m\u001b[0m\n\u001b[1;32m   1973\u001b[0m             \u001b[0;32mraise\u001b[0m \u001b[0mEOFError\u001b[0m\u001b[0;34m(\u001b[0m\u001b[0;34m\"unexpected end of input; is count incorrect or file otherwise damaged?\"\u001b[0m\u001b[0;34m)\u001b[0m\u001b[0;34m\u001b[0m\u001b[0;34m\u001b[0m\u001b[0m\n\u001b[0;32m-> 1974\u001b[0;31m         \u001b[0mword\u001b[0m\u001b[0;34m,\u001b[0m \u001b[0mweights\u001b[0m \u001b[0;34m=\u001b[0m \u001b[0m_word2vec_line_to_vector\u001b[0m\u001b[0;34m(\u001b[0m\u001b[0mline\u001b[0m\u001b[0;34m,\u001b[0m \u001b[0mdatatype\u001b[0m\u001b[0;34m,\u001b[0m \u001b[0municode_errors\u001b[0m\u001b[0;34m,\u001b[0m \u001b[0mencoding\u001b[0m\u001b[0;34m)\u001b[0m\u001b[0;34m\u001b[0m\u001b[0;34m\u001b[0m\u001b[0m\n\u001b[0m\u001b[1;32m   1975\u001b[0m         \u001b[0m_add_word_to_kv\u001b[0m\u001b[0;34m(\u001b[0m\u001b[0mkv\u001b[0m\u001b[0;34m,\u001b[0m \u001b[0mcounts\u001b[0m\u001b[0;34m,\u001b[0m \u001b[0mword\u001b[0m\u001b[0;34m,\u001b[0m \u001b[0mweights\u001b[0m\u001b[0;34m,\u001b[0m \u001b[0mvocab_size\u001b[0m\u001b[0;34m)\u001b[0m\u001b[0;34m\u001b[0m\u001b[0;34m\u001b[0m\u001b[0m\n\u001b[1;32m   1976\u001b[0m \u001b[0;34m\u001b[0m\u001b[0m\n",
            "\u001b[0;32m/usr/local/lib/python3.10/dist-packages/gensim/models/keyedvectors.py\u001b[0m in \u001b[0;36m_word2vec_line_to_vector\u001b[0;34m(line, datatype, unicode_errors, encoding)\u001b[0m\n\u001b[1;32m   1978\u001b[0m \u001b[0;32mdef\u001b[0m \u001b[0m_word2vec_line_to_vector\u001b[0m\u001b[0;34m(\u001b[0m\u001b[0mline\u001b[0m\u001b[0;34m,\u001b[0m \u001b[0mdatatype\u001b[0m\u001b[0;34m,\u001b[0m \u001b[0municode_errors\u001b[0m\u001b[0;34m,\u001b[0m \u001b[0mencoding\u001b[0m\u001b[0;34m)\u001b[0m\u001b[0;34m:\u001b[0m\u001b[0;34m\u001b[0m\u001b[0;34m\u001b[0m\u001b[0m\n\u001b[1;32m   1979\u001b[0m     \u001b[0mparts\u001b[0m \u001b[0;34m=\u001b[0m \u001b[0mutils\u001b[0m\u001b[0;34m.\u001b[0m\u001b[0mto_unicode\u001b[0m\u001b[0;34m(\u001b[0m\u001b[0mline\u001b[0m\u001b[0;34m.\u001b[0m\u001b[0mrstrip\u001b[0m\u001b[0;34m(\u001b[0m\u001b[0;34m)\u001b[0m\u001b[0;34m,\u001b[0m \u001b[0mencoding\u001b[0m\u001b[0;34m=\u001b[0m\u001b[0mencoding\u001b[0m\u001b[0;34m,\u001b[0m \u001b[0merrors\u001b[0m\u001b[0;34m=\u001b[0m\u001b[0municode_errors\u001b[0m\u001b[0;34m)\u001b[0m\u001b[0;34m.\u001b[0m\u001b[0msplit\u001b[0m\u001b[0;34m(\u001b[0m\u001b[0;34m\" \"\u001b[0m\u001b[0;34m)\u001b[0m\u001b[0;34m\u001b[0m\u001b[0;34m\u001b[0m\u001b[0m\n\u001b[0;32m-> 1980\u001b[0;31m     \u001b[0mword\u001b[0m\u001b[0;34m,\u001b[0m \u001b[0mweights\u001b[0m \u001b[0;34m=\u001b[0m \u001b[0mparts\u001b[0m\u001b[0;34m[\u001b[0m\u001b[0;36m0\u001b[0m\u001b[0;34m]\u001b[0m\u001b[0;34m,\u001b[0m \u001b[0;34m[\u001b[0m\u001b[0mdatatype\u001b[0m\u001b[0;34m(\u001b[0m\u001b[0mx\u001b[0m\u001b[0;34m)\u001b[0m \u001b[0;32mfor\u001b[0m \u001b[0mx\u001b[0m \u001b[0;32min\u001b[0m \u001b[0mparts\u001b[0m\u001b[0;34m[\u001b[0m\u001b[0;36m1\u001b[0m\u001b[0;34m:\u001b[0m\u001b[0;34m]\u001b[0m\u001b[0;34m]\u001b[0m\u001b[0;34m\u001b[0m\u001b[0;34m\u001b[0m\u001b[0m\n\u001b[0m\u001b[1;32m   1981\u001b[0m     \u001b[0;32mreturn\u001b[0m \u001b[0mword\u001b[0m\u001b[0;34m,\u001b[0m \u001b[0mweights\u001b[0m\u001b[0;34m\u001b[0m\u001b[0;34m\u001b[0m\u001b[0m\n\u001b[1;32m   1982\u001b[0m \u001b[0;34m\u001b[0m\u001b[0m\n",
            "\u001b[0;32m/usr/local/lib/python3.10/dist-packages/gensim/models/keyedvectors.py\u001b[0m in \u001b[0;36m<listcomp>\u001b[0;34m(.0)\u001b[0m\n\u001b[1;32m   1978\u001b[0m \u001b[0;32mdef\u001b[0m \u001b[0m_word2vec_line_to_vector\u001b[0m\u001b[0;34m(\u001b[0m\u001b[0mline\u001b[0m\u001b[0;34m,\u001b[0m \u001b[0mdatatype\u001b[0m\u001b[0;34m,\u001b[0m \u001b[0municode_errors\u001b[0m\u001b[0;34m,\u001b[0m \u001b[0mencoding\u001b[0m\u001b[0;34m)\u001b[0m\u001b[0;34m:\u001b[0m\u001b[0;34m\u001b[0m\u001b[0;34m\u001b[0m\u001b[0m\n\u001b[1;32m   1979\u001b[0m     \u001b[0mparts\u001b[0m \u001b[0;34m=\u001b[0m \u001b[0mutils\u001b[0m\u001b[0;34m.\u001b[0m\u001b[0mto_unicode\u001b[0m\u001b[0;34m(\u001b[0m\u001b[0mline\u001b[0m\u001b[0;34m.\u001b[0m\u001b[0mrstrip\u001b[0m\u001b[0;34m(\u001b[0m\u001b[0;34m)\u001b[0m\u001b[0;34m,\u001b[0m \u001b[0mencoding\u001b[0m\u001b[0;34m=\u001b[0m\u001b[0mencoding\u001b[0m\u001b[0;34m,\u001b[0m \u001b[0merrors\u001b[0m\u001b[0;34m=\u001b[0m\u001b[0municode_errors\u001b[0m\u001b[0;34m)\u001b[0m\u001b[0;34m.\u001b[0m\u001b[0msplit\u001b[0m\u001b[0;34m(\u001b[0m\u001b[0;34m\" \"\u001b[0m\u001b[0;34m)\u001b[0m\u001b[0;34m\u001b[0m\u001b[0;34m\u001b[0m\u001b[0m\n\u001b[0;32m-> 1980\u001b[0;31m     \u001b[0mword\u001b[0m\u001b[0;34m,\u001b[0m \u001b[0mweights\u001b[0m \u001b[0;34m=\u001b[0m \u001b[0mparts\u001b[0m\u001b[0;34m[\u001b[0m\u001b[0;36m0\u001b[0m\u001b[0;34m]\u001b[0m\u001b[0;34m,\u001b[0m \u001b[0;34m[\u001b[0m\u001b[0mdatatype\u001b[0m\u001b[0;34m(\u001b[0m\u001b[0mx\u001b[0m\u001b[0;34m)\u001b[0m \u001b[0;32mfor\u001b[0m \u001b[0mx\u001b[0m \u001b[0;32min\u001b[0m \u001b[0mparts\u001b[0m\u001b[0;34m[\u001b[0m\u001b[0;36m1\u001b[0m\u001b[0;34m:\u001b[0m\u001b[0;34m]\u001b[0m\u001b[0;34m]\u001b[0m\u001b[0;34m\u001b[0m\u001b[0;34m\u001b[0m\u001b[0m\n\u001b[0m\u001b[1;32m   1981\u001b[0m     \u001b[0;32mreturn\u001b[0m \u001b[0mword\u001b[0m\u001b[0;34m,\u001b[0m \u001b[0mweights\u001b[0m\u001b[0;34m\u001b[0m\u001b[0;34m\u001b[0m\u001b[0m\n\u001b[1;32m   1982\u001b[0m \u001b[0;34m\u001b[0m\u001b[0m\n",
            "\u001b[0;31mKeyboardInterrupt\u001b[0m: "
          ]
        }
      ],
      "source": [
        "from tqdm.auto import tqdm\n",
        "from gensim.models import KeyedVectors\n",
        "import numpy as np\n",
        "\n",
        "\n",
        "en_emb = KeyedVectors.load_word2vec_format(\"cc.en.300.vec\")\n",
        "fr_emb = KeyedVectors.load_word2vec_format(\"cc.fr.300.vec\")"
      ]
    },
    {
      "cell_type": "markdown",
      "source": [
        "Once you've loaded the vectors, you can use the `KeyedVectors` interface to get word embeddings and/or query most similar words by embedding:"
      ],
      "metadata": {
        "id": "Sqb_XJhkMyHM"
      }
    },
    {
      "cell_type": "code",
      "execution_count": 4,
      "metadata": {
        "id": "nTkXfT0W7ufk",
        "colab": {
          "base_uri": "https://localhost:8080/",
          "height": 193
        },
        "outputId": "f49e9de8-b2b3-4af9-db18-a2b3daf5eb05"
      },
      "outputs": [
        {
          "output_type": "error",
          "ename": "NameError",
          "evalue": "ignored",
          "traceback": [
            "\u001b[0;31m---------------------------------------------------------------------------\u001b[0m",
            "\u001b[0;31mNameError\u001b[0m                                 Traceback (most recent call last)",
            "\u001b[0;32m<ipython-input-4-f0b7ca92fa02>\u001b[0m in \u001b[0;36m<cell line: 1>\u001b[0;34m()\u001b[0m\n\u001b[0;32m----> 1\u001b[0;31m \u001b[0maugust_embedding\u001b[0m \u001b[0;34m=\u001b[0m \u001b[0men_emb\u001b[0m\u001b[0;34m[\u001b[0m\u001b[0;34m\"august\"\u001b[0m\u001b[0;34m]\u001b[0m\u001b[0;34m\u001b[0m\u001b[0;34m\u001b[0m\u001b[0m\n\u001b[0m\u001b[1;32m      2\u001b[0m \u001b[0maugust_embedding\u001b[0m\u001b[0;34m.\u001b[0m\u001b[0mshape\u001b[0m\u001b[0;34m,\u001b[0m \u001b[0maugust_embedding\u001b[0m\u001b[0;34m[\u001b[0m\u001b[0;34m:\u001b[0m\u001b[0;36m5\u001b[0m\u001b[0;34m]\u001b[0m\u001b[0;34m\u001b[0m\u001b[0;34m\u001b[0m\u001b[0m\n",
            "\u001b[0;31mNameError\u001b[0m: name 'en_emb' is not defined"
          ]
        }
      ],
      "source": [
        "august_embedding = en_emb[\"august\"]\n",
        "august_embedding.shape, august_embedding[:5]"
      ]
    },
    {
      "cell_type": "code",
      "source": [
        "en_emb.most_similar([august_embedding])"
      ],
      "metadata": {
        "id": "oQ2kCq-7NQPn",
        "colab": {
          "base_uri": "https://localhost:8080/"
        },
        "outputId": "8e0bee98-a804-4351-f308-420a8b4bea16"
      },
      "execution_count": 6,
      "outputs": [
        {
          "output_type": "execute_result",
          "data": {
            "text/plain": [
              "[('august', 0.9999999403953552),\n",
              " ('september', 0.8252838850021362),\n",
              " ('october', 0.8111193180084229),\n",
              " ('june', 0.8050147891044617),\n",
              " ('july', 0.797055184841156),\n",
              " ('november', 0.788363516330719),\n",
              " ('february', 0.7831973433494568),\n",
              " ('december', 0.7824540138244629),\n",
              " ('january', 0.7743154168128967),\n",
              " ('april', 0.7621643543243408)]"
            ]
          },
          "metadata": {},
          "execution_count": 6
        }
      ]
    },
    {
      "cell_type": "markdown",
      "source": [
        "The latter function also allows you to vary the amount of closest words via the `topn` argument:"
      ],
      "metadata": {
        "id": "t5EcMMI6pxzL"
      }
    },
    {
      "cell_type": "code",
      "source": [
        "en_emb.most_similar([august_embedding], topn=3)"
      ],
      "metadata": {
        "id": "bi6AF3z0p9Oo",
        "colab": {
          "base_uri": "https://localhost:8080/"
        },
        "outputId": "46af777a-c1ba-4342-ab39-1c8b14f38253"
      },
      "execution_count": 7,
      "outputs": [
        {
          "output_type": "execute_result",
          "data": {
            "text/plain": [
              "[('august', 0.9999999403953552),\n",
              " ('september', 0.8252838850021362),\n",
              " ('october', 0.8111193180084229)]"
            ]
          },
          "metadata": {},
          "execution_count": 7
        }
      ]
    },
    {
      "cell_type": "markdown",
      "source": [
        "Another feature of `KeyedVectors` is that it allows to compute embeddings for multiple words simultaneously:"
      ],
      "metadata": {
        "id": "xw345NRXov4p"
      }
    },
    {
      "cell_type": "code",
      "source": [
        "en_emb[[\"august\", \"september\"]].shape"
      ],
      "metadata": {
        "id": "86OuYeLYow0C",
        "colab": {
          "base_uri": "https://localhost:8080/"
        },
        "outputId": "b02d374f-ac87-42cc-f39f-d9262ee2ee9a"
      },
      "execution_count": 8,
      "outputs": [
        {
          "output_type": "execute_result",
          "data": {
            "text/plain": [
              "(2, 300)"
            ]
          },
          "metadata": {},
          "execution_count": 8
        }
      ]
    },
    {
      "cell_type": "markdown",
      "source": [
        "Everything above is true for the embeddings for French language."
      ],
      "metadata": {
        "id": "3uGx5zHXQtfo"
      }
    },
    {
      "cell_type": "code",
      "execution_count": 9,
      "metadata": {
        "id": "vdBA8lcg7ufs",
        "colab": {
          "base_uri": "https://localhost:8080/"
        },
        "outputId": "0c5b7337-7afc-4130-c46c-b3298042fc7c"
      },
      "outputs": [
        {
          "output_type": "execute_result",
          "data": {
            "text/plain": [
              "[('aout', 1.0),\n",
              " ('Aout', 0.8249964118003845),\n",
              " ('juillet', 0.8109882473945618),\n",
              " ('fevrier', 0.8072442412376404),\n",
              " ('septembre', 0.7838520407676697),\n",
              " ('août', 0.779176652431488),\n",
              " ('juin', 0.7692081332206726),\n",
              " ('octobre', 0.7597455382347107),\n",
              " ('decembre', 0.7595790028572083),\n",
              " ('avril', 0.7390779256820679)]"
            ]
          },
          "metadata": {},
          "execution_count": 9
        }
      ],
      "source": [
        "fr_emb.most_similar([fr_emb[\"aout\"]])"
      ]
    },
    {
      "cell_type": "markdown",
      "source": [
        "However, french and english embeddings were trained independently of each other. This means, that there is no obvious connection between values in embeddings for similar words in French and English:"
      ],
      "metadata": {
        "id": "F1Dkka5uQ37-"
      }
    },
    {
      "cell_type": "code",
      "execution_count": 10,
      "metadata": {
        "id": "_yJvcKXO7uf0",
        "colab": {
          "base_uri": "https://localhost:8080/"
        },
        "outputId": "99864277-6cbd-4ec5-db18-54062f10fd97"
      },
      "outputs": [
        {
          "output_type": "execute_result",
          "data": {
            "text/plain": [
              "[('2003Pays', 0.23082853853702545),\n",
              " ('Montsoriu', 0.22505579888820648),\n",
              " ('2015Pays', 0.22218400239944458),\n",
              " ('2013Genre', 0.2095685601234436),\n",
              " ('AdiCloud', 0.2018650770187378),\n",
              " ('Bagua', 0.20061466097831726),\n",
              " ('2003Paysans', 0.2001495361328125),\n",
              " ('ValenceLa', 0.2001476287841797),\n",
              " ('Luddites', 0.19998176395893097),\n",
              " ('Guadalquivir', 0.19875513017177582)]"
            ]
          },
          "metadata": {},
          "execution_count": 10
        }
      ],
      "source": [
        "fr_emb.most_similar([en_emb[\"august\"]])"
      ]
    },
    {
      "cell_type": "markdown",
      "source": [
        "## Translation"
      ],
      "metadata": {
        "id": "Lia_h7W2qL8C"
      }
    },
    {
      "cell_type": "markdown",
      "metadata": {
        "id": "pNdYAR1q7uf6"
      },
      "source": [
        "We'll build a simple translator, which will try to predict the french embedding from the english one. For this we'll need a dataset of word pairs."
      ]
    },
    {
      "cell_type": "code",
      "source": [
        "def load_word_pairs(filename):\n",
        "    en_fr_pairs = []\n",
        "    en_vectors = []\n",
        "    fr_vectors = []\n",
        "    with open(filename, \"r\") as inpf:\n",
        "        for line in inpf:\n",
        "            en, fr = line.rstrip().split(\" \")\n",
        "            if en not in en_emb or fr not in fr_emb:\n",
        "                continue\n",
        "            en_fr_pairs.append((en, fr))\n",
        "            en_vectors.append(en_emb[en])\n",
        "            fr_vectors.append(fr_emb[fr])\n",
        "    return en_fr_pairs, np.array(en_vectors), np.array(fr_vectors)"
      ],
      "metadata": {
        "id": "CXbH86oQRprk"
      },
      "execution_count": 11,
      "outputs": []
    },
    {
      "cell_type": "markdown",
      "source": [
        "We will train our model to predict embedding for the french word from embedding of its english counterpart. For this reason we split our train and test data into english and french words and compute corresponding embeddings to obtain `X` (english embeddings) and `y` (french embeddings)."
      ],
      "metadata": {
        "id": "wwjYGFE7Ui0N"
      }
    },
    {
      "cell_type": "code",
      "source": [
        "!wget -O en-fr.train.txt https://raw.githubusercontent.com/girafe-ai/ml-course/23s_nes/homeworks/hw04_umt/en-fr.train.txt\n",
        "!wget -O en-fr.test.txt https://raw.githubusercontent.com/girafe-ai/ml-course/23s_nes/homeworks/hw04_umt/en-fr.test.txt"
      ],
      "metadata": {
        "colab": {
          "base_uri": "https://localhost:8080/"
        },
        "id": "yPvHHq7Cc_Oa",
        "outputId": "455c3d36-3cde-4428-96c8-151e86ab5ef5"
      },
      "execution_count": 12,
      "outputs": [
        {
          "output_type": "stream",
          "name": "stdout",
          "text": [
            "--2023-11-22 08:11:46--  https://raw.githubusercontent.com/girafe-ai/ml-course/23s_nes/homeworks/hw04_umt/en-fr.train.txt\n",
            "Resolving raw.githubusercontent.com (raw.githubusercontent.com)... 185.199.109.133, 185.199.108.133, 185.199.110.133, ...\n",
            "Connecting to raw.githubusercontent.com (raw.githubusercontent.com)|185.199.109.133|:443... connected.\n",
            "HTTP request sent, awaiting response... 200 OK\n",
            "Length: 178608 (174K) [text/plain]\n",
            "Saving to: ‘en-fr.train.txt’\n",
            "\n",
            "en-fr.train.txt     100%[===================>] 174.42K  --.-KB/s    in 0.03s   \n",
            "\n",
            "2023-11-22 08:11:46 (5.44 MB/s) - ‘en-fr.train.txt’ saved [178608/178608]\n",
            "\n",
            "--2023-11-22 08:11:46--  https://raw.githubusercontent.com/girafe-ai/ml-course/23s_nes/homeworks/hw04_umt/en-fr.test.txt\n",
            "Resolving raw.githubusercontent.com (raw.githubusercontent.com)... 185.199.108.133, 185.199.109.133, 185.199.110.133, ...\n",
            "Connecting to raw.githubusercontent.com (raw.githubusercontent.com)|185.199.108.133|:443... connected.\n",
            "HTTP request sent, awaiting response... 200 OK\n",
            "Length: 50509 (49K) [text/plain]\n",
            "Saving to: ‘en-fr.test.txt’\n",
            "\n",
            "en-fr.test.txt      100%[===================>]  49.33K  --.-KB/s    in 0.01s   \n",
            "\n",
            "2023-11-22 08:11:46 (4.18 MB/s) - ‘en-fr.test.txt’ saved [50509/50509]\n",
            "\n"
          ]
        }
      ]
    },
    {
      "cell_type": "code",
      "source": [
        "en_fr_train, X_train, Y_train = load_word_pairs(\"en-fr.train.txt\")\n",
        "en_fr_test, X_test, Y_test = load_word_pairs(\"en-fr.test.txt\")"
      ],
      "metadata": {
        "id": "K05ari5nSEcn"
      },
      "execution_count": 13,
      "outputs": []
    },
    {
      "cell_type": "code",
      "source": [
        "en_fr_train[33:44]"
      ],
      "metadata": {
        "id": "ithG80uDTYWr",
        "outputId": "30054b86-0176-4e2e-ead0-2fab96d22533",
        "colab": {
          "base_uri": "https://localhost:8080/"
        }
      },
      "execution_count": 14,
      "outputs": [
        {
          "output_type": "execute_result",
          "data": {
            "text/plain": [
              "[('which', 'lesquels'),\n",
              " ('which', 'laquelle'),\n",
              " ('which', 'lequel'),\n",
              " ('also', 'également'),\n",
              " ('also', 'aussi'),\n",
              " ('also', 'egalement'),\n",
              " ('were', 'étaient'),\n",
              " ('but', 'mais'),\n",
              " ('have', 'avoir'),\n",
              " ('have', 'ont'),\n",
              " ('one', 'un')]"
            ]
          },
          "metadata": {},
          "execution_count": 14
        }
      ]
    },
    {
      "cell_type": "markdown",
      "metadata": {
        "id": "-ZBBNvpz7ugQ"
      },
      "source": [
        "## Embedding space mapping (0.3 pts)"
      ]
    },
    {
      "cell_type": "markdown",
      "metadata": {
        "id": "x_Dhk5gL7ugS"
      },
      "source": [
        "Let $x_i \\in \\mathrm{R}^d$ be the distributed representation of word $i$ in the source language, and $y_i \\in \\mathrm{R}^d$ is the vector representation of its translation. Our purpose is to learn such linear transform $W$ that minimizes euclidian distance between $Wx_i$ and $y_i$ for some subset of word embeddings. Thus we can formulate so-called [Procrustes problem](https://en.wikipedia.org/wiki/Orthogonal_Procrustes_problem):\n",
        "\n",
        "$$W^*= \\arg\\min_W \\sum_{i=1}^n\\|Wx_i - y_i\\|_2$$\n",
        "\n",
        "or\n",
        "\n",
        "$$W^*= \\arg\\min_W \\|XW^T - Y\\|_F$$\n",
        "\n",
        "where $\\|\\cdot\\|_F$ denotes Frobenius norm.\n",
        "\n",
        "> **Note:** in second formula, $W$ and $x$ seem to have switched places. This happens because the $X$ matrix is composed of objects $x_i$ in *rows* not *columns*, i.e. it is kind of composed of $x_i^T$. This means that $X \\in \\mathbb{R}^{N \\times D}$, where $N$ is the number of items and $D$ is the embedding dimensionality. The same is true for the $Y$."
      ]
    },
    {
      "cell_type": "markdown",
      "metadata": {
        "id": "acOjDdtL7ugY"
      },
      "source": [
        "$W^*= \\arg\\min_W \\sum_{i=1}^n\\|Wx_i - y_i\\|_2$ looks like simple multiple linear regression without bias. The `sklearn` allows you to turn off the bias in `LinearRegression` via the `fit_intercept` argument (in fact they simply call bias the intercept). So let's code."
      ]
    },
    {
      "cell_type": "code",
      "execution_count": 19,
      "metadata": {
        "id": "Lb-KN1be7uga"
      },
      "outputs": [],
      "source": [
        "from sklearn.linear_model import LinearRegression\n",
        "\n",
        "\n",
        "# YOUR CODE HERE\n",
        "# mapping = ...\n",
        "\n",
        "mapping = LinearRegression().fit(X_train, Y_train)"
      ]
    },
    {
      "cell_type": "markdown",
      "metadata": {
        "id": "X7tqJwoY7ugf"
      },
      "source": [
        "Let's take a look at neigbours of the vector of word _\"august\"_ (_\"aout\"_ in French) after linear transform."
      ]
    },
    {
      "cell_type": "code",
      "execution_count": 20,
      "metadata": {
        "id": "31SrFSbn7ugi",
        "colab": {
          "base_uri": "https://localhost:8080/"
        },
        "outputId": "2298560b-8167-4690-882a-3d63bf73ae08"
      },
      "outputs": [
        {
          "output_type": "execute_result",
          "data": {
            "text/plain": [
              "[('aout', 0.753563642501831),\n",
              " ('juin', 0.7498014569282532),\n",
              " ('juillet', 0.7457544803619385),\n",
              " ('septembre', 0.7445200681686401),\n",
              " ('mars', 0.7354801893234253),\n",
              " ('octobre', 0.7344686985015869),\n",
              " ('novembre', 0.7261154055595398),\n",
              " ('février', 0.7228148579597473),\n",
              " ('janvier', 0.721759557723999),\n",
              " ('avril', 0.7185364365577698)]"
            ]
          },
          "metadata": {},
          "execution_count": 20
        }
      ],
      "source": [
        "august = mapping.predict(en_emb[\"august\"].reshape(1, -1))\n",
        "fr_emb.most_similar(august)"
      ]
    },
    {
      "cell_type": "markdown",
      "metadata": {
        "id": "okSkjk597ugo"
      },
      "source": [
        "We can see that neighbourhood of this embedding cosists of different months, but right variant is on the ninth place."
      ]
    },
    {
      "cell_type": "markdown",
      "metadata": {
        "id": "o2uY6Y9B7ugt"
      },
      "source": [
        "As quality measure we will use precision top-1, top-5 and top-10 (for each transformed english embedding we count how many right target pairs are found in top N nearest neighbours in french embedding space)."
      ]
    },
    {
      "cell_type": "code",
      "execution_count": 31,
      "metadata": {
        "id": "zptuho8LAfIE"
      },
      "outputs": [],
      "source": [
        "def precision(pairs, mapped_vectors, topn=1):\n",
        "    \"\"\"\n",
        "    :args:\n",
        "        pairs = list of right word pairs [(en_word_0, fr_word_0), ...]\n",
        "        mapped_vectors = list of embeddings after mapping from source embedding space to destination embedding space\n",
        "        topn = the number of nearest neighbours in destination embedding space to choose from\n",
        "    :returns:\n",
        "        precision_val, float number, total number of words for those we can find right translation at top K.\n",
        "    \"\"\"\n",
        "    assert len(pairs) == len(mapped_vectors)\n",
        "    total = len(pairs)\n",
        "    correct = 0\n",
        "    for i in range(total):\n",
        "        pair = pairs[i]\n",
        "        predicted_vector = mapped_vectors[i]\n",
        "        # YOUR CODE HERE\n",
        "        predict = fr_emb.most_similar([predicted_vector], topn=topn)\n",
        "        for w in predict:\n",
        "            if w[0] == pair[1]:\n",
        "                correct += 1\n",
        "\n",
        "    return correct / total"
      ]
    },
    {
      "cell_type": "code",
      "execution_count": 32,
      "metadata": {
        "id": "duhj9hpv7ugy"
      },
      "outputs": [],
      "source": [
        "assert precision([(\"august\", \"aout\")], august, topn=5) == 1.0\n",
        "assert precision([(\"august\", \"aout\")], august, topn=9) == 1.0\n",
        "assert precision([(\"august\", \"aout\")], august, topn=10) == 1.0"
      ]
    },
    {
      "cell_type": "markdown",
      "source": [
        "Note that our `precision` function accepts lists of pairs of words, whereas we have dataframes. However, it is not a problem: we can get a list (actually, numpy array) of pairs via the `values` property."
      ],
      "metadata": {
        "id": "z5A9tWtnuFx3"
      }
    },
    {
      "cell_type": "code",
      "execution_count": 33,
      "metadata": {
        "id": "0-iyd5gP7ug5"
      },
      "outputs": [],
      "source": [
        "assert precision(en_fr_test[:100], X_test[:100]) == 0.0\n",
        "assert precision(en_fr_test[:100], Y_test[:100]) == 1.0"
      ]
    },
    {
      "cell_type": "markdown",
      "source": [
        "Let's see how well our model is doing."
      ],
      "metadata": {
        "id": "7DVV5lqrua_O"
      }
    },
    {
      "cell_type": "code",
      "execution_count": 34,
      "metadata": {
        "id": "U-ssEJ3x7uhA"
      },
      "outputs": [],
      "source": [
        "precision_top1 = precision(en_fr_test[:100], mapping.predict(X_test[:100]), 1)\n",
        "precision_top5 = precision(en_fr_test[:100], mapping.predict(X_test[:100]), 5)"
      ]
    },
    {
      "cell_type": "code",
      "source": [
        "print(precision_top1)\n",
        "print(precision_top5)"
      ],
      "metadata": {
        "id": "JOXKaYj1VHGC",
        "outputId": "2af5c31c-b68d-4ee7-fa9e-326a46d3f37e",
        "colab": {
          "base_uri": "https://localhost:8080/"
        }
      },
      "execution_count": 35,
      "outputs": [
        {
          "output_type": "stream",
          "name": "stdout",
          "text": [
            "0.37\n",
            "0.67\n"
          ]
        }
      ]
    },
    {
      "cell_type": "markdown",
      "metadata": {
        "id": "hf6Ou8bx7uhH"
      },
      "source": [
        "## Making it better (orthogonal Procrustean problem) (0.3 pts)"
      ]
    },
    {
      "cell_type": "markdown",
      "metadata": {
        "id": "4oLs-drN7uhK"
      },
      "source": [
        "It can be shown that a self-consistent linear mapping between semantic spaces should be orthogonal.\n",
        "We can restrict transform $W$ to be orthogonal. Then we will solve next problem:\n",
        "\n",
        "$$(W^T)^*= \\arg\\min_{W^T} \\|XW^T - Y\\|_F \\text{, where: } W^TW = I$$\n",
        "\n",
        "$$I \\text{- identity matrix}$$\n",
        "\n",
        "Instead of making yet another regression problem we can find optimal orthogonal transformation using singular value decomposition. It turns out that optimal transformation $W^*$ can be expressed via SVD components:\n",
        "$$X^TY=U\\Sigma V^T\\text{, singular value decompostion}$$\n",
        "$$(W^T)^*=UV^T$$"
      ]
    },
    {
      "cell_type": "code",
      "execution_count": 110,
      "metadata": {
        "id": "DdFQ7qti7uhL"
      },
      "outputs": [],
      "source": [
        "import numpy as np\n",
        "\n",
        "\n",
        "# YOUR CODE HERE\n",
        "# Compute the orthogonal mapping (W^T)^* as defined in formula above.\n",
        "U, S, Vh = np.linalg.svd(X_train.T@Y_train, full_matrices=False)\n",
        "mapping_svd = U @ Vh"
      ]
    },
    {
      "cell_type": "markdown",
      "source": [
        "Now our `mapping` is just a numpy array, meaning that it has no `predict` method. However, from the formulae above we know, that prediction is done using the matrix multiplication:"
      ],
      "metadata": {
        "id": "sehLFmlBysc-"
      }
    },
    {
      "cell_type": "code",
      "execution_count": 111,
      "metadata": {
        "id": "OVOFYYa37uhX",
        "colab": {
          "base_uri": "https://localhost:8080/",
          "height": 297
        },
        "outputId": "8c80ceab-32e7-432a-b40d-962098cac1ec"
      },
      "outputs": [
        {
          "output_type": "error",
          "ename": "ValueError",
          "evalue": "ignored",
          "traceback": [
            "\u001b[0;31m---------------------------------------------------------------------------\u001b[0m",
            "\u001b[0;31mValueError\u001b[0m                                Traceback (most recent call last)",
            "\u001b[0;32m<ipython-input-111-289206dd7f9d>\u001b[0m in \u001b[0;36m<cell line: 1>\u001b[0;34m()\u001b[0m\n\u001b[0;32m----> 1\u001b[0;31m \u001b[0mfr_emb\u001b[0m\u001b[0;34m.\u001b[0m\u001b[0mmost_similar\u001b[0m\u001b[0;34m(\u001b[0m\u001b[0;34m[\u001b[0m\u001b[0mnp\u001b[0m\u001b[0;34m.\u001b[0m\u001b[0mmatmul\u001b[0m\u001b[0;34m(\u001b[0m\u001b[0men_emb\u001b[0m\u001b[0;34m[\u001b[0m\u001b[0;34m'august'\u001b[0m\u001b[0;34m]\u001b[0m\u001b[0;34m,\u001b[0m \u001b[0mmapping_svd\u001b[0m\u001b[0;34m)\u001b[0m\u001b[0;34m]\u001b[0m\u001b[0;34m)\u001b[0m\u001b[0;34m\u001b[0m\u001b[0;34m\u001b[0m\u001b[0m\n\u001b[0m",
            "\u001b[0;32m/usr/local/lib/python3.10/dist-packages/gensim/models/keyedvectors.py\u001b[0m in \u001b[0;36mmost_similar\u001b[0;34m(self, positive, negative, topn, clip_start, clip_end, restrict_vocab, indexer)\u001b[0m\n\u001b[1;32m    847\u001b[0m             \u001b[0;32mreturn\u001b[0m \u001b[0mindexer\u001b[0m\u001b[0;34m.\u001b[0m\u001b[0mmost_similar\u001b[0m\u001b[0;34m(\u001b[0m\u001b[0mmean\u001b[0m\u001b[0;34m,\u001b[0m \u001b[0mtopn\u001b[0m\u001b[0;34m)\u001b[0m\u001b[0;34m\u001b[0m\u001b[0;34m\u001b[0m\u001b[0m\n\u001b[1;32m    848\u001b[0m \u001b[0;34m\u001b[0m\u001b[0m\n\u001b[0;32m--> 849\u001b[0;31m         \u001b[0mdists\u001b[0m \u001b[0;34m=\u001b[0m \u001b[0mdot\u001b[0m\u001b[0;34m(\u001b[0m\u001b[0mself\u001b[0m\u001b[0;34m.\u001b[0m\u001b[0mvectors\u001b[0m\u001b[0;34m[\u001b[0m\u001b[0mclip_start\u001b[0m\u001b[0;34m:\u001b[0m\u001b[0mclip_end\u001b[0m\u001b[0;34m]\u001b[0m\u001b[0;34m,\u001b[0m \u001b[0mmean\u001b[0m\u001b[0;34m)\u001b[0m \u001b[0;34m/\u001b[0m \u001b[0mself\u001b[0m\u001b[0;34m.\u001b[0m\u001b[0mnorms\u001b[0m\u001b[0;34m[\u001b[0m\u001b[0mclip_start\u001b[0m\u001b[0;34m:\u001b[0m\u001b[0mclip_end\u001b[0m\u001b[0;34m]\u001b[0m\u001b[0;34m\u001b[0m\u001b[0;34m\u001b[0m\u001b[0m\n\u001b[0m\u001b[1;32m    850\u001b[0m         \u001b[0;32mif\u001b[0m \u001b[0;32mnot\u001b[0m \u001b[0mtopn\u001b[0m\u001b[0;34m:\u001b[0m\u001b[0;34m\u001b[0m\u001b[0;34m\u001b[0m\u001b[0m\n\u001b[1;32m    851\u001b[0m             \u001b[0;32mreturn\u001b[0m \u001b[0mdists\u001b[0m\u001b[0;34m\u001b[0m\u001b[0;34m\u001b[0m\u001b[0m\n",
            "\u001b[0;31mValueError\u001b[0m: operands could not be broadcast together with shapes (2000001,) (2000000,) "
          ]
        }
      ],
      "source": [
        "fr_emb.most_similar([np.matmul(en_emb['august'], mapping_svd)])"
      ]
    },
    {
      "cell_type": "markdown",
      "source": [
        "Now let's compute our precision values and see, whether our trick did improve the results."
      ],
      "metadata": {
        "id": "h4qKCmq7zJDK"
      }
    },
    {
      "cell_type": "code",
      "execution_count": 92,
      "metadata": {
        "id": "r297sYP37uhb",
        "colab": {
          "base_uri": "https://localhost:8080/"
        },
        "outputId": "43e597dd-d319-4b39-eefd-eca775c3ebf0"
      },
      "outputs": [
        {
          "output_type": "stream",
          "name": "stdout",
          "text": [
            "0.36\n",
            "0.68\n"
          ]
        }
      ],
      "source": [
        "print(precision(en_fr_test[:100], np.matmul(X_test[:100], mapping_svd)))\n",
        "print(precision(en_fr_test[:100], np.matmul(X_test[:100], mapping_svd), 5))"
      ]
    },
    {
      "cell_type": "markdown",
      "metadata": {
        "id": "hvUZ72U5AfJg"
      },
      "source": [
        "## Unsupervised embedding-based MT (0.4 pts)"
      ]
    },
    {
      "cell_type": "markdown",
      "metadata": {
        "id": "LLyuVfHBLrJn"
      },
      "source": [
        "Now, let's build our word embeddings-based translator!"
      ]
    },
    {
      "cell_type": "markdown",
      "source": [
        "Now let's translate these sentences word-by-word. Before that, however, don't forget to tokenize your sentences. For that you may (or may not) find the `nltk.tokenize.WordPunctTokenizer` to be very useful."
      ],
      "metadata": {
        "id": "oa3dAZHv1wjY"
      }
    },
    {
      "cell_type": "code",
      "source": [
        "from nltk.tokenize import WordPunctTokenizer"
      ],
      "metadata": {
        "id": "cQPdd9u6QBk6"
      },
      "execution_count": 93,
      "outputs": []
    },
    {
      "cell_type": "code",
      "source": [
        "tokenizer = WordPunctTokenizer()\n",
        "tokenizer.tokenize(\"je marcher autour Paris\")"
      ],
      "metadata": {
        "id": "oH46f6YzQKNA",
        "outputId": "93253cd1-b731-4f44-85bd-0568176d2929",
        "colab": {
          "base_uri": "https://localhost:8080/"
        }
      },
      "execution_count": 95,
      "outputs": [
        {
          "output_type": "execute_result",
          "data": {
            "text/plain": [
              "['je', 'marcher', 'autour', 'Paris']"
            ]
          },
          "metadata": {},
          "execution_count": 95
        }
      ]
    },
    {
      "cell_type": "code",
      "source": [
        "unk_token = \"<UNK>\"\n",
        "unk_en_vector = np.random.rand(300)\n",
        "unk_fr_vector = unk_en_vector @ mapping_svd\n",
        "unk_fr_vector.shape"
      ],
      "metadata": {
        "id": "5BeVhe_5UcF-",
        "outputId": "a2a83eea-b26a-48a3-9d49-fce004624a11",
        "colab": {
          "base_uri": "https://localhost:8080/"
        }
      },
      "execution_count": 101,
      "outputs": [
        {
          "output_type": "execute_result",
          "data": {
            "text/plain": [
              "(300,)"
            ]
          },
          "metadata": {},
          "execution_count": 101
        }
      ]
    },
    {
      "cell_type": "code",
      "source": [
        "fr_emb[unk_token].shape"
      ],
      "metadata": {
        "id": "OYZmtTqdWLFb",
        "outputId": "29c16341-f579-450e-f4b8-852be6c849db",
        "colab": {
          "base_uri": "https://localhost:8080/"
        }
      },
      "execution_count": 108,
      "outputs": [
        {
          "output_type": "execute_result",
          "data": {
            "text/plain": [
              "(300,)"
            ]
          },
          "metadata": {},
          "execution_count": 108
        }
      ]
    },
    {
      "cell_type": "code",
      "source": [
        "en_emb.add_vector(unk_token, unk_en_vector)\n",
        "fr_emb.add_vector(unk_token, unk_fr_vector)"
      ],
      "metadata": {
        "id": "mHTwLcRlVBP0",
        "outputId": "b037f870-9b93-4004-8fd8-7a1b5a5960aa",
        "colab": {
          "base_uri": "https://localhost:8080/"
        }
      },
      "execution_count": null,
      "outputs": [
        {
          "output_type": "stream",
          "name": "stderr",
          "text": [
            "/usr/local/lib/python3.10/dist-packages/gensim/models/keyedvectors.py:551: UserWarning: Adding single vectors to a KeyedVectors which grows by one each time can be costly. Consider adding in batches or preallocating to the required size.\n",
            "  warnings.warn(\n"
          ]
        }
      ]
    },
    {
      "cell_type": "code",
      "source": [
        "len(fr_emb)"
      ],
      "metadata": {
        "id": "m2Y5y7jFWod8",
        "outputId": "1a07eb48-d1fc-4b69-b38f-9f173cdfd6cd",
        "colab": {
          "base_uri": "https://localhost:8080/",
          "height": 176
        }
      },
      "execution_count": 2,
      "outputs": [
        {
          "output_type": "error",
          "ename": "NameError",
          "evalue": "ignored",
          "traceback": [
            "\u001b[0;31m---------------------------------------------------------------------------\u001b[0m",
            "\u001b[0;31mNameError\u001b[0m                                 Traceback (most recent call last)",
            "\u001b[0;32m<ipython-input-2-10d8bcbae6cf>\u001b[0m in \u001b[0;36m<cell line: 1>\u001b[0;34m()\u001b[0m\n\u001b[0;32m----> 1\u001b[0;31m \u001b[0mlen\u001b[0m\u001b[0;34m(\u001b[0m\u001b[0mfr_emb\u001b[0m\u001b[0;34m)\u001b[0m\u001b[0;34m\u001b[0m\u001b[0;34m\u001b[0m\u001b[0m\n\u001b[0m",
            "\u001b[0;31mNameError\u001b[0m: name 'fr_emb' is not defined"
          ]
        }
      ]
    },
    {
      "cell_type": "code",
      "source": [
        "fr_emb.most_similar([np.matmul(en_emb[unk_token], mapping_svd)])"
      ],
      "metadata": {
        "id": "QvQEHjlpViun",
        "outputId": "6ad87fa4-11f1-4479-a576-fa2a46c70c63",
        "colab": {
          "base_uri": "https://localhost:8080/",
          "height": 297
        }
      },
      "execution_count": 106,
      "outputs": [
        {
          "output_type": "error",
          "ename": "ValueError",
          "evalue": "ignored",
          "traceback": [
            "\u001b[0;31m---------------------------------------------------------------------------\u001b[0m",
            "\u001b[0;31mValueError\u001b[0m                                Traceback (most recent call last)",
            "\u001b[0;32m<ipython-input-106-741283f77203>\u001b[0m in \u001b[0;36m<cell line: 1>\u001b[0;34m()\u001b[0m\n\u001b[0;32m----> 1\u001b[0;31m \u001b[0mfr_emb\u001b[0m\u001b[0;34m.\u001b[0m\u001b[0mmost_similar\u001b[0m\u001b[0;34m(\u001b[0m\u001b[0;34m[\u001b[0m\u001b[0mnp\u001b[0m\u001b[0;34m.\u001b[0m\u001b[0mmatmul\u001b[0m\u001b[0;34m(\u001b[0m\u001b[0men_emb\u001b[0m\u001b[0;34m[\u001b[0m\u001b[0munk_token\u001b[0m\u001b[0;34m]\u001b[0m\u001b[0;34m,\u001b[0m \u001b[0mmapping_svd\u001b[0m\u001b[0;34m)\u001b[0m\u001b[0;34m]\u001b[0m\u001b[0;34m)\u001b[0m\u001b[0;34m\u001b[0m\u001b[0;34m\u001b[0m\u001b[0m\n\u001b[0m",
            "\u001b[0;32m/usr/local/lib/python3.10/dist-packages/gensim/models/keyedvectors.py\u001b[0m in \u001b[0;36mmost_similar\u001b[0;34m(self, positive, negative, topn, clip_start, clip_end, restrict_vocab, indexer)\u001b[0m\n\u001b[1;32m    847\u001b[0m             \u001b[0;32mreturn\u001b[0m \u001b[0mindexer\u001b[0m\u001b[0;34m.\u001b[0m\u001b[0mmost_similar\u001b[0m\u001b[0;34m(\u001b[0m\u001b[0mmean\u001b[0m\u001b[0;34m,\u001b[0m \u001b[0mtopn\u001b[0m\u001b[0;34m)\u001b[0m\u001b[0;34m\u001b[0m\u001b[0;34m\u001b[0m\u001b[0m\n\u001b[1;32m    848\u001b[0m \u001b[0;34m\u001b[0m\u001b[0m\n\u001b[0;32m--> 849\u001b[0;31m         \u001b[0mdists\u001b[0m \u001b[0;34m=\u001b[0m \u001b[0mdot\u001b[0m\u001b[0;34m(\u001b[0m\u001b[0mself\u001b[0m\u001b[0;34m.\u001b[0m\u001b[0mvectors\u001b[0m\u001b[0;34m[\u001b[0m\u001b[0mclip_start\u001b[0m\u001b[0;34m:\u001b[0m\u001b[0mclip_end\u001b[0m\u001b[0;34m]\u001b[0m\u001b[0;34m,\u001b[0m \u001b[0mmean\u001b[0m\u001b[0;34m)\u001b[0m \u001b[0;34m/\u001b[0m \u001b[0mself\u001b[0m\u001b[0;34m.\u001b[0m\u001b[0mnorms\u001b[0m\u001b[0;34m[\u001b[0m\u001b[0mclip_start\u001b[0m\u001b[0;34m:\u001b[0m\u001b[0mclip_end\u001b[0m\u001b[0;34m]\u001b[0m\u001b[0;34m\u001b[0m\u001b[0;34m\u001b[0m\u001b[0m\n\u001b[0m\u001b[1;32m    850\u001b[0m         \u001b[0;32mif\u001b[0m \u001b[0;32mnot\u001b[0m \u001b[0mtopn\u001b[0m\u001b[0;34m:\u001b[0m\u001b[0;34m\u001b[0m\u001b[0;34m\u001b[0m\u001b[0m\n\u001b[1;32m    851\u001b[0m             \u001b[0;32mreturn\u001b[0m \u001b[0mdists\u001b[0m\u001b[0;34m\u001b[0m\u001b[0;34m\u001b[0m\u001b[0m\n",
            "\u001b[0;31mValueError\u001b[0m: operands could not be broadcast together with shapes (2000001,) (2000000,) "
          ]
        }
      ]
    },
    {
      "cell_type": "code",
      "source": [
        "help(en_emb)"
      ],
      "metadata": {
        "id": "aP-KBUj5RpSS",
        "outputId": "50346956-c75f-40b9-8e25-eea14d78b52c",
        "colab": {
          "base_uri": "https://localhost:8080/"
        }
      },
      "execution_count": 100,
      "outputs": [
        {
          "output_type": "stream",
          "name": "stdout",
          "text": [
            "Help on KeyedVectors in module gensim.models.keyedvectors object:\n",
            "\n",
            "class KeyedVectors(gensim.utils.SaveLoad)\n",
            " |  KeyedVectors(vector_size, count=0, dtype=<class 'numpy.float32'>, mapfile_path=None)\n",
            " |  \n",
            " |  Method resolution order:\n",
            " |      KeyedVectors\n",
            " |      gensim.utils.SaveLoad\n",
            " |      builtins.object\n",
            " |  \n",
            " |  Methods defined here:\n",
            " |  \n",
            " |  __contains__(self, key)\n",
            " |  \n",
            " |  __getitem__(self, key_or_keys)\n",
            " |      Get vector representation of `key_or_keys`.\n",
            " |      \n",
            " |      Parameters\n",
            " |      ----------\n",
            " |      key_or_keys : {str, list of str, int, list of int}\n",
            " |          Requested key or list-of-keys.\n",
            " |      \n",
            " |      Returns\n",
            " |      -------\n",
            " |      numpy.ndarray\n",
            " |          Vector representation for `key_or_keys` (1D if `key_or_keys` is single key, otherwise - 2D).\n",
            " |  \n",
            " |  __init__(self, vector_size, count=0, dtype=<class 'numpy.float32'>, mapfile_path=None)\n",
            " |      Mapping between keys (such as words) and vectors for :class:`~gensim.models.Word2Vec`\n",
            " |      and related models.\n",
            " |      \n",
            " |      Used to perform operations on the vectors such as vector lookup, distance, similarity etc.\n",
            " |      \n",
            " |      To support the needs of specific models and other downstream uses, you can also set\n",
            " |      additional attributes via the :meth:`~gensim.models.keyedvectors.KeyedVectors.set_vecattr`\n",
            " |      and :meth:`~gensim.models.keyedvectors.KeyedVectors.get_vecattr` methods.\n",
            " |      Note that all such attributes under the same `attr` name must have compatible `numpy`\n",
            " |      types, as the type and storage array for such attributes is established by the 1st time such\n",
            " |      `attr` is set.\n",
            " |      \n",
            " |      Parameters\n",
            " |      ----------\n",
            " |      vector_size : int\n",
            " |          Intended number of dimensions for all contained vectors.\n",
            " |      count : int, optional\n",
            " |          If provided, vectors wil be pre-allocated for at least this many vectors. (Otherwise\n",
            " |          they can be added later.)\n",
            " |      dtype : type, optional\n",
            " |          Vector dimensions will default to `np.float32` (AKA `REAL` in some Gensim code) unless\n",
            " |          another type is provided here.\n",
            " |      mapfile_path : string, optional\n",
            " |          Currently unused.\n",
            " |  \n",
            " |  __len__(self)\n",
            " |  \n",
            " |  __setitem__(self, keys, weights)\n",
            " |      Add keys and theirs vectors in a manual way.\n",
            " |      If some key is already in the vocabulary, old vector is replaced with the new one.\n",
            " |      \n",
            " |      This method is an alias for :meth:`~gensim.models.keyedvectors.KeyedVectors.add_vectors`\n",
            " |      with `replace=True`.\n",
            " |      \n",
            " |      Parameters\n",
            " |      ----------\n",
            " |      keys : {str, int, list of (str or int)}\n",
            " |          keys specified by their string or int ids.\n",
            " |      weights: list of numpy.ndarray or numpy.ndarray\n",
            " |          List of 1D np.array vectors or 2D np.array of vectors.\n",
            " |  \n",
            " |  __str__(self)\n",
            " |      Return str(self).\n",
            " |  \n",
            " |  add_vector(self, key, vector)\n",
            " |      Add one new vector at the given key, into existing slot if available.\n",
            " |      \n",
            " |      Warning: using this repeatedly is inefficient, requiring a full reallocation & copy,\n",
            " |      if this instance hasn't been preallocated to be ready for such incremental additions.\n",
            " |      \n",
            " |      Parameters\n",
            " |      ----------\n",
            " |      \n",
            " |      key: str\n",
            " |          Key identifier of the added vector.\n",
            " |      vector: numpy.ndarray\n",
            " |          1D numpy array with the vector values.\n",
            " |      \n",
            " |      Returns\n",
            " |      -------\n",
            " |      int\n",
            " |          Index of the newly added vector, so that ``self.vectors[result] == vector`` and\n",
            " |          ``self.index_to_key[result] == key``.\n",
            " |  \n",
            " |  add_vectors(self, keys, weights, extras=None, replace=False)\n",
            " |      Append keys and their vectors in a manual way.\n",
            " |      If some key is already in the vocabulary, the old vector is kept unless `replace` flag is True.\n",
            " |      \n",
            " |      Parameters\n",
            " |      ----------\n",
            " |      keys : list of (str or int)\n",
            " |          Keys specified by string or int ids.\n",
            " |      weights: list of numpy.ndarray or numpy.ndarray\n",
            " |          List of 1D np.array vectors or a 2D np.array of vectors.\n",
            " |      replace: bool, optional\n",
            " |          Flag indicating whether to replace vectors for keys which already exist in the map;\n",
            " |          if True - replace vectors, otherwise - keep old vectors.\n",
            " |  \n",
            " |  allocate_vecattrs(self, attrs=None, types=None)\n",
            " |      Ensure arrays for given per-vector extra-attribute names & types exist, at right size.\n",
            " |      \n",
            " |      The length of the index_to_key list is canonical 'intended size' of KeyedVectors,\n",
            " |      even if other properties (vectors array) hasn't yet been allocated or expanded.\n",
            " |      So this allocation targets that size.\n",
            " |  \n",
            " |  closer_than(self, key1, key2)\n",
            " |      Get all keys that are closer to `key1` than `key2` is to `key1`.\n",
            " |  \n",
            " |  distance(self, w1, w2)\n",
            " |      Compute cosine distance between two keys.\n",
            " |      Calculate 1 - :meth:`~gensim.models.keyedvectors.KeyedVectors.similarity`.\n",
            " |      \n",
            " |      Parameters\n",
            " |      ----------\n",
            " |      w1 : str\n",
            " |          Input key.\n",
            " |      w2 : str\n",
            " |          Input key.\n",
            " |      \n",
            " |      Returns\n",
            " |      -------\n",
            " |      float\n",
            " |          Distance between `w1` and `w2`.\n",
            " |  \n",
            " |  distances(self, word_or_vector, other_words=())\n",
            " |      Compute cosine distances from given word or vector to all words in `other_words`.\n",
            " |      If `other_words` is empty, return distance between `word_or_vector` and all words in vocab.\n",
            " |      \n",
            " |      Parameters\n",
            " |      ----------\n",
            " |      word_or_vector : {str, numpy.ndarray}\n",
            " |          Word or vector from which distances are to be computed.\n",
            " |      other_words : iterable of str\n",
            " |          For each word in `other_words` distance from `word_or_vector` is computed.\n",
            " |          If None or empty, distance of `word_or_vector` from all words in vocab is computed (including itself).\n",
            " |      \n",
            " |      Returns\n",
            " |      -------\n",
            " |      numpy.array\n",
            " |          Array containing distances to all words in `other_words` from input `word_or_vector`.\n",
            " |      \n",
            " |      Raises\n",
            " |      -----\n",
            " |      KeyError\n",
            " |          If either `word_or_vector` or any word in `other_words` is absent from vocab.\n",
            " |  \n",
            " |  doesnt_match(self, words)\n",
            " |      Which key from the given list doesn't go with the others?\n",
            " |      \n",
            " |      Parameters\n",
            " |      ----------\n",
            " |      words : list of str\n",
            " |          List of keys.\n",
            " |      \n",
            " |      Returns\n",
            " |      -------\n",
            " |      str\n",
            " |          The key further away from the mean of all keys.\n",
            " |  \n",
            " |  evaluate_word_analogies(self, analogies, restrict_vocab=300000, case_insensitive=True, dummy4unknown=False, similarity_function='most_similar')\n",
            " |      Compute performance of the model on an analogy test set.\n",
            " |      \n",
            " |      The accuracy is reported (printed to log and returned as a score) for each section separately,\n",
            " |      plus there's one aggregate summary at the end.\n",
            " |      \n",
            " |      This method corresponds to the `compute-accuracy` script of the original C word2vec.\n",
            " |      See also `Analogy (State of the art) <https://aclweb.org/aclwiki/Analogy_(State_of_the_art)>`_.\n",
            " |      \n",
            " |      Parameters\n",
            " |      ----------\n",
            " |      analogies : str\n",
            " |          Path to file, where lines are 4-tuples of words, split into sections by \": SECTION NAME\" lines.\n",
            " |          See `gensim/test/test_data/questions-words.txt` as example.\n",
            " |      restrict_vocab : int, optional\n",
            " |          Ignore all 4-tuples containing a word not in the first `restrict_vocab` words.\n",
            " |          This may be meaningful if you've sorted the model vocabulary by descending frequency (which is standard\n",
            " |          in modern word embedding models).\n",
            " |      case_insensitive : bool, optional\n",
            " |          If True - convert all words to their uppercase form before evaluating the performance.\n",
            " |          Useful to handle case-mismatch between training tokens and words in the test set.\n",
            " |          In case of multiple case variants of a single word, the vector for the first occurrence\n",
            " |          (also the most frequent if vocabulary is sorted) is taken.\n",
            " |      dummy4unknown : bool, optional\n",
            " |          If True - produce zero accuracies for 4-tuples with out-of-vocabulary words.\n",
            " |          Otherwise, these tuples are skipped entirely and not used in the evaluation.\n",
            " |      similarity_function : str, optional\n",
            " |          Function name used for similarity calculation.\n",
            " |      \n",
            " |      Returns\n",
            " |      -------\n",
            " |      score : float\n",
            " |          The overall evaluation score on the entire evaluation set\n",
            " |      sections : list of dict of {str : str or list of tuple of (str, str, str, str)}\n",
            " |          Results broken down by each section of the evaluation set. Each dict contains the name of the section\n",
            " |          under the key 'section', and lists of correctly and incorrectly predicted 4-tuples of words under the\n",
            " |          keys 'correct' and 'incorrect'.\n",
            " |  \n",
            " |  evaluate_word_pairs(self, pairs, delimiter='\\t', encoding='utf8', restrict_vocab=300000, case_insensitive=True, dummy4unknown=False)\n",
            " |      Compute correlation of the model with human similarity judgments.\n",
            " |      \n",
            " |      Notes\n",
            " |      -----\n",
            " |      More datasets can be found at\n",
            " |      * http://technion.ac.il/~ira.leviant/MultilingualVSMdata.html\n",
            " |      * https://www.cl.cam.ac.uk/~fh295/simlex.html.\n",
            " |      \n",
            " |      Parameters\n",
            " |      ----------\n",
            " |      pairs : str\n",
            " |          Path to file, where lines are 3-tuples, each consisting of a word pair and a similarity value.\n",
            " |          See `test/test_data/wordsim353.tsv` as example.\n",
            " |      delimiter : str, optional\n",
            " |          Separator in `pairs` file.\n",
            " |      restrict_vocab : int, optional\n",
            " |          Ignore all 4-tuples containing a word not in the first `restrict_vocab` words.\n",
            " |          This may be meaningful if you've sorted the model vocabulary by descending frequency (which is standard\n",
            " |          in modern word embedding models).\n",
            " |      case_insensitive : bool, optional\n",
            " |          If True - convert all words to their uppercase form before evaluating the performance.\n",
            " |          Useful to handle case-mismatch between training tokens and words in the test set.\n",
            " |          In case of multiple case variants of a single word, the vector for the first occurrence\n",
            " |          (also the most frequent if vocabulary is sorted) is taken.\n",
            " |      dummy4unknown : bool, optional\n",
            " |          If True - produce zero accuracies for 4-tuples with out-of-vocabulary words.\n",
            " |          Otherwise, these tuples are skipped entirely and not used in the evaluation.\n",
            " |      \n",
            " |      Returns\n",
            " |      -------\n",
            " |      pearson : tuple of (float, float)\n",
            " |          Pearson correlation coefficient with 2-tailed p-value.\n",
            " |      spearman : tuple of (float, float)\n",
            " |          Spearman rank-order correlation coefficient between the similarities from the dataset and the\n",
            " |          similarities produced by the model itself, with 2-tailed p-value.\n",
            " |      oov_ratio : float\n",
            " |          The ratio of pairs with unknown words.\n",
            " |  \n",
            " |  fill_norms(self, force=False)\n",
            " |      Ensure per-vector norms are available.\n",
            " |      \n",
            " |      Any code which modifies vectors should ensure the accompanying norms are\n",
            " |      either recalculated or 'None', to trigger a full recalculation later on-request.\n",
            " |  \n",
            " |  get_index(self, key, default=None)\n",
            " |      Return the integer index (slot/position) where the given key's vector is stored in the\n",
            " |      backing vectors array.\n",
            " |  \n",
            " |  get_mean_vector(self, keys, weights=None, pre_normalize=True, post_normalize=False, ignore_missing=True)\n",
            " |      Get the mean vector for a given list of keys.\n",
            " |      \n",
            " |      Parameters\n",
            " |      ----------\n",
            " |      \n",
            " |      keys : list of (str or int or ndarray)\n",
            " |          Keys specified by string or int ids or numpy array.\n",
            " |      weights : list of float or numpy.ndarray, optional\n",
            " |          1D array of same size of `keys` specifying the weight for each key.\n",
            " |      pre_normalize : bool, optional\n",
            " |          Flag indicating whether to normalize each keyvector before taking mean.\n",
            " |          If False, individual keyvector will not be normalized.\n",
            " |      post_normalize: bool, optional\n",
            " |          Flag indicating whether to normalize the final mean vector.\n",
            " |          If True, normalized mean vector will be return.\n",
            " |      ignore_missing : bool, optional\n",
            " |          If False, will raise error if a key doesn't exist in vocabulary.\n",
            " |      \n",
            " |      Returns\n",
            " |      -------\n",
            " |      \n",
            " |      numpy.ndarray\n",
            " |          Mean vector for the list of keys.\n",
            " |      \n",
            " |      Raises\n",
            " |      ------\n",
            " |      \n",
            " |      ValueError\n",
            " |          If the size of the list of `keys` and `weights` doesn't match.\n",
            " |      KeyError\n",
            " |          If any of the key doesn't exist in vocabulary and `ignore_missing` is false.\n",
            " |  \n",
            " |  get_normed_vectors(self)\n",
            " |      Get all embedding vectors normalized to unit L2 length (euclidean), as a 2D numpy array.\n",
            " |      \n",
            " |      To see which key corresponds to which vector = which array row, refer\n",
            " |      to the :attr:`~gensim.models.keyedvectors.KeyedVectors.index_to_key` attribute.\n",
            " |      \n",
            " |      Returns\n",
            " |      -------\n",
            " |      numpy.ndarray:\n",
            " |          2D numpy array of shape ``(number_of_keys, embedding dimensionality)``, L2-normalized\n",
            " |          along the rows (key vectors).\n",
            " |  \n",
            " |  get_vecattr(self, key, attr)\n",
            " |      Get attribute value associated with given key.\n",
            " |      \n",
            " |      Parameters\n",
            " |      ----------\n",
            " |      \n",
            " |      key : str\n",
            " |          Vector key for which to fetch the attribute value.\n",
            " |      attr : str\n",
            " |          Name of the additional attribute to fetch for the given key.\n",
            " |      \n",
            " |      Returns\n",
            " |      -------\n",
            " |      \n",
            " |      object\n",
            " |          Value of the additional attribute fetched for the given key.\n",
            " |  \n",
            " |  get_vector(self, key, norm=False)\n",
            " |      Get the key's vector, as a 1D numpy array.\n",
            " |      \n",
            " |      Parameters\n",
            " |      ----------\n",
            " |      \n",
            " |      key : str\n",
            " |          Key for vector to return.\n",
            " |      norm : bool, optional\n",
            " |          If True, the resulting vector will be L2-normalized (unit Euclidean length).\n",
            " |      \n",
            " |      Returns\n",
            " |      -------\n",
            " |      \n",
            " |      numpy.ndarray\n",
            " |          Vector for the specified key.\n",
            " |      \n",
            " |      Raises\n",
            " |      ------\n",
            " |      \n",
            " |      KeyError\n",
            " |          If the given key doesn't exist.\n",
            " |  \n",
            " |  has_index_for(self, key)\n",
            " |      Can this model return a single index for this key?\n",
            " |      \n",
            " |      Subclasses that synthesize vectors for out-of-vocabulary words (like\n",
            " |      :class:`~gensim.models.fasttext.FastText`) may respond True for a\n",
            " |      simple `word in wv` (`__contains__()`) check but False for this\n",
            " |      more-specific check.\n",
            " |  \n",
            " |  init_sims(self, replace=False)\n",
            " |      Precompute data helpful for bulk similarity calculations.\n",
            " |      \n",
            " |      :meth:`~gensim.models.keyedvectors.KeyedVectors.fill_norms` now preferred for this purpose.\n",
            " |      \n",
            " |      Parameters\n",
            " |      ----------\n",
            " |      \n",
            " |      replace : bool, optional\n",
            " |          If True - forget the original vectors and only keep the normalized ones.\n",
            " |      \n",
            " |      Warnings\n",
            " |      --------\n",
            " |      \n",
            " |      You **cannot sensibly continue training** after doing a replace on a model's\n",
            " |      internal KeyedVectors, and a replace is no longer necessary to save RAM. Do not use this method.\n",
            " |  \n",
            " |  intersect_word2vec_format(self, fname, lockf=0.0, binary=False, encoding='utf8', unicode_errors='strict')\n",
            " |      Merge in an input-hidden weight matrix loaded from the original C word2vec-tool format,\n",
            " |      where it intersects with the current vocabulary.\n",
            " |      \n",
            " |      No words are added to the existing vocabulary, but intersecting words adopt the file's weights, and\n",
            " |      non-intersecting words are left alone.\n",
            " |      \n",
            " |      Parameters\n",
            " |      ----------\n",
            " |      fname : str\n",
            " |          The file path to load the vectors from.\n",
            " |      lockf : float, optional\n",
            " |          Lock-factor value to be set for any imported word-vectors; the\n",
            " |          default value of 0.0 prevents further updating of the vector during subsequent\n",
            " |          training. Use 1.0 to allow further training updates of merged vectors.\n",
            " |      binary : bool, optional\n",
            " |          If True, `fname` is in the binary word2vec C format.\n",
            " |      encoding : str, optional\n",
            " |          Encoding of `text` for `unicode` function (python2 only).\n",
            " |      unicode_errors : str, optional\n",
            " |          Error handling behaviour, used as parameter for `unicode` function (python2 only).\n",
            " |  \n",
            " |  most_similar(self, positive=None, negative=None, topn=10, clip_start=0, clip_end=None, restrict_vocab=None, indexer=None)\n",
            " |      Find the top-N most similar keys.\n",
            " |      Positive keys contribute positively towards the similarity, negative keys negatively.\n",
            " |      \n",
            " |      This method computes cosine similarity between a simple mean of the projection\n",
            " |      weight vectors of the given keys and the vectors for each key in the model.\n",
            " |      The method corresponds to the `word-analogy` and `distance` scripts in the original\n",
            " |      word2vec implementation.\n",
            " |      \n",
            " |      Parameters\n",
            " |      ----------\n",
            " |      positive : list of (str or int or ndarray) or list of ((str,float) or (int,float) or (ndarray,float)), optional\n",
            " |          List of keys that contribute positively. If tuple, second element specifies the weight (default `1.0`)\n",
            " |      negative : list of (str or int or ndarray) or list of ((str,float) or (int,float) or (ndarray,float)), optional\n",
            " |          List of keys that contribute negatively. If tuple, second element specifies the weight (default `-1.0`)\n",
            " |      topn : int or None, optional\n",
            " |          Number of top-N similar keys to return, when `topn` is int. When `topn` is None,\n",
            " |          then similarities for all keys are returned.\n",
            " |      clip_start : int\n",
            " |          Start clipping index.\n",
            " |      clip_end : int\n",
            " |          End clipping index.\n",
            " |      restrict_vocab : int, optional\n",
            " |          Optional integer which limits the range of vectors which\n",
            " |          are searched for most-similar values. For example, restrict_vocab=10000 would\n",
            " |          only check the first 10000 key vectors in the vocabulary order. (This may be\n",
            " |          meaningful if you've sorted the vocabulary by descending frequency.) If\n",
            " |          specified, overrides any values of ``clip_start`` or ``clip_end``.\n",
            " |      \n",
            " |      Returns\n",
            " |      -------\n",
            " |      list of (str, float) or numpy.array\n",
            " |          When `topn` is int, a sequence of (key, similarity) is returned.\n",
            " |          When `topn` is None, then similarities for all keys are returned as a\n",
            " |          one-dimensional numpy array with the size of the vocabulary.\n",
            " |  \n",
            " |  most_similar_cosmul(self, positive=None, negative=None, topn=10, restrict_vocab=None)\n",
            " |      Find the top-N most similar words, using the multiplicative combination objective,\n",
            " |      proposed by `Omer Levy and Yoav Goldberg \"Linguistic Regularities in Sparse and Explicit Word Representations\"\n",
            " |      <http://www.aclweb.org/anthology/W14-1618>`_. Positive words still contribute positively towards the similarity,\n",
            " |      negative words negatively, but with less susceptibility to one large distance dominating the calculation.\n",
            " |      In the common analogy-solving case, of two positive and one negative examples,\n",
            " |      this method is equivalent to the \"3CosMul\" objective (equation (4)) of Levy and Goldberg.\n",
            " |      \n",
            " |      Additional positive or negative examples contribute to the numerator or denominator,\n",
            " |      respectively - a potentially sensible but untested extension of the method.\n",
            " |      With a single positive example, rankings will be the same as in the default\n",
            " |      :meth:`~gensim.models.keyedvectors.KeyedVectors.most_similar`.\n",
            " |      \n",
            " |      Allows calls like most_similar_cosmul('dog', 'cat'), as a shorthand for\n",
            " |      most_similar_cosmul(['dog'], ['cat']) where 'dog' is positive and 'cat' negative\n",
            " |      \n",
            " |      Parameters\n",
            " |      ----------\n",
            " |      positive : list of str, optional\n",
            " |          List of words that contribute positively.\n",
            " |      negative : list of str, optional\n",
            " |          List of words that contribute negatively.\n",
            " |      topn : int or None, optional\n",
            " |          Number of top-N similar words to return, when `topn` is int. When `topn` is None,\n",
            " |          then similarities for all words are returned.\n",
            " |      restrict_vocab : int or None, optional\n",
            " |          Optional integer which limits the range of vectors which are searched for most-similar values.\n",
            " |          For example, restrict_vocab=10000 would only check the first 10000 node vectors in the vocabulary order.\n",
            " |          This may be meaningful if vocabulary is sorted by descending frequency.\n",
            " |      \n",
            " |      \n",
            " |      Returns\n",
            " |      -------\n",
            " |      list of (str, float) or numpy.array\n",
            " |          When `topn` is int, a sequence of (word, similarity) is returned.\n",
            " |          When `topn` is None, then similarities for all words are returned as a\n",
            " |          one-dimensional numpy array with the size of the vocabulary.\n",
            " |  \n",
            " |  most_similar_to_given(self, key1, keys_list)\n",
            " |      Get the `key` from `keys_list` most similar to `key1`.\n",
            " |  \n",
            " |  n_similarity(self, ws1, ws2)\n",
            " |      Compute cosine similarity between two sets of keys.\n",
            " |      \n",
            " |      Parameters\n",
            " |      ----------\n",
            " |      ws1 : list of str\n",
            " |          Sequence of keys.\n",
            " |      ws2: list of str\n",
            " |          Sequence of keys.\n",
            " |      \n",
            " |      Returns\n",
            " |      -------\n",
            " |      numpy.ndarray\n",
            " |          Similarities between `ws1` and `ws2`.\n",
            " |  \n",
            " |  rank(self, key1, key2)\n",
            " |      Rank of the distance of `key2` from `key1`, in relation to distances of all keys from `key1`.\n",
            " |  \n",
            " |  rank_by_centrality(self, words, use_norm=True)\n",
            " |      Rank the given words by similarity to the centroid of all the words.\n",
            " |      \n",
            " |      Parameters\n",
            " |      ----------\n",
            " |      words : list of str\n",
            " |          List of keys.\n",
            " |      use_norm : bool, optional\n",
            " |          Whether to calculate centroid using unit-normed vectors; default True.\n",
            " |      \n",
            " |      Returns\n",
            " |      -------\n",
            " |      list of (float, str)\n",
            " |          Ranked list of (similarity, key), most-similar to the centroid first.\n",
            " |  \n",
            " |  relative_cosine_similarity(self, wa, wb, topn=10)\n",
            " |      Compute the relative cosine similarity between two words given top-n similar words,\n",
            " |      by `Artuur Leeuwenberga, Mihaela Velab , Jon Dehdaribc, Josef van Genabithbc \"A Minimally Supervised Approach\n",
            " |      for Synonym Extraction with Word Embeddings\" <https://ufal.mff.cuni.cz/pbml/105/art-leeuwenberg-et-al.pdf>`_.\n",
            " |      \n",
            " |      To calculate relative cosine similarity between two words, equation (1) of the paper is used.\n",
            " |      For WordNet synonyms, if rcs(topn=10) is greater than 0.10 then wa and wb are more similar than\n",
            " |      any arbitrary word pairs.\n",
            " |      \n",
            " |      Parameters\n",
            " |      ----------\n",
            " |      wa: str\n",
            " |          Word for which we have to look top-n similar word.\n",
            " |      wb: str\n",
            " |          Word for which we evaluating relative cosine similarity with wa.\n",
            " |      topn: int, optional\n",
            " |          Number of top-n similar words to look with respect to wa.\n",
            " |      \n",
            " |      Returns\n",
            " |      -------\n",
            " |      numpy.float64\n",
            " |          Relative cosine similarity between wa and wb.\n",
            " |  \n",
            " |  resize_vectors(self, seed=0)\n",
            " |      Make underlying vectors match index_to_key size; random-initialize any new rows.\n",
            " |  \n",
            " |  save(self, *args, **kwargs)\n",
            " |      Save KeyedVectors to a file.\n",
            " |      \n",
            " |      Parameters\n",
            " |      ----------\n",
            " |      fname : str\n",
            " |          Path to the output file.\n",
            " |      \n",
            " |      See Also\n",
            " |      --------\n",
            " |      :meth:`~gensim.models.keyedvectors.KeyedVectors.load`\n",
            " |          Load a previously saved model.\n",
            " |  \n",
            " |  save_word2vec_format(self, fname, fvocab=None, binary=False, total_vec=None, write_header=True, prefix='', append=False, sort_attr='count')\n",
            " |      Store the input-hidden weight matrix in the same format used by the original\n",
            " |      C word2vec-tool, for compatibility.\n",
            " |      \n",
            " |      Parameters\n",
            " |      ----------\n",
            " |      fname : str\n",
            " |          File path to save the vectors to.\n",
            " |      fvocab : str, optional\n",
            " |          File path to save additional vocabulary information to. `None` to not store the vocabulary.\n",
            " |      binary : bool, optional\n",
            " |          If True, the data wil be saved in binary word2vec format, else it will be saved in plain text.\n",
            " |      total_vec : int, optional\n",
            " |          Explicitly specify total number of vectors\n",
            " |          (in case word vectors are appended with document vectors afterwards).\n",
            " |      write_header : bool, optional\n",
            " |          If False, don't write the 1st line declaring the count of vectors and dimensions.\n",
            " |          This is the format used by e.g. gloVe vectors.\n",
            " |      prefix : str, optional\n",
            " |          String to prepend in front of each stored word. Default = no prefix.\n",
            " |      append : bool, optional\n",
            " |          If set, open `fname` in `ab` mode instead of the default `wb` mode.\n",
            " |      sort_attr : str, optional\n",
            " |          Sort the output vectors in descending order of this attribute. Default: most frequent keys first.\n",
            " |  \n",
            " |  set_vecattr(self, key, attr, val)\n",
            " |      Set attribute associated with the given key to value.\n",
            " |      \n",
            " |      Parameters\n",
            " |      ----------\n",
            " |      \n",
            " |      key : str\n",
            " |          Store the attribute for this vector key.\n",
            " |      attr : str\n",
            " |          Name of the additional attribute to store for the given key.\n",
            " |      val : object\n",
            " |          Value of the additional attribute to store for the given key.\n",
            " |      \n",
            " |      Returns\n",
            " |      -------\n",
            " |      \n",
            " |      None\n",
            " |  \n",
            " |  similar_by_key(self, key, topn=10, restrict_vocab=None)\n",
            " |      Find the top-N most similar keys.\n",
            " |      \n",
            " |      Parameters\n",
            " |      ----------\n",
            " |      key : str\n",
            " |          Key\n",
            " |      topn : int or None, optional\n",
            " |          Number of top-N similar keys to return. If topn is None, similar_by_key returns\n",
            " |          the vector of similarity scores.\n",
            " |      restrict_vocab : int, optional\n",
            " |          Optional integer which limits the range of vectors which\n",
            " |          are searched for most-similar values. For example, restrict_vocab=10000 would\n",
            " |          only check the first 10000 key vectors in the vocabulary order. (This may be\n",
            " |          meaningful if you've sorted the vocabulary by descending frequency.)\n",
            " |      \n",
            " |      Returns\n",
            " |      -------\n",
            " |      list of (str, float) or numpy.array\n",
            " |          When `topn` is int, a sequence of (key, similarity) is returned.\n",
            " |          When `topn` is None, then similarities for all keys are returned as a\n",
            " |          one-dimensional numpy array with the size of the vocabulary.\n",
            " |  \n",
            " |  similar_by_vector(self, vector, topn=10, restrict_vocab=None)\n",
            " |      Find the top-N most similar keys by vector.\n",
            " |      \n",
            " |      Parameters\n",
            " |      ----------\n",
            " |      vector : numpy.array\n",
            " |          Vector from which similarities are to be computed.\n",
            " |      topn : int or None, optional\n",
            " |          Number of top-N similar keys to return, when `topn` is int. When `topn` is None,\n",
            " |          then similarities for all keys are returned.\n",
            " |      restrict_vocab : int, optional\n",
            " |          Optional integer which limits the range of vectors which\n",
            " |          are searched for most-similar values. For example, restrict_vocab=10000 would\n",
            " |          only check the first 10000 key vectors in the vocabulary order. (This may be\n",
            " |          meaningful if you've sorted the vocabulary by descending frequency.)\n",
            " |      \n",
            " |      Returns\n",
            " |      -------\n",
            " |      list of (str, float) or numpy.array\n",
            " |          When `topn` is int, a sequence of (key, similarity) is returned.\n",
            " |          When `topn` is None, then similarities for all keys are returned as a\n",
            " |          one-dimensional numpy array with the size of the vocabulary.\n",
            " |  \n",
            " |  similar_by_word(self, word, topn=10, restrict_vocab=None)\n",
            " |      Compatibility alias for similar_by_key().\n",
            " |  \n",
            " |  similarity(self, w1, w2)\n",
            " |      Compute cosine similarity between two keys.\n",
            " |      \n",
            " |      Parameters\n",
            " |      ----------\n",
            " |      w1 : str\n",
            " |          Input key.\n",
            " |      w2 : str\n",
            " |          Input key.\n",
            " |      \n",
            " |      Returns\n",
            " |      -------\n",
            " |      float\n",
            " |          Cosine similarity between `w1` and `w2`.\n",
            " |  \n",
            " |  similarity_unseen_docs(self, *args, **kwargs)\n",
            " |  \n",
            " |  sort_by_descending_frequency(self)\n",
            " |      Sort the vocabulary so the most frequent words have the lowest indexes.\n",
            " |  \n",
            " |  unit_normalize_all(self)\n",
            " |      Destructively scale all vectors to unit-length.\n",
            " |      \n",
            " |      You cannot sensibly continue training after such a step.\n",
            " |  \n",
            " |  vectors_for_all(self, keys: Iterable, allow_inference: bool = True, copy_vecattrs: bool = False) -> 'KeyedVectors'\n",
            " |      Produce vectors for all given keys as a new :class:`KeyedVectors` object.\n",
            " |      \n",
            " |      Notes\n",
            " |      -----\n",
            " |      The keys will always be deduplicated. For optimal performance, you should not pass entire\n",
            " |      corpora to the method. Instead, you should construct a dictionary of unique words in your\n",
            " |      corpus:\n",
            " |      \n",
            " |      >>> from collections import Counter\n",
            " |      >>> import itertools\n",
            " |      >>>\n",
            " |      >>> from gensim.models import FastText\n",
            " |      >>> from gensim.test.utils import datapath, common_texts\n",
            " |      >>>\n",
            " |      >>> model_corpus_file = datapath('lee_background.cor')  # train word vectors on some corpus\n",
            " |      >>> model = FastText(corpus_file=model_corpus_file, vector_size=20, min_count=1)\n",
            " |      >>> corpus = common_texts  # infer word vectors for words from another corpus\n",
            " |      >>> word_counts = Counter(itertools.chain.from_iterable(corpus))  # count words in your corpus\n",
            " |      >>> words_by_freq = (k for k, v in word_counts.most_common())\n",
            " |      >>> word_vectors = model.wv.vectors_for_all(words_by_freq)  # create word-vectors for words in your corpus\n",
            " |      \n",
            " |      Parameters\n",
            " |      ----------\n",
            " |      keys : iterable\n",
            " |          The keys that will be vectorized.\n",
            " |      allow_inference : bool, optional\n",
            " |          In subclasses such as :class:`~gensim.models.fasttext.FastTextKeyedVectors`,\n",
            " |          vectors for out-of-vocabulary keys (words) may be inferred. Default is True.\n",
            " |      copy_vecattrs : bool, optional\n",
            " |          Additional attributes set via the :meth:`KeyedVectors.set_vecattr` method\n",
            " |          will be preserved in the produced :class:`KeyedVectors` object. Default is False.\n",
            " |          To ensure that *all* the produced vectors will have vector attributes assigned,\n",
            " |          you should set `allow_inference=False`.\n",
            " |      \n",
            " |      Returns\n",
            " |      -------\n",
            " |      keyedvectors : :class:`~gensim.models.keyedvectors.KeyedVectors`\n",
            " |          Vectors for all the given keys.\n",
            " |  \n",
            " |  wmdistance(self, document1, document2, norm=True)\n",
            " |      Compute the Word Mover's Distance between two documents.\n",
            " |      \n",
            " |      When using this code, please consider citing the following papers:\n",
            " |      \n",
            " |      * `Rémi Flamary et al. \"POT: Python Optimal Transport\"\n",
            " |        <https://jmlr.org/papers/v22/20-451.html>`_\n",
            " |      * `Matt Kusner et al. \"From Word Embeddings To Document Distances\"\n",
            " |        <http://proceedings.mlr.press/v37/kusnerb15.pdf>`_.\n",
            " |      \n",
            " |      Parameters\n",
            " |      ----------\n",
            " |      document1 : list of str\n",
            " |          Input document.\n",
            " |      document2 : list of str\n",
            " |          Input document.\n",
            " |      norm : boolean\n",
            " |          Normalize all word vectors to unit length before computing the distance?\n",
            " |          Defaults to True.\n",
            " |      \n",
            " |      Returns\n",
            " |      -------\n",
            " |      float\n",
            " |          Word Mover's distance between `document1` and `document2`.\n",
            " |      \n",
            " |      Warnings\n",
            " |      --------\n",
            " |      This method only works if `POT <https://pypi.org/project/POT/>`_ is installed.\n",
            " |      \n",
            " |      If one of the documents have no words that exist in the vocab, `float('inf')` (i.e. infinity)\n",
            " |      will be returned.\n",
            " |      \n",
            " |      Raises\n",
            " |      ------\n",
            " |      ImportError\n",
            " |          If `POT <https://pypi.org/project/POT/>`_  isn't installed.\n",
            " |  \n",
            " |  word_vec(self, *args, **kwargs)\n",
            " |      Compatibility alias for get_vector(); must exist so subclass calls reach subclass get_vector().\n",
            " |  \n",
            " |  words_closer_than(self, word1, word2)\n",
            " |  \n",
            " |  ----------------------------------------------------------------------\n",
            " |  Class methods defined here:\n",
            " |  \n",
            " |  load_word2vec_format(fname, fvocab=None, binary=False, encoding='utf8', unicode_errors='strict', limit=None, datatype=<class 'numpy.float32'>, no_header=False) from builtins.type\n",
            " |      Load KeyedVectors from a file produced by the original C word2vec-tool format.\n",
            " |      \n",
            " |      Warnings\n",
            " |      --------\n",
            " |      The information stored in the file is incomplete (the binary tree is missing),\n",
            " |      so while you can query for word similarity etc., you cannot continue training\n",
            " |      with a model loaded this way.\n",
            " |      \n",
            " |      Parameters\n",
            " |      ----------\n",
            " |      fname : str\n",
            " |          The file path to the saved word2vec-format file.\n",
            " |      fvocab : str, optional\n",
            " |          File path to the vocabulary.Word counts are read from `fvocab` filename, if set\n",
            " |          (this is the file generated by `-save-vocab` flag of the original C tool).\n",
            " |      binary : bool, optional\n",
            " |          If True, indicates whether the data is in binary word2vec format.\n",
            " |      encoding : str, optional\n",
            " |          If you trained the C model using non-utf8 encoding for words, specify that encoding in `encoding`.\n",
            " |      unicode_errors : str, optional\n",
            " |          default 'strict', is a string suitable to be passed as the `errors`\n",
            " |          argument to the unicode() (Python 2.x) or str() (Python 3.x) function. If your source\n",
            " |          file may include word tokens truncated in the middle of a multibyte unicode character\n",
            " |          (as is common from the original word2vec.c tool), 'ignore' or 'replace' may help.\n",
            " |      limit : int, optional\n",
            " |          Sets a maximum number of word-vectors to read from the file. The default,\n",
            " |          None, means read all.\n",
            " |      datatype : type, optional\n",
            " |          (Experimental) Can coerce dimensions to a non-default float type (such as `np.float16`) to save memory.\n",
            " |          Such types may result in much slower bulk operations or incompatibility with optimized routines.)\n",
            " |      no_header : bool, optional\n",
            " |          Default False means a usual word2vec-format file, with a 1st line declaring the count of\n",
            " |          following vectors & number of dimensions. If True, the file is assumed to lack a declaratory\n",
            " |          (vocab_size, vector_size) header and instead start with the 1st vector, and an extra\n",
            " |          reading-pass will be used to discover the number of vectors. Works only with `binary=False`.\n",
            " |      \n",
            " |      Returns\n",
            " |      -------\n",
            " |      :class:`~gensim.models.keyedvectors.KeyedVectors`\n",
            " |          Loaded model.\n",
            " |  \n",
            " |  ----------------------------------------------------------------------\n",
            " |  Static methods defined here:\n",
            " |  \n",
            " |  cosine_similarities(vector_1, vectors_all)\n",
            " |      Compute cosine similarities between one vector and a set of other vectors.\n",
            " |      \n",
            " |      Parameters\n",
            " |      ----------\n",
            " |      vector_1 : numpy.ndarray\n",
            " |          Vector from which similarities are to be computed, expected shape (dim,).\n",
            " |      vectors_all : numpy.ndarray\n",
            " |          For each row in vectors_all, distance from vector_1 is computed, expected shape (num_vectors, dim).\n",
            " |      \n",
            " |      Returns\n",
            " |      -------\n",
            " |      numpy.ndarray\n",
            " |          Contains cosine distance between `vector_1` and each row in `vectors_all`, shape (num_vectors,).\n",
            " |  \n",
            " |  log_accuracy(section)\n",
            " |  \n",
            " |  log_evaluate_word_pairs(pearson, spearman, oov, pairs)\n",
            " |  \n",
            " |  ----------------------------------------------------------------------\n",
            " |  Data descriptors defined here:\n",
            " |  \n",
            " |  index2entity\n",
            " |  \n",
            " |  index2word\n",
            " |  \n",
            " |  vectors_norm\n",
            " |  \n",
            " |  vocab\n",
            " |  \n",
            " |  ----------------------------------------------------------------------\n",
            " |  Methods inherited from gensim.utils.SaveLoad:\n",
            " |  \n",
            " |  add_lifecycle_event(self, event_name, log_level=20, **event)\n",
            " |      Append an event into the `lifecycle_events` attribute of this object, and also\n",
            " |      optionally log the event at `log_level`.\n",
            " |      \n",
            " |      Events are important moments during the object's life, such as \"model created\",\n",
            " |      \"model saved\", \"model loaded\", etc.\n",
            " |      \n",
            " |      The `lifecycle_events` attribute is persisted across object's :meth:`~gensim.utils.SaveLoad.save`\n",
            " |      and :meth:`~gensim.utils.SaveLoad.load` operations. It has no impact on the use of the model,\n",
            " |      but is useful during debugging and support.\n",
            " |      \n",
            " |      Set `self.lifecycle_events = None` to disable this behaviour. Calls to `add_lifecycle_event()`\n",
            " |      will not record events into `self.lifecycle_events` then.\n",
            " |      \n",
            " |      Parameters\n",
            " |      ----------\n",
            " |      event_name : str\n",
            " |          Name of the event. Can be any label, e.g. \"created\", \"stored\" etc.\n",
            " |      event : dict\n",
            " |          Key-value mapping to append to `self.lifecycle_events`. Should be JSON-serializable, so keep it simple.\n",
            " |          Can be empty.\n",
            " |      \n",
            " |          This method will automatically add the following key-values to `event`, so you don't have to specify them:\n",
            " |      \n",
            " |          - `datetime`: the current date & time\n",
            " |          - `gensim`: the current Gensim version\n",
            " |          - `python`: the current Python version\n",
            " |          - `platform`: the current platform\n",
            " |          - `event`: the name of this event\n",
            " |      log_level : int\n",
            " |          Also log the complete event dict, at the specified log level. Set to False to not log at all.\n",
            " |  \n",
            " |  ----------------------------------------------------------------------\n",
            " |  Class methods inherited from gensim.utils.SaveLoad:\n",
            " |  \n",
            " |  load(fname, mmap=None) from builtins.type\n",
            " |      Load an object previously saved using :meth:`~gensim.utils.SaveLoad.save` from a file.\n",
            " |      \n",
            " |      Parameters\n",
            " |      ----------\n",
            " |      fname : str\n",
            " |          Path to file that contains needed object.\n",
            " |      mmap : str, optional\n",
            " |          Memory-map option.  If the object was saved with large arrays stored separately, you can load these arrays\n",
            " |          via mmap (shared memory) using `mmap='r'.\n",
            " |          If the file being loaded is compressed (either '.gz' or '.bz2'), then `mmap=None` **must be** set.\n",
            " |      \n",
            " |      See Also\n",
            " |      --------\n",
            " |      :meth:`~gensim.utils.SaveLoad.save`\n",
            " |          Save object to file.\n",
            " |      \n",
            " |      Returns\n",
            " |      -------\n",
            " |      object\n",
            " |          Object loaded from `fname`.\n",
            " |      \n",
            " |      Raises\n",
            " |      ------\n",
            " |      AttributeError\n",
            " |          When called on an object instance instead of class (this is a class method).\n",
            " |  \n",
            " |  ----------------------------------------------------------------------\n",
            " |  Data descriptors inherited from gensim.utils.SaveLoad:\n",
            " |  \n",
            " |  __dict__\n",
            " |      dictionary for instance variables (if defined)\n",
            " |  \n",
            " |  __weakref__\n",
            " |      list of weak references to the object (if defined)\n",
            "\n"
          ]
        }
      ]
    },
    {
      "cell_type": "code",
      "execution_count": null,
      "metadata": {
        "id": "FGksC7l_NMi9"
      },
      "outputs": [],
      "source": [
        "def translate(sentence):\n",
        "    \"\"\"\n",
        "    :args:\n",
        "        sentence - sentence in English (str)\n",
        "    :returns:\n",
        "        translation - sentence in French (str)\n",
        "\n",
        "    * find english embedding for each word in sentence\n",
        "    * transform english embedding vector\n",
        "    * find nearest french word and replace\n",
        "    \"\"\"\n",
        "    translated = []\n",
        "    tokenizer = WordPunctTokenizer()\n",
        "    tok_sent = tokenizer.tokenize(sentence)\n",
        "\n",
        "    # YOUR CODE HERE\n",
        "\n",
        "    return \" \".join(translated)"
      ]
    },
    {
      "cell_type": "code",
      "execution_count": null,
      "metadata": {
        "id": "4hbbMy-tNxlf"
      },
      "outputs": [],
      "source": [
        "assert translate(\".\") == \".\"\n",
        "assert translate(\"I walk around Paris\") == \"je marcher autour Paris\""
      ]
    },
    {
      "cell_type": "markdown",
      "metadata": {
        "id": "ia6I2ce7O_HI"
      },
      "source": [
        "Now you can play with your model and try to get as accurate translations as possible. **Note**: one big issue is out-of-vocabulary words. Try to think of various ways of handling it (you can start with translating each of them to a special **UNK** token and then move to more sophisticated approaches). Good luck!"
      ]
    },
    {
      "cell_type": "code",
      "source": [
        "import numpy as np\n",
        "import pandas as pd\n",
        "import nltk\n",
        "from nltk.corpus import stopwords\n",
        "from nltk.stem import PorterStemmer\n",
        "from nltk.tokenize import TweetTokenizer\n",
        "from nltk.corpus import stopwords, twitter_samples\n",
        "import re\n",
        "import string\n",
        "\n",
        "nltk.download('twitter_samples')\n",
        "nltk.download('stopwords')\n",
        "\n",
        "def process_tweet(tweet):\n",
        "    '''\n",
        "    Input:\n",
        "        tweet: a string containing a tweet\n",
        "    Output:\n",
        "        tweets_clean: a list of words containing the processed tweet\n",
        "\n",
        "    '''\n",
        "    stemmer = PorterStemmer()\n",
        "    stopwords_english = stopwords.words('english')\n",
        "    # remove stock market tickers like $GE\n",
        "    tweet = re.sub(r'\\$\\w*', '', tweet)\n",
        "    # remove old style retweet text \"RT\"\n",
        "    tweet = re.sub(r'^RT[\\s]+', '', tweet)\n",
        "    # remove hyperlinks\n",
        "    tweet = re.sub(r'https?:\\/\\/.*[\\r\\n]*', '', tweet)\n",
        "    # remove hashtags\n",
        "    # only removing the hash # sign from the word\n",
        "    tweet = re.sub(r'#', '', tweet)\n",
        "    # tokenize tweets\n",
        "    tokenizer = TweetTokenizer(preserve_case=False, strip_handles=True,\n",
        "                               reduce_len=True)\n",
        "    tweet_tokens = tokenizer.tokenize(tweet)\n",
        "\n",
        "    tweets_clean = []\n",
        "    for word in tweet_tokens:\n",
        "        # if (word not in stopwords_english and  # remove stopwords\n",
        "        #     word not in string.punctuation):  # remove punctuation\n",
        "        if word not in string.punctuation:\n",
        "            tweets_clean.append(word)\n",
        "            # stem_word = stemmer.stem(word)  # stemming word\n",
        "            # tweets_clean.append(stem_word)\n",
        "\n",
        "    return \" \".join(tweets_clean)"
      ],
      "metadata": {
        "id": "17Azt44TW9s3",
        "outputId": "d230d2e5-4c2a-4e18-90cc-5227e3abfade",
        "colab": {
          "base_uri": "https://localhost:8080/"
        }
      },
      "execution_count": null,
      "outputs": [
        {
          "output_type": "stream",
          "name": "stderr",
          "text": [
            "[nltk_data] Downloading package twitter_samples to /root/nltk_data...\n",
            "[nltk_data]   Unzipping corpora/twitter_samples.zip.\n",
            "[nltk_data] Downloading package stopwords to /root/nltk_data...\n",
            "[nltk_data]   Unzipping corpora/stopwords.zip.\n"
          ]
        }
      ]
    },
    {
      "cell_type": "code",
      "source": [
        "twitter_samples.strings('positive_tweets.json')[10:15]"
      ],
      "metadata": {
        "id": "nawoCF7kXLyE",
        "outputId": "ec0bff98-a916-4e23-d096-ffd0d94913e7",
        "colab": {
          "base_uri": "https://localhost:8080/"
        }
      },
      "execution_count": null,
      "outputs": [
        {
          "output_type": "execute_result",
          "data": {
            "text/plain": [
              "['#FollowFriday @wncer1 @Defense_gouv for being top influencers in my community this week :)',\n",
              " \"Who Wouldn't Love These Big....Juicy....Selfies :) - http://t.co/QVzjgd1uFo http://t.co/oWBL11eQRY\",\n",
              " '@Mish23615351  follow @jnlazts &amp; http://t.co/RCvcYYO0Iq follow u back :)',\n",
              " \"@jjulieredburn Perfect, so you already know what's waiting for you :)\",\n",
              " 'Great new opportunity for junior triathletes aged 12 and 13 at the Gatorade series! Get your entries in :) http://t.co/of3DyOzML0']"
            ]
          },
          "metadata": {},
          "execution_count": 4
        }
      ]
    },
    {
      "cell_type": "code",
      "source": [
        "for i in twitter_samples.strings('positive_tweets.json')[10:15]:\n",
        "    print(i, process_tweet(i), sep='\\n\\n', end='\\n-----------------\\n')"
      ],
      "metadata": {
        "id": "6XW5avSmX1CD",
        "outputId": "0eea70b4-9726-46f8-dbef-fc948a2d0b7f",
        "colab": {
          "base_uri": "https://localhost:8080/"
        }
      },
      "execution_count": null,
      "outputs": [
        {
          "output_type": "stream",
          "name": "stdout",
          "text": [
            "#FollowFriday @wncer1 @Defense_gouv for being top influencers in my community this week :)\n",
            "\n",
            "followfriday for being top influencers in my community this week :)\n",
            "-----------------\n",
            "Who Wouldn't Love These Big....Juicy....Selfies :) - http://t.co/QVzjgd1uFo http://t.co/oWBL11eQRY\n",
            "\n",
            "who wouldn't love these big ... juicy ... selfies :)\n",
            "-----------------\n",
            "@Mish23615351  follow @jnlazts &amp; http://t.co/RCvcYYO0Iq follow u back :)\n",
            "\n",
            "follow\n",
            "-----------------\n",
            "@jjulieredburn Perfect, so you already know what's waiting for you :)\n",
            "\n",
            "perfect so you already know what's waiting for you :)\n",
            "-----------------\n",
            "Great new opportunity for junior triathletes aged 12 and 13 at the Gatorade series! Get your entries in :) http://t.co/of3DyOzML0\n",
            "\n",
            "great new opportunity for junior triathletes aged 12 and 13 at the gatorade series get your entries in :)\n",
            "-----------------\n"
          ]
        }
      ]
    },
    {
      "cell_type": "markdown",
      "source": [
        "Your translation:"
      ],
      "metadata": {
        "id": "x4zEK62iaxzc"
      }
    },
    {
      "cell_type": "code",
      "source": [
        "for i in twitter_samples.strings('positive_tweets.json')[:10]:\n",
        "    print(i, process_tweet(i), translate(process_tweet(i)), sep='\\n\\n', end='\\n-----------------\\n')"
      ],
      "metadata": {
        "id": "9-lFLSclXDip"
      },
      "execution_count": null,
      "outputs": []
    },
    {
      "cell_type": "markdown",
      "metadata": {
        "id": "PXMxWUtipDD8"
      },
      "source": [
        "Great!"
      ]
    }
  ],
  "metadata": {
    "anaconda-cloud": {},
    "colab": {
      "provenance": [],
      "gpuType": "T4"
    },
    "kernelspec": {
      "display_name": "Python 3",
      "name": "python3"
    },
    "language_info": {
      "name": "python"
    },
    "accelerator": "GPU"
  },
  "nbformat": 4,
  "nbformat_minor": 0
}