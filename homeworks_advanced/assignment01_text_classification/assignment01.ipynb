{
  "cells": [
    {
      "cell_type": "markdown",
      "metadata": {
        "id": "jNtLJlW4v5VF"
      },
      "source": [
        "## Assignment 01\n",
        "\n",
        "В данном задании мы рассмотрим задачу классификации текстов. Для достижения лучших результатов воспользуемся информативными призанковыми описаниями для слов."
      ]
    },
    {
      "cell_type": "code",
      "execution_count": 1,
      "metadata": {
        "id": "grIwIEWAv5VK"
      },
      "outputs": [],
      "source": [
        "# do not change the code in the block below\n",
        "# __________start of block__________\n",
        "from collections import Counter\n",
        "\n",
        "import numpy as np\n",
        "import pandas as pd\n",
        "\n",
        "from sklearn.base import BaseEstimator\n",
        "from sklearn.linear_model import LogisticRegression\n",
        "from sklearn import naive_bayes\n",
        "from sklearn.metrics import roc_auc_score, roc_curve, accuracy_score\n",
        "\n",
        "import torch\n",
        "from torch import nn\n",
        "from torch.nn import functional as F\n",
        "from torch.optim.lr_scheduler import StepLR, ReduceLROnPlateau\n",
        "\n",
        "\n",
        "\n",
        "from IPython import display\n",
        "import matplotlib.pyplot as plt\n",
        "%matplotlib inline\n",
        "\n",
        "\n",
        "out_dict = dict()\n",
        "device = torch.device('cuda') if torch.cuda.is_available() else torch.device('cpu')\n",
        "# __________end of block__________"
      ]
    },
    {
      "cell_type": "markdown",
      "metadata": {
        "id": "CijSj69Ov5VN"
      },
      "source": [
        "### Предобработка текста и токенизация\n",
        "\n",
        "Предобработка практически аналогична рассмотренной на лекции. Библиотека `nltk` [link](https://www.nltk.org) широко используется при обработке текстов. По ссылке выше можно найти ее развернутое описание и документацию."
      ]
    },
    {
      "cell_type": "code",
      "execution_count": 2,
      "metadata": {
        "id": "84bLd0t_613x",
        "outputId": "508b26dd-a0c5-4f16-d45d-d4047e75039e",
        "colab": {
          "base_uri": "https://localhost:8080/"
        }
      },
      "outputs": [
        {
          "output_type": "stream",
          "name": "stdout",
          "text": [
            "before: How to be a grown-up at work: replace \"I don't want to do that\" with \"Ok, great!\".\n",
            "after: how to be a grown - up at work : replace \" i don ' t want to do that \" with \" ok , great !\".\n"
          ]
        }
      ],
      "source": [
        "# do not change the code in the block below\n",
        "# __________start of block__________\n",
        "df = pd.read_csv(\n",
        "    'https://github.com/clairett/pytorch-sentiment-classification/raw/master/data/SST2/train.tsv',\n",
        "    delimiter='\\t',\n",
        "    header=None\n",
        ")\n",
        "texts_train = df[0].values[:5000]\n",
        "y_train = df[1].values[:5000]\n",
        "texts_test = df[0].values[5000:]\n",
        "y_test = df[1].values[5000:]\n",
        "\n",
        "from nltk.tokenize import WordPunctTokenizer\n",
        "tokenizer = WordPunctTokenizer()\n",
        "preprocess = lambda text: ' '.join(tokenizer.tokenize(text.lower()))\n",
        "\n",
        "text = 'How to be a grown-up at work: replace \"I don\\'t want to do that\" with \"Ok, great!\".'\n",
        "print(\"before:\", text,)\n",
        "print(\"after:\", preprocess(text),)\n",
        "\n",
        "texts_train = [preprocess(text) for text in texts_train]\n",
        "texts_test = [preprocess(text) for text in texts_test]\n",
        "\n",
        "# Small check that everything is done properly\n",
        "assert texts_train[5] ==  'campanella gets the tone just right funny in the middle of sad in the middle of hopeful'\n",
        "assert texts_test[74] == 'poetry in motion captured on film'\n",
        "assert len(texts_test) == len(y_test)\n",
        "# __________end of block__________"
      ]
    },
    {
      "cell_type": "markdown",
      "metadata": {
        "id": "Dc2r5UiO613y"
      },
      "source": [
        "Следующие функции помогут вам с визуализацией процесса обучения сети."
      ]
    },
    {
      "cell_type": "code",
      "execution_count": 9,
      "metadata": {
        "id": "9WeODSsK613z"
      },
      "outputs": [],
      "source": [
        "# do not change the code in the block below\n",
        "# __________start of block__________\n",
        "def plot_train_process(train_loss, val_loss, train_accuracy, val_accuracy, title_suffix=''):\n",
        "    fig, axes = plt.subplots(1, 2, figsize=(15, 5))\n",
        "\n",
        "    axes[0].set_title(' '.join(['Loss', title_suffix]))\n",
        "    axes[0].plot(train_loss, label='train')\n",
        "    axes[0].plot(val_loss, label='validation')\n",
        "    axes[0].legend()\n",
        "\n",
        "    axes[1].set_title(' '.join(['Validation accuracy', title_suffix]))\n",
        "    axes[1].plot(train_accuracy, label='train')\n",
        "    axes[1].plot(val_accuracy, label='validation')\n",
        "    axes[1].legend()\n",
        "    plt.show()\n",
        "\n",
        "def visualize_and_save_results(model, model_name, X_train, X_test, y_train, y_test, out_dict):\n",
        "    for data_name, X, y, model in [\n",
        "    ('train', X_train, y_train, model),\n",
        "    ('test', X_test, y_test, model)\n",
        "    ]:\n",
        "        if isinstance(model, BaseEstimator):\n",
        "            proba = model.predict_proba(X)[:, 1]\n",
        "        elif isinstance(model, nn.Module):\n",
        "            proba = model(X).detach().cpu().numpy()[:, 1]\n",
        "        else:\n",
        "            raise ValueError('Unrecognized model type')\n",
        "\n",
        "        auc = roc_auc_score(y, proba)\n",
        "\n",
        "        out_dict['{}_{}'.format(model_name, data_name)] = auc\n",
        "        plt.plot(*roc_curve(y, proba)[:2], label='%s AUC=%.4f' % (data_name, auc))\n",
        "\n",
        "    plt.plot([0, 1], [0, 1], '--', color='black',)\n",
        "    plt.legend(fontsize='large')\n",
        "    plt.title(model_name)\n",
        "    plt.grid()\n",
        "    return out_dict\n",
        "# __________end of block__________"
      ]
    },
    {
      "cell_type": "markdown",
      "metadata": {
        "id": "wgd0Mlzsv5VO"
      },
      "source": [
        "### Задача №1. Мешок слов.\n",
        "\n",
        "Воспользуйтесь классическим подходом к векторизации текстов: мешком слов. Для этого можно как воспользоваться `CountVectorizer` из `sklearn`, так и самостоятельно реализовать ее. Обращаем ваше внимание, в данной задаче используется лишь `k` наиболее часто встречаемых слов из обучающей части выборки."
      ]
    },
    {
      "cell_type": "code",
      "execution_count": 13,
      "metadata": {
        "colab": {
          "base_uri": "https://localhost:8080/",
          "height": 452
        },
        "id": "ZNHFsVuPv5VP",
        "outputId": "f1f285b1-e532-4d26-c743-f22d137afcb3"
      },
      "outputs": [
        {
          "output_type": "display_data",
          "data": {
            "text/plain": [
              "<Figure size 640x480 with 1 Axes>"
            ],
            "image/png": "[encoded data removed]"
          },
          "metadata": {}
        }
      ],
      "source": [
        "# do not change the code in the block below\n",
        "# __________start of block__________\n",
        "\n",
        "k = min(10000, len(set(' '.join(texts_train).split())))\n",
        "\n",
        "counts = Counter(' '.join(texts_train).split())\n",
        "\n",
        "bow_vocabulary = [key for key, val in counts.most_common(k)]\n",
        "\n",
        "\n",
        "def text_to_bow(text):\n",
        "    \"\"\" convert text string to an array of token counts. Use bow_vocabulary. \"\"\"\n",
        "    sent_vec = np.zeros(len(bow_vocabulary))\n",
        "    counts = Counter(text.split())\n",
        "    for i, token in enumerate(bow_vocabulary):\n",
        "        if token in counts:\n",
        "            sent_vec[i] = counts[token]\n",
        "    return np.array(sent_vec, 'float32')\n",
        "\n",
        "X_train_bow = np.stack(list(map(text_to_bow, texts_train)))\n",
        "X_test_bow = np.stack(list(map(text_to_bow, texts_test)))\n",
        "\n",
        "# Small check that everything is done properly if you are using local bow implementation\n",
        "k_max = len(set(' '.join(texts_train).split()))\n",
        "assert X_train_bow.shape == (len(texts_train), min(k, k_max))\n",
        "assert X_test_bow.shape == (len(texts_test), min(k, k_max))\n",
        "assert np.all(X_train_bow[5:10].sum(-1) == np.array([len(s.split()) for s in  texts_train[5:10]]))\n",
        "assert len(bow_vocabulary) <= min(k, k_max)\n",
        "assert X_train_bow[65, bow_vocabulary.index('!')] == texts_train[65].split().count('!')\n",
        "\n",
        "\n",
        "bow_model = LogisticRegression(max_iter=1500).fit(X_train_bow, y_train)\n",
        "\n",
        "out_dict = visualize_and_save_results(bow_model, 'bow_log_reg_sklearn', X_train_bow, X_test_bow, y_train, y_test, out_dict)\n",
        "# __________end of block__________"
      ]
    },
    {
      "cell_type": "markdown",
      "metadata": {
        "id": "gSg1inPqv5VR"
      },
      "source": [
        "Результаты неплохие, но явно видно переобучение. Этот вывод можно сделать судя по значительному превосходству качества (AUC ROC) на train выборке относительно test. Более того, на обучающей выборке качество стремится к единице, в то время как на отложенной – значительно ниже, т.е. модель уловила множество зависимостей, свойственных лишь обучающей выборке. Базово проблема переобучения рассматривалась в [лекции №3](https://youtu.be/Ql00acFsEhE). Более подробно она еще не раз встретится при дальнейшем прохождении курса.\n",
        "\n",
        "В данной задаче с переобучением мы разберемся в дальнейшем. Сейчас же реализуйте решение на основе логистической регрессии, но уже используя PyTorch. В результате вам должна быть доступна обученная модель, предсказывающая вероятности для двух классов. Качество на тестовой выборке должно не уступать логистической регрессии."
      ]
    },
    {
      "cell_type": "code",
      "source": [
        "np.unique(y_train).shape[0]"
      ],
      "metadata": {
        "id": "EzZzd5kZZ4P7",
        "outputId": "14a4c46d-31f3-40b2-d070-803ca3c42a64",
        "colab": {
          "base_uri": "https://localhost:8080/"
        }
      },
      "execution_count": 24,
      "outputs": [
        {
          "output_type": "execute_result",
          "data": {
            "text/plain": [
              "2"
            ]
          },
          "metadata": {},
          "execution_count": 24
        }
      ]
    },
    {
      "cell_type": "code",
      "execution_count": 26,
      "metadata": {
        "colab": {
          "base_uri": "https://localhost:8080/"
        },
        "id": "YRN4ofOgv5VR",
        "outputId": "622803c0-983a-444c-dd63-1e29245f26e9"
      },
      "outputs": [
        {
          "output_type": "execute_result",
          "data": {
            "text/plain": [
              "Sequential(\n",
              "  (0): Linear(in_features=10000, out_features=2, bias=True)\n",
              "  (1): LogSoftmax(dim=1)\n",
              ")"
            ]
          },
          "metadata": {},
          "execution_count": 26
        }
      ],
      "source": [
        "model = nn.Sequential(\n",
        "    nn.Linear(X_train_bow.shape[1], np.unique(y_train).shape[0]),\n",
        "    nn.LogSoftmax(dim=1)\n",
        ")\n",
        "model\n"
      ]
    },
    {
      "cell_type": "markdown",
      "metadata": {
        "id": "HLx_3tOCv5VR"
      },
      "source": [
        "Не забывайте о функциях потерь: `nn.CrossEntropyLoss` объединяет в себе `LogSoftMax` и `NLLLoss`. Также не забывайте о необходимости перенести тензоры на используемый `device`."
      ]
    },
    {
      "cell_type": "code",
      "execution_count": 27,
      "metadata": {
        "id": "W7dcCGLsv5VS"
      },
      "outputs": [],
      "source": [
        "model.to(device)\n",
        "loss_function = nn.NLLLoss()\n",
        "opt = torch.optim.Adam(model.parameters(), lr=1e-3)"
      ]
    },
    {
      "cell_type": "code",
      "execution_count": 28,
      "metadata": {
        "id": "CK7iew17v5VS"
      },
      "outputs": [],
      "source": [
        "X_train_bow_torch = torch.tensor(X_train_bow).to(device)\n",
        "X_test_bow_torch = torch.tensor(X_test_bow).to(device)\n",
        "\n",
        "y_train_torch = torch.tensor(y_train).to(device)\n",
        "y_test_torch = torch.tensor(y_test).to(device)"
      ]
    },
    {
      "cell_type": "markdown",
      "metadata": {
        "id": "CTzHMz3f613-"
      },
      "source": [
        "Функция ниже поможет с обучением модели. Часть кода необходимо реализовать самостоятельно."
      ]
    },
    {
      "cell_type": "code",
      "execution_count": 29,
      "metadata": {
        "id": "K4GGcyXYv5VT"
      },
      "outputs": [],
      "source": [
        "def train_model(\n",
        "    model,\n",
        "    opt,\n",
        "    loss_func,\n",
        "    X_train_torch,\n",
        "    y_train_torch,\n",
        "    X_val_torch,\n",
        "    y_val_torch,\n",
        "    n_iterations=500,\n",
        "    batch_size=32,\n",
        "    show_plots=True,\n",
        "    eval_every=50\n",
        "):\n",
        "    train_loss_history = []\n",
        "    train_acc_history = []\n",
        "    val_loss_history = []\n",
        "    val_acc_history = []\n",
        "\n",
        "    local_train_loss_history = []\n",
        "    local_train_acc_history = []\n",
        "    for i in range(n_iterations):\n",
        "\n",
        "        # sample batch_size random observations\n",
        "        ix = np.random.randint(0, len(X_train_torch), batch_size)\n",
        "        x_batch = X_train_torch[ix]\n",
        "        y_batch = y_train_torch[ix]\n",
        "\n",
        "        # predict log-probabilities or logits\n",
        "        y_predicted = model(x_batch)\n",
        "\n",
        "        # compute loss, just like before\n",
        "        loss = loss_func(y_predicted, y_batch)\n",
        "\n",
        "        # compute gradients\n",
        "        loss.backward()\n",
        "\n",
        "        # Adam step\n",
        "        opt.step()\n",
        "\n",
        "        # clear gradients\n",
        "        opt.zero_grad()\n",
        "\n",
        "        local_train_loss_history.append(loss.item())\n",
        "        local_train_acc_history.append(\n",
        "            accuracy_score(\n",
        "                y_batch.to('cpu').detach().numpy(),\n",
        "                y_predicted.to('cpu').detach().numpy().argmax(axis=1)\n",
        "            )\n",
        "        )\n",
        "\n",
        "        if i % eval_every == 0:\n",
        "            train_loss_history.append(np.mean(local_train_loss_history))\n",
        "            train_acc_history.append(np.mean(local_train_acc_history))\n",
        "            local_train_loss_history, local_train_acc_history = [], []\n",
        "\n",
        "            predictions_val = model(X_val_torch)\n",
        "            val_loss_history.append(loss_func(predictions_val, y_val_torch).to('cpu').detach().item())\n",
        "\n",
        "            acc_score_val = accuracy_score(y_val_torch.cpu().numpy(), predictions_val.to('cpu').detach().numpy().argmax(axis=1))\n",
        "            val_acc_history.append(acc_score_val)\n",
        "\n",
        "            if show_plots:\n",
        "                display.clear_output(wait=True)\n",
        "                plot_train_process(train_loss_history, val_loss_history, train_acc_history, val_acc_history)\n",
        "    return model"
      ]
    },
    {
      "cell_type": "code",
      "execution_count": 30,
      "metadata": {
        "colab": {
          "base_uri": "https://localhost:8080/",
          "height": 468
        },
        "id": "TILA0_Aiv5VU",
        "outputId": "d68183b5-6341-4455-ff3c-4f4cd90eb98a"
      },
      "outputs": [
        {
          "output_type": "display_data",
          "data": {
            "text/plain": [
              "<Figure size 1500x500 with 2 Axes>"
            ],
            "image/png": "[encoded data removed]"
          },
          "metadata": {}
        }
      ],
      "source": [
        "bow_nn_model = train_model(model, opt, loss_function, X_train_bow_torch, y_train_torch, X_test_bow_torch, y_test_torch, n_iterations=3000)"
      ]
    },
    {
      "cell_type": "code",
      "execution_count": 31,
      "metadata": {
        "id": "qKHa4rfc614C",
        "outputId": "aa1d2fcf-e715-44eb-de0b-03a08b22317e",
        "colab": {
          "base_uri": "https://localhost:8080/",
          "height": 452
        }
      },
      "outputs": [
        {
          "output_type": "display_data",
          "data": {
            "text/plain": [
              "<Figure size 640x480 with 1 Axes>"
            ],
            "image/png": "[encoded data removed]"
          },
          "metadata": {}
        }
      ],
      "source": [
        "# do not change the code in the block below\n",
        "# __________start of block__________\n",
        "out_dict = visualize_and_save_results(bow_nn_model, 'bow_nn_torch', X_train_bow_torch, X_test_bow_torch, y_train, y_test, out_dict)\n",
        "\n",
        "assert out_dict['bow_log_reg_sklearn_test'] - out_dict['bow_nn_torch_test'] < 0.01, 'AUC ROC on test data should be close to the sklearn implementation'\n",
        "# __________end of block__________"
      ]
    },
    {
      "cell_type": "markdown",
      "metadata": {
        "id": "ZEt4byBxv5VU"
      },
      "source": [
        "А теперь повторите процедуру обучения выше, но для различных значений `k` – размера словаря. В список results сохраните `AUC ROC` на тестовой части выборки для модели, обученной со словарем размера `k`."
      ]
    },
    {
      "cell_type": "code",
      "execution_count": null,
      "metadata": {
        "id": "jq9qxODpv5VU"
      },
      "outputs": [],
      "source": [
        "vocab_sizes_list = np.arange(100, 5800, 700)\n",
        "results = []\n",
        "counts = Counter(' '.join(texts_train).split())\n",
        "for k in vocab_sizes_list:\n",
        "    bow_vocabulary = [key for key, val in counts.most_common(k)]\n",
        "    X_train_bow_k = np.stack(list(map(text_to_bow, texts_train)))\n",
        "    X_test_bow_k = np.stack(list(map(text_to_bow, texts_test)))\n",
        "\n",
        "    model = nn.Sequential(nn.Linear(k, 2), nn.LogSoftmax(dim=1))\n",
        "    model.to(device)\n",
        "    loss_function = nn.NLLLoss()\n",
        "    opt = torch.optim.Adam(model.parameters(), lr=1e-3)\n",
        "\n",
        "    X_train_bow_torch = torch.tensor(X_train_bow_k).to(device)\n",
        "    X_test_bow_torch = torch.tensor(X_test_bow_k).to(device)\n",
        "\n",
        "    y_train_torch = torch.tensor(y_train).to(device)\n",
        "    y_test_torch = torch.tensor(y_test).to(device)\n",
        "\n",
        "    bow_nn_model_k = train_model(model, opt, loss_function, X_train_bow_torch, y_train_torch, X_test_bow_torch, y_test_torch, n_iterations=3000)\n",
        "\n",
        "    predicted_probas_on_test_for_k_sized_dict = bow_nn_model_k(X_test_bow_torch).to('cpu').detach().numpy()\n",
        "    assert predicted_probas_on_test_for_k_sized_dict is not None\n",
        "    auc = roc_auc_score(y_test, predicted_probas_on_test_for_k_sized_dict)\n",
        "    results.append(auc)"
      ]
    },
    {
      "cell_type": "code",
      "execution_count": null,
      "metadata": {
        "id": "SsPdyHEo614F"
      },
      "outputs": [],
      "source": [
        "# do not change the code in the block below\n",
        "# __________start of block__________\n",
        "assert len(results) == len(vocab_sizes_list), 'Check the code above'\n",
        "assert min(results) >= 0.65, 'Seems like the model is not trained well enough'\n",
        "assert results[-1] > 0.84, 'Best AUC ROC should not be lower than 0.84'\n",
        "\n",
        "plt.plot(vocab_sizes_list, results)\n",
        "plt.xlabel('num of tokens')\n",
        "plt.ylabel('AUC')\n",
        "plt.grid()\n",
        "\n",
        "out_dict['bow_k_vary'] = results\n",
        "# __________end of block__________"
      ]
    },
    {
      "cell_type": "markdown",
      "metadata": {
        "id": "iA_3nEyHv5VV"
      },
      "source": [
        "### Задача №2: Использование TF-iDF признаков.\n",
        "\n",
        "Для векторизации текстов также можно воспользоваться TF-iDF. Это позволяет исключить из рассмотрения многие слова, не оказывающие значимого влияния при оценке непохожести текстов.\n",
        "\n",
        "Подробнее про TF-iDF можно почитать, например, [здесь](https://towardsdatascience.com/tf-idf-for-document-ranking-from-scratch-in-python-on-real-world-dataset-796d339a4089).\n",
        "Там же можно почитать о его самостоятельной реализации.\n",
        "\n",
        "Ваша задача: векторизовать тексты используя TF-iDF (или `TfidfVectorizer` из `sklearn`, или реализовав его самостоятельно) и построить классификатор с помощью PyTorch, аналогичный задаче №1.\n",
        "\n",
        "Затем также оцените качество классификации по AUC ROC для различных размеров словаря.\n",
        "\n",
        "Качество классификации должно быть не ниже 0.86 AUC ROC."
      ]
    },
    {
      "cell_type": "code",
      "execution_count": null,
      "metadata": {
        "id": "bQLef5tp614G"
      },
      "outputs": [],
      "source": [
        "# your code here"
      ]
    },
    {
      "cell_type": "code",
      "execution_count": null,
      "metadata": {
        "id": "THMktAtZNAqP"
      },
      "outputs": [],
      "source": [
        "X_train_tfidf = # your code here\n",
        "X_test_tfidf = # your code here"
      ]
    },
    {
      "cell_type": "code",
      "execution_count": null,
      "metadata": {
        "id": "xHbOlK1dyws8"
      },
      "outputs": [],
      "source": [
        "model = # your code here"
      ]
    },
    {
      "cell_type": "code",
      "execution_count": null,
      "metadata": {
        "id": "fioSJacvjr2v"
      },
      "outputs": [],
      "source": [
        "loss_function = # your code here\n",
        "opt = # your code here\n",
        "\n",
        "model_tf_idf = train_model(model, opt, X_train_tfidf_torch, y_train_torch, X_test_tfidf_torch, y_test_torch, n_iterations=3000)"
      ]
    },
    {
      "cell_type": "code",
      "execution_count": null,
      "metadata": {
        "id": "8GR7KDzy614K"
      },
      "outputs": [],
      "source": [
        "# do not change the code in the block below\n",
        "# __________start of block__________\n",
        "out_dict = visualize_and_save_results(model_tf_idf, 'tf_idf_nn_torch', X_train_tfidf_torch, X_test_tfidf_torch, y_train, y_test, out_dict)\n",
        "\n",
        "assert out_dict['tf_idf_nn_torch_test'] >= out_dict['bow_nn_torch_test'], 'AUC ROC on test data should be better or close to BoW for TF-iDF features'\n",
        "# __________end of block__________"
      ]
    },
    {
      "cell_type": "markdown",
      "metadata": {
        "id": "p2055bf8614K"
      },
      "source": [
        "Аналогично задаче №1 повторите процедуру обучения для различных значений `k` – размера словаря и сохраните `AUC ROC` на тестовой части выборки в список `results`."
      ]
    },
    {
      "cell_type": "code",
      "execution_count": null,
      "metadata": {
        "id": "4yDxktal614L"
      },
      "outputs": [],
      "source": [
        "vocab_sizes_list = np.arange(100, 5800, 700)\n",
        "results = []\n",
        "\n",
        "for k in vocab_sizes_list:\n",
        "    # your code here\n",
        "    predicted_probas_on_test_for_k_sized_dict = None\n",
        "    assert predicted_probas_on_test_for_k_sized_dict is not None\n",
        "    auc = roc_auc_score(y_test, predicted_probas_on_test_for_k_sized_dict)\n",
        "    results.append(auc)"
      ]
    },
    {
      "cell_type": "code",
      "execution_count": null,
      "metadata": {
        "id": "1ZO2X5Pi614M"
      },
      "outputs": [],
      "source": [
        "# do not change the code in the block below\n",
        "# __________start of block__________\n",
        "assert len(results) == len(vocab_sizes_list), 'Check the code above'\n",
        "assert min(results) >= 0.65, 'Seems like the model is not trained well enough'\n",
        "assert results[-1] > 0.85, 'Best AUC ROC for TF-iDF should not be lower than 0.84'\n",
        "\n",
        "plt.plot(vocab_sizes_list, results)\n",
        "plt.xlabel('num of tokens')\n",
        "plt.ylabel('AUC')\n",
        "plt.grid()\n",
        "\n",
        "out_dict['tf_idf_k_vary'] = results\n",
        "# __________end of block__________"
      ]
    },
    {
      "cell_type": "markdown",
      "metadata": {
        "id": "Uo-aLAItv5VW"
      },
      "source": [
        "### Задача №3: Сравнение с Наивным Байесовским классификатором.\n",
        "\n",
        "Классические модели все еще способны показать хороший результат во многих задачах. Обучите наивный байесовский классификатор на текстах, векторизованных с помощью BoW и TF-iDF и сравните результаты с моделями выше.\n",
        "\n",
        "*Комментарий: обращаем ваше внимание, необходимо выбрать подходящее к данной задаче априорное распределение для признаков, т.е. выбрать верную версию классификатора из `sklearn`: `GaussianNB`, `MultinomialNB`, `ComplementNB`, `BernoulliNB`, `CategoricalNB`*"
      ]
    },
    {
      "cell_type": "code",
      "execution_count": null,
      "metadata": {
        "id": "hXZMg_cW614O"
      },
      "outputs": [],
      "source": [
        "from sklearn.naive_bayes import # your code here"
      ]
    },
    {
      "cell_type": "code",
      "execution_count": null,
      "metadata": {
        "id": "f5Hy-mJnW5Hc"
      },
      "outputs": [],
      "source": [
        "clf_nb_bow = # your code here\n",
        "\n",
        "# do not change the code in the block below\n",
        "# __________start of block__________\n",
        "out_dict = visualize_and_save_results(clf_nb_bow, 'bow_nb_sklearn', X_train_bow, X_test_bow, y_train, y_test, out_dict)\n",
        "# __________end of block__________"
      ]
    },
    {
      "cell_type": "code",
      "execution_count": null,
      "metadata": {
        "id": "4rYfAPUL614Q"
      },
      "outputs": [],
      "source": [
        "clf_nb_tfidf = # your code here\n",
        "\n",
        "# do not change the code in the block below\n",
        "# __________start of block__________\n",
        "out_dict = visualize_and_save_results(clf_nb_tfidf, 'tf_idf_nb_sklearn', X_train_tfidf, X_test_tfidf, y_train, y_test, out_dict)\n",
        "# __________end of block__________"
      ]
    },
    {
      "cell_type": "code",
      "execution_count": null,
      "metadata": {
        "id": "Te00q_0E614R"
      },
      "outputs": [],
      "source": [
        "# do not change the code in the block below\n",
        "# __________start of block__________\n",
        "assert out_dict['tf_idf_nb_sklearn_test'] > out_dict['bow_nb_sklearn_test'],' TF-iDF results should be better'\n",
        "assert out_dict['tf_idf_nb_sklearn_test'] > 0.86, 'TF-iDF Naive Bayes score should be above 0.86'\n",
        "# __________end of block__________"
      ]
    },
    {
      "cell_type": "markdown",
      "metadata": {
        "id": "tvqsaoedv5VW"
      },
      "source": [
        "### Задача №4: Использование предобученных эмбеддингов\n",
        "\n",
        "Наконец, воспользуемся предобученными эмбеддингами из библиотеки `gensim`. В нем доступно несколько эмбеддингов, предобученных на различных корпусах текстов. Полный список можно найти [здесь](https://radimrehurek.com/gensim/models/word2vec.html#pretrained-models). Напоминаем, что лучше использовать те эмбеддинги, которые были обучены на текстах похожей структуры.\n",
        "\n",
        "Ваша задача: обучить модель (достаточно логистической регрессии или же двуслойной неронной сети), используя усредненный эмбеддинг для всех токенов в отзыве, добиться качества не хуже, чем с помощью BoW/TF-iDF и снизить степень переобучения (разницу между AUC ROC на обучающей и тестовой выборках)."
      ]
    },
    {
      "cell_type": "code",
      "execution_count": null,
      "metadata": {
        "id": "DP5td5Ivv5VW"
      },
      "outputs": [],
      "source": [
        "import gensim.downloader as api\n",
        "gensim_embedding_model = api.load(# your code here)"
      ]
    },
    {
      "cell_type": "code",
      "execution_count": null,
      "metadata": {
        "id": "sC8wyIqY6Ce9"
      },
      "outputs": [],
      "source": [
        "def text_to_average_embedding(text, gensim_embedding_model):\n",
        "    # your code here\n",
        "    return embedding_for_text"
      ]
    },
    {
      "cell_type": "code",
      "execution_count": null,
      "metadata": {
        "id": "yZ8-03TIJNjz"
      },
      "outputs": [],
      "source": [
        "X_train_emb = [text_to_average_embedding(text, gensim_embedding_model) for text in texts_train]\n",
        "X_test_emb = [text_to_average_embedding(text, gensim_embedding_model) for text in texts_test]\n",
        "\n",
        "assert len(X_train_emb[0]) == gensim_embedding_model.vector_size, 'Seems like the embedding shape is wrong'"
      ]
    },
    {
      "cell_type": "code",
      "execution_count": null,
      "metadata": {
        "id": "3Gw5B5JJ7Z1y"
      },
      "outputs": [],
      "source": [
        "X_train_emb_torch = # your code here\n",
        "X_test_emb_torch = # your code here\n",
        "\n",
        "y_train_torch = # your code here\n",
        "y_test_torch = # your code here"
      ]
    },
    {
      "cell_type": "code",
      "execution_count": null,
      "metadata": {
        "id": "6yQ2zL0bjgcD"
      },
      "outputs": [],
      "source": [
        "model = # your code here"
      ]
    },
    {
      "cell_type": "code",
      "execution_count": null,
      "metadata": {
        "id": "IP-Be_CRHI1f"
      },
      "outputs": [],
      "source": [
        "loss_function = # your code here\n",
        "opt = # your code here\n",
        "\n",
        "model = train_model(model, opt, X_train_emb_torch, y_train_torch, X_test_emb_torch, y_test_torch, n_iterations=3000)"
      ]
    },
    {
      "cell_type": "code",
      "execution_count": null,
      "metadata": {
        "id": "ClIjyjY2614-"
      },
      "outputs": [],
      "source": [
        "# do not change the code in the block below\n",
        "# __________start of block__________\n",
        "\n",
        "out_dict = visualize_and_save_results(model, 'emb_nn_torch', X_train_emb_torch, X_test_emb_torch, y_train, y_test, out_dict)\n",
        "assert out_dict['emb_nn_torch_test'] > 0.87, 'AUC ROC on test data should be better than 0.86'\n",
        "assert out_dict['emb_nn_torch_train'] - out_dict['emb_nn_torch_test'] < 0.1, 'AUC ROC on test and train data should not be different more than by 0.1'\n",
        "# __________end of block__________"
      ]
    },
    {
      "cell_type": "markdown",
      "metadata": {
        "id": "hohtOwysavfv"
      },
      "source": [
        "### Сдача задания\n",
        "Запустите код ниже для генерации посылки и сдайте на проверку файл `submission_dict_101.npy`."
      ]
    },
    {
      "cell_type": "code",
      "execution_count": null,
      "metadata": {
        "id": "o-lidlX4a_mM"
      },
      "outputs": [],
      "source": [
        "# do not change the code in the block below\n",
        "# __________start of block__________\n",
        "\n",
        "np.save('submission_dict_101.npy', out_dict, allow_pickle=True)\n",
        "print('File saved to `submission_dict_101.npy`')\n",
        "# __________end of block__________"
      ]
    }
  ],
  "metadata": {
    "colab": {
      "name": "NLP_hw01_texts.ipynb",
      "provenance": [],
      "gpuType": "T4"
    },
    "kernelspec": {
      "display_name": "Py3 Research",
      "language": "python",
      "name": "py3_research_kernel"
    },
    "language_info": {
      "codemirror_mode": {
        "name": "ipython",
        "version": 3
      },
      "file_extension": ".py",
      "mimetype": "text/x-python",
      "name": "python",
      "nbconvert_exporter": "python",
      "pygments_lexer": "ipython3",
      "version": "3.9.7"
    },
    "accelerator": "GPU"
  },
  "nbformat": 4,
  "nbformat_minor": 0
}