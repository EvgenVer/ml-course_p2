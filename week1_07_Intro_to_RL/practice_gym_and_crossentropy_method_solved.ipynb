{
  "nbformat": 4,
  "nbformat_minor": 0,
  "metadata": {
    "colab": {
      "name": "seminar_gym_interface.ipynb",
      "provenance": []
    },
    "kernelspec": {
      "display_name": "Python 3 (ipykernel)",
      "language": "python",
      "name": "python3"
    },
    "language_info": {
      "codemirror_mode": {
        "name": "ipython",
        "version": 3
      },
      "file_extension": ".py",
      "mimetype": "text/x-python",
      "name": "python",
      "nbconvert_exporter": "python",
      "pygments_lexer": "ipython3",
      "version": "3.9.7"
    }
  },
  "cells": [
    {
      "cell_type": "markdown",
      "metadata": {
        "id": "QuXufW6hAlo-"
      },
      "source": [
        "# Practice: gym interface and crossentropy method\n",
        "\n",
        "_Reference:_ This notebook is based on Practical RL [week01](https://github.com/yandexdataschool/Practical_RL/tree/master/week01_intro)"
      ]
    },
    {
      "cell_type": "code",
      "metadata": {
        "colab": {
          "base_uri": "https://localhost:8080/"
        },
        "id": "Aw_mjq4C9i-N",
        "outputId": "2b9b9e17-fde4-40a9-9171-7cba55254ae5"
      },
      "source": [
        "import os\n",
        "import sys\n",
        "\n",
        "\n",
        "if \"google.colab\" in sys.modules and not os.path.exists(\".setup_complete\"):\n",
        "    !wget -q https://raw.githubusercontent.com/yandexdataschool/Practical_RL/master/setup_colab.sh -O- | bash\n",
        "    !touch .setup_complete\n",
        "\n",
        "# This code creates a virtual display to draw game images on.\n",
        "# It will have no effect if your machine has a monitor.\n",
        "if type(os.environ.get(\"DISPLAY\")) is not str or len(os.environ.get(\"DISPLAY\")) == 0:\n",
        "    !bash ../xvfb start\n",
        "    os.environ[\"DISPLAY\"] = \":1\""
      ],
      "execution_count": 1,
      "outputs": [
        {
          "output_type": "stream",
          "name": "stdout",
          "text": [
            "Selecting previously unselected package libfontenc1:amd64.\n",
            "(Reading database ... 121654 files and directories currently installed.)\n",
            "Preparing to unpack .../0-libfontenc1_1%3a1.1.4-1build3_amd64.deb ...\n",
            "Unpacking libfontenc1:amd64 (1:1.1.4-1build3) ...\n",
            "Selecting previously unselected package libxfont2:amd64.\n",
            "Preparing to unpack .../1-libxfont2_1%3a2.0.5-1build1_amd64.deb ...\n",
            "Unpacking libxfont2:amd64 (1:2.0.5-1build1) ...\n",
            "Selecting previously unselected package libxkbfile1:amd64.\n",
            "Preparing to unpack .../2-libxkbfile1_1%3a1.1.0-1build3_amd64.deb ...\n",
            "Unpacking libxkbfile1:amd64 (1:1.1.0-1build3) ...\n",
            "Selecting previously unselected package x11-xkb-utils.\n",
            "Preparing to unpack .../3-x11-xkb-utils_7.7+5build4_amd64.deb ...\n",
            "Unpacking x11-xkb-utils (7.7+5build4) ...\n",
            "Selecting previously unselected package xfonts-encodings.\n",
            "Preparing to unpack .../4-xfonts-encodings_1%3a1.0.5-0ubuntu2_all.deb ...\n",
            "Unpacking xfonts-encodings (1:1.0.5-0ubuntu2) ...\n",
            "Selecting previously unselected package xfonts-utils.\n",
            "Preparing to unpack .../5-xfonts-utils_1%3a7.7+6build2_amd64.deb ...\n",
            "Unpacking xfonts-utils (1:7.7+6build2) ...\n",
            "Selecting previously unselected package xfonts-base.\n",
            "Preparing to unpack .../6-xfonts-base_1%3a1.0.5_all.deb ...\n",
            "Unpacking xfonts-base (1:1.0.5) ...\n",
            "Selecting previously unselected package xserver-common.\n",
            "Preparing to unpack .../7-xserver-common_2%3a21.1.4-2ubuntu1.7~22.04.5_all.deb ...\n",
            "Unpacking xserver-common (2:21.1.4-2ubuntu1.7~22.04.5) ...\n",
            "Selecting previously unselected package xvfb.\n",
            "Preparing to unpack .../8-xvfb_2%3a21.1.4-2ubuntu1.7~22.04.5_amd64.deb ...\n",
            "Unpacking xvfb (2:21.1.4-2ubuntu1.7~22.04.5) ...\n",
            "Setting up libfontenc1:amd64 (1:1.1.4-1build3) ...\n",
            "Setting up xfonts-encodings (1:1.0.5-0ubuntu2) ...\n",
            "Setting up libxkbfile1:amd64 (1:1.1.0-1build3) ...\n",
            "Setting up libxfont2:amd64 (1:2.0.5-1build1) ...\n",
            "Setting up x11-xkb-utils (7.7+5build4) ...\n",
            "Setting up xfonts-utils (1:7.7+6build2) ...\n",
            "Setting up xfonts-base (1:1.0.5) ...\n",
            "Setting up xserver-common (2:21.1.4-2ubuntu1.7~22.04.5) ...\n",
            "Setting up xvfb (2:21.1.4-2ubuntu1.7~22.04.5) ...\n",
            "Processing triggers for man-db (2.10.2-1) ...\n",
            "Processing triggers for fontconfig (2.13.1-4.2ubuntu5) ...\n",
            "Processing triggers for libc-bin (2.35-0ubuntu3.4) ...\n",
            "/sbin/ldconfig.real: /usr/local/lib/libtbb.so.12 is not a symbolic link\n",
            "\n",
            "/sbin/ldconfig.real: /usr/local/lib/libtbbmalloc.so.2 is not a symbolic link\n",
            "\n",
            "/sbin/ldconfig.real: /usr/local/lib/libtbbmalloc_proxy.so.2 is not a symbolic link\n",
            "\n",
            "/sbin/ldconfig.real: /usr/local/lib/libtbbbind_2_5.so.3 is not a symbolic link\n",
            "\n",
            "/sbin/ldconfig.real: /usr/local/lib/libtbbbind.so.3 is not a symbolic link\n",
            "\n",
            "/sbin/ldconfig.real: /usr/local/lib/libtbbbind_2_0.so.3 is not a symbolic link\n",
            "\n",
            "Starting virtual X frame buffer: Xvfb.\n"
          ]
        }
      ]
    },
    {
      "cell_type": "markdown",
      "metadata": {
        "id": "ftOrVNgg9i-O"
      },
      "source": [
        "## OpenAI Gym"
      ]
    },
    {
      "cell_type": "markdown",
      "metadata": {
        "id": "Mg6tdsNtA9hl"
      },
      "source": [
        "We're gonna spend several next weeks learning algorithms that solve decision processes. We are then in need of some interesting decision problems to test our algorithms.\n",
        "\n",
        "That's where OpenAI Gym comes into play. It's a Python library that wraps many classical decision problems including robot control, videogames and board games.\n",
        "\n",
        "So here's how it works:"
      ]
    },
    {
      "cell_type": "code",
      "metadata": {
        "colab": {
          "base_uri": "https://localhost:8080/",
          "height": 572
        },
        "id": "qgUa6Yz89i-Q",
        "outputId": "b77ebb41-f4eb-4488-c577-5ca1a8e02b2f"
      },
      "source": [
        "import gym\n",
        "import matplotlib.pyplot as plt\n",
        "\n",
        "\n",
        "env = gym.make(\"MountainCar-v0\")\n",
        "env.reset()\n",
        "\n",
        "print(\"Observation space:\", env.observation_space)\n",
        "print(\"Action space:\", env.action_space)\n",
        "plt.imshow(env.render(\"rgb_array\"));"
      ],
      "execution_count": 2,
      "outputs": [
        {
          "output_type": "stream",
          "name": "stderr",
          "text": [
            "/usr/local/lib/python3.10/dist-packages/gym/core.py:317: DeprecationWarning: \u001b[33mWARN: Initializing wrapper in old step API which returns one bool instead of two. It is recommended to set `new_step_api=True` to use new step API. This will be the default behaviour in future.\u001b[0m\n",
            "  deprecation(\n",
            "/usr/local/lib/python3.10/dist-packages/gym/wrappers/step_api_compatibility.py:39: DeprecationWarning: \u001b[33mWARN: Initializing environment in old step API which returns one bool instead of two. It is recommended to set `new_step_api=True` to use new step API. This will be the default behaviour in future.\u001b[0m\n",
            "  deprecation(\n",
            "/usr/local/lib/python3.10/dist-packages/gym/core.py:43: DeprecationWarning: \u001b[33mWARN: The argument mode in render method is deprecated; use render_mode during environment initialization instead.\n",
            "See here for more information: https://www.gymlibrary.ml/content/api/\u001b[0m\n",
            "  deprecation(\n"
          ]
        },
        {
          "output_type": "stream",
          "name": "stdout",
          "text": [
            "Observation space: Box([-1.2  -0.07], [0.6  0.07], (2,), float32)\n",
            "Action space: Discrete(3)\n"
          ]
        },
        {
          "output_type": "display_data",
          "data": {
            "text/plain": [
              "<Figure size 640x480 with 1 Axes>"
            ],
            "image/png": "[encoded data removed]"
          },
          "metadata": {}
        }
      ]
    },
    {
      "cell_type": "markdown",
      "metadata": {
        "id": "PRTK8yeU9i-R"
      },
      "source": [
        "### Gym interface"
      ]
    },
    {
      "cell_type": "markdown",
      "metadata": {
        "id": "UMWiCMVIVPTI"
      },
      "source": [
        "The three main methods of an environment are\n",
        "* `reset()`: reset environment to the initial state, and _return it_\n",
        "* `render()`: show current environment state (a more colorful version)\n",
        "* `step(a)`: commit action `a` and return `(new_state, reward, is_done, info)`\n",
        " * `new_state`: the new state right after committing the action `a`\n",
        " * `reward`: a number representing your reward for committing action `a`\n",
        " * `is_done`: True if the MDP has just finished, False if still in progress\n",
        " * `info`: some auxiliary stuff about what just happened. For now, ignore it."
      ]
    },
    {
      "cell_type": "code",
      "metadata": {
        "colab": {
          "base_uri": "https://localhost:8080/"
        },
        "id": "AhGD7yXr9i-R",
        "outputId": "2c55fe38-5a56-4246-c0c1-82025ce5aa24"
      },
      "source": [
        "state = env.reset()\n",
        "print(\"initial state:\", state)"
      ],
      "execution_count": 3,
      "outputs": [
        {
          "output_type": "stream",
          "name": "stdout",
          "text": [
            "initial state: [-0.46581048  0.        ]\n"
          ]
        },
        {
          "output_type": "stream",
          "name": "stderr",
          "text": [
            "/usr/local/lib/python3.10/dist-packages/ipykernel/ipkernel.py:283: DeprecationWarning: `should_run_async` will not call `transform_cell` automatically in the future. Please pass the result to `transformed_cell` argument and any exception that happen during thetransform in `preprocessing_exc_tuple` in IPython 7.17 and above.\n",
            "  and should_run_async(code)\n"
          ]
        }
      ]
    },
    {
      "cell_type": "markdown",
      "metadata": {
        "id": "I9WYWMRvrl5r"
      },
      "source": [
        "In MountainCar, observation is just two numbers: car position and velocity.\n",
        "\n",
        "Let's take action 2, which stands for \"go right\"."
      ]
    },
    {
      "cell_type": "code",
      "metadata": {
        "colab": {
          "base_uri": "https://localhost:8080/"
        },
        "id": "pSs_w9Lu9i-S",
        "outputId": "2a2e8776-364d-418d-bccb-a4afa2a3934b"
      },
      "source": [
        "print(\"taking action 2 (right)\")\n",
        "new_state, reward, is_done, _ = env.step(2)\n",
        "\n",
        "print(\"new state:\", new_state)\n",
        "print(\"reward:\", reward)\n",
        "print(\"is game over?:\", is_done)"
      ],
      "execution_count": 4,
      "outputs": [
        {
          "output_type": "stream",
          "name": "stdout",
          "text": [
            "taking action 2 (right)\n",
            "new state: [-0.46524173  0.00056876]\n",
            "reward: -1.0\n",
            "is game over?: False\n"
          ]
        }
      ]
    },
    {
      "cell_type": "markdown",
      "metadata": {
        "id": "L1CLfCf6rpx8"
      },
      "source": [
        "As you can see, the car has moved to the right slightly (around 0.0005)."
      ]
    },
    {
      "cell_type": "markdown",
      "metadata": {
        "id": "WS56PCMa9i-S"
      },
      "source": [
        "### Play with it"
      ]
    },
    {
      "cell_type": "markdown",
      "metadata": {
        "id": "KrL9_D56VXSI"
      },
      "source": [
        "Below is the code that drives the car to the right. However, if you simply use the default policy, the car will not reach the flag at the far right due to gravity.\n",
        "\n",
        "__Your task__ is to fix it. Find a strategy that reaches the flag.\n",
        "\n",
        "You are not required to build any sophisticated algorithms for now, and you definitely don't need to know any reinforcement learning for this. Feel free to hard-code :)"
      ]
    },
    {
      "cell_type": "code",
      "metadata": {
        "id": "_CaEYOrf9i-T"
      },
      "source": [
        "actions = {\"left\": 0, \"stop\": 1, \"right\": 2}\n",
        "\n",
        "\n",
        "def policy(state, time_step):\n",
        "    # Write the code for your policy here. You can use the current state\n",
        "    # (a tuple of position and velocity), the current time step, or both,\n",
        "    # if you want.\n",
        "    position, velocity = state\n",
        "\n",
        "    # This is an example policy. You can try running it, but it will not work.\n",
        "    # Your goal is to fix that. You don't need anything sophisticated here,\n",
        "    # and you can hard-code any policy that seems to work.\n",
        "\n",
        "    if velocity < 0:\n",
        "        return actions[\"left\"]\n",
        "\n",
        "    return actions[\"right\"]"
      ],
      "execution_count": 5,
      "outputs": []
    },
    {
      "cell_type": "code",
      "metadata": {
        "colab": {
          "base_uri": "https://localhost:8080/",
          "height": 413
        },
        "id": "k02kqprA9i-T",
        "outputId": "35de88cd-6b2c-41ec-9f83-d8c72ffefe60"
      },
      "source": [
        "from IPython.display import clear_output, display\n",
        "\n",
        "\n",
        "state = env.reset()\n",
        "time_limit = 250\n",
        "for time_step in range(time_limit):\n",
        "    # Choose action based on your policy.\n",
        "    action = policy(state, time_step)\n",
        "\n",
        "    # Pass the action to the environment.\n",
        "    state, reward, done, _ = env.step(action)\n",
        "\n",
        "    # We don't do anything with reward here because MountainCar is a very\n",
        "    # simple environment, and reward is a constant -1 (meaning that your\n",
        "    # goal is to end the episode as quickly as possible).\n",
        "\n",
        "    # Draw game image on display.\n",
        "    clear_output(wait=True)\n",
        "    plt.imshow(env.render(\"rgb_array\"))\n",
        "    plt.show()\n",
        "\n",
        "    if done:\n",
        "        print(\"Well done!\")\n",
        "        break\n",
        "else:\n",
        "    print(\"Time limit exceeded. Try again.\")"
      ],
      "execution_count": 6,
      "outputs": [
        {
          "output_type": "display_data",
          "data": {
            "text/plain": [
              "<Figure size 640x480 with 1 Axes>"
            ],
            "image/png": "[encoded data removed]"
          },
          "metadata": {}
        },
        {
          "output_type": "stream",
          "name": "stdout",
          "text": [
            "Well done!\n"
          ]
        }
      ]
    },
    {
      "cell_type": "markdown",
      "metadata": {
        "id": "2LYwulaIBZeH"
      },
      "source": [
        "## Crossentropy method"
      ]
    },
    {
      "cell_type": "markdown",
      "metadata": {
        "id": "H7eHzR_9Bm2K"
      },
      "source": [
        "Now that we know how does the `gym` work, let's try and solve a more complicated problem using the crossentropy method."
      ]
    },
    {
      "cell_type": "code",
      "metadata": {
        "colab": {
          "base_uri": "https://localhost:8080/"
        },
        "id": "boirRXNq--s-",
        "outputId": "18385840-f7ec-4844-9e40-0510069aaca4"
      },
      "source": [
        "env = gym.make(\"Taxi-v3\")\n",
        "env.reset()\n",
        "env.render()"
      ],
      "execution_count": 7,
      "outputs": [
        {
          "output_type": "stream",
          "name": "stderr",
          "text": [
            "/usr/local/lib/python3.10/dist-packages/gym/core.py:49: DeprecationWarning: \u001b[33mWARN: You are calling render method, but you didn't specified the argument render_mode at environment initialization. To maintain backward compatibility, the environment will render in human mode.\n",
            "If you want to render in human mode, initialize the environment in this way: gym.make('EnvName', render_mode='human') and don't call the render method.\n",
            "See here for more information: https://www.gymlibrary.ml/content/api/\u001b[0m\n",
            "  deprecation(\n"
          ]
        }
      ]
    },
    {
      "cell_type": "markdown",
      "metadata": {
        "id": "mU66aOiPdVVY"
      },
      "source": [
        "As `Taxi-v3` is a much more sophisticated environment, it presents us with more possible states and actions at our disposal."
      ]
    },
    {
      "cell_type": "code",
      "metadata": {
        "colab": {
          "base_uri": "https://localhost:8080/"
        },
        "id": "O9l4J5bpB04k",
        "outputId": "74ebc664-0155-481d-a9ae-50428ad84251"
      },
      "source": [
        "n_states, n_actions = env.observation_space.n, env.action_space.n\n",
        "print(f\"n_states={n_states}, n_actions={n_actions}\")"
      ],
      "execution_count": 8,
      "outputs": [
        {
          "output_type": "stream",
          "name": "stdout",
          "text": [
            "n_states=500, n_actions=6\n"
          ]
        }
      ]
    },
    {
      "cell_type": "markdown",
      "metadata": {
        "id": "hxLN1ZxmdxcI"
      },
      "source": [
        "That's definitely a lot. Way too much to hard-code as we did with previous problem. Let's use the crossentropy method on this one."
      ]
    },
    {
      "cell_type": "markdown",
      "metadata": {
        "id": "FExaEKW-Vf2j"
      },
      "source": [
        "### Create stochastic policy"
      ]
    },
    {
      "cell_type": "markdown",
      "metadata": {
        "id": "s3B63b1fVl6C"
      },
      "source": [
        "This time our policy should be a probability distribution.\n",
        "\n",
        "```policy[s, a] = P(take action a | in state s)```\n",
        "\n",
        "Since we still use integer state and action representations, you can use a 2-dimensional array to represent the policy.\n",
        "\n",
        "Please initialize policy __uniformly__, that is, probabililities of all actions should be equal."
      ]
    },
    {
      "cell_type": "code",
      "metadata": {
        "id": "Q_TzXJVHVlY3"
      },
      "source": [
        "import numpy as np\n",
        "\n",
        "\n",
        "def initialize_policy(n_states, n_actions):\n",
        "    # Create an array to store action probabilities\n",
        "    policy = np.full([n_states, n_actions], 1 / n_actions)\n",
        "\n",
        "    return policy"
      ],
      "execution_count": 9,
      "outputs": []
    },
    {
      "cell_type": "code",
      "metadata": {
        "id": "a99xkrpd0pbX"
      },
      "source": [
        "policy = initialize_policy(n_states, n_actions)\n",
        "assert isinstance(policy, np.ndarray)\n",
        "assert np.allclose(policy, 1 / n_actions)\n",
        "assert np.allclose(np.sum(policy, axis=1), 1)"
      ],
      "execution_count": 10,
      "outputs": []
    },
    {
      "cell_type": "markdown",
      "metadata": {
        "id": "THBVPqvOW2OA"
      },
      "source": [
        "### Play the game"
      ]
    },
    {
      "cell_type": "markdown",
      "metadata": {
        "id": "zOgE_1xMXQ61"
      },
      "source": [
        "Let's play the game just like before, however this time we will also record states, actions and rewards to use them in training loop."
      ]
    },
    {
      "cell_type": "code",
      "metadata": {
        "id": "6QBRMMZeW38F"
      },
      "source": [
        "def generate_session(env, policy, time_limit=10 ** 4):\n",
        "    state = env.reset()\n",
        "    states, actions = [], []\n",
        "    total_reward = 0.0\n",
        "    for _ in range(time_limit):\n",
        "        # Choose action based on policy and take it.\n",
        "        action = np.random.choice(n_actions, p=policy[state])\n",
        "        new_state, reward, done, _ = env.step(action)\n",
        "\n",
        "        # Record information we just got from the environment.\n",
        "        states.append(state)\n",
        "        actions.append(action)\n",
        "        total_reward += reward\n",
        "\n",
        "        state = new_state\n",
        "        if done:\n",
        "            break\n",
        "\n",
        "    return states, actions, total_reward"
      ],
      "execution_count": 11,
      "outputs": []
    },
    {
      "cell_type": "code",
      "metadata": {
        "id": "PFF98gn8Xnme"
      },
      "source": [
        "states, actions, reward = generate_session(env, policy)\n",
        "assert isinstance(states, list) and isinstance(actions, list)\n",
        "assert len(states) == len(actions)\n",
        "assert isinstance(reward, float)"
      ],
      "execution_count": 12,
      "outputs": []
    },
    {
      "cell_type": "markdown",
      "metadata": {
        "id": "v3KlOA04YCpj"
      },
      "source": [
        "Let's see the initial reward distribution for our \"naive\" policy."
      ]
    },
    {
      "cell_type": "code",
      "metadata": {
        "colab": {
          "base_uri": "https://localhost:8080/",
          "height": 430
        },
        "id": "HP5VOP15X59V",
        "outputId": "4f9441bc-09d2-44b0-bbb4-753c7d95ff83"
      },
      "source": [
        "sample_rewards = [generate_session(env, policy, time_limit=1000)[2] for _ in range(200)]\n",
        "plt.hist(sample_rewards, bins=20)\n",
        "plt.vlines([np.percentile(sample_rewards, 50)], [0], [100], label=\"50'th percentile\", color=\"green\")\n",
        "plt.vlines([np.percentile(sample_rewards, 90)], [0], [100], label=\"90'th percentile\", color=\"red\")\n",
        "plt.legend();"
      ],
      "execution_count": 13,
      "outputs": [
        {
          "output_type": "display_data",
          "data": {
            "text/plain": [
              "<Figure size 640x480 with 1 Axes>"
            ],
            "image/png": "[encoded data removed]"
          },
          "metadata": {}
        }
      ]
    },
    {
      "cell_type": "markdown",
      "metadata": {
        "id": "c2Hbt1n1YK9G"
      },
      "source": [
        "### Crossentropy method step"
      ]
    },
    {
      "cell_type": "code",
      "metadata": {
        "id": "p5WSk58tYUpp"
      },
      "source": [
        "def select_elites(states_batch, actions_batch, rewards_batch, percentile):\n",
        "    \"\"\"\n",
        "    Select states and actions from games that have rewards >= percentile.\n",
        "\n",
        "    Compute minimum reward for session to be elite and choose elite states\n",
        "    and actions based on this threshold.\n",
        "\n",
        "    Note that states_batch and actions_batch are both 2d lists, i.e. lists\n",
        "    containing lists of states and actions from each session in batch.\n",
        "    \"\"\"\n",
        "\n",
        "    reward_threshold = np.percentile(rewards_batch, percentile)\n",
        "\n",
        "    elite_states = []\n",
        "    for session_states, session_reward in zip(states_batch, rewards_batch):\n",
        "        # If session is not elite - skip it\n",
        "        if session_reward < reward_threshold:\n",
        "            continue\n",
        "\n",
        "        elite_states.extend(session_states)\n",
        "\n",
        "    elite_actions = []\n",
        "    for session_actions, session_reward in zip(actions_batch, rewards_batch):\n",
        "        # If session is not elite - skip it\n",
        "        if session_reward < reward_threshold:\n",
        "            continue\n",
        "\n",
        "        elite_actions.extend(session_actions)\n",
        "\n",
        "    return elite_states, elite_actions"
      ],
      "execution_count": 14,
      "outputs": []
    },
    {
      "cell_type": "code",
      "metadata": {
        "id": "S_779hM5eozQ"
      },
      "source": [
        "states_batch = [\n",
        "    [1, 2, 3],  # game1\n",
        "    [4, 2, 0, 2],  # game2\n",
        "    [3, 1],  # game3\n",
        "]\n",
        "\n",
        "actions_batch = [\n",
        "    [0, 2, 4],  # game1\n",
        "    [3, 2, 0, 1],  # game2\n",
        "    [3, 3],  # game3\n",
        "]\n",
        "rewards_batch = [\n",
        "    3,  # game1\n",
        "    4,  # game2\n",
        "    5,  # game3\n",
        "]\n",
        "\n",
        "test_result_0 = select_elites(states_batch, actions_batch, rewards_batch, percentile=0)\n",
        "test_result_30 = select_elites(states_batch, actions_batch, rewards_batch, percentile=30)\n",
        "test_result_90 = select_elites(states_batch, actions_batch, rewards_batch, percentile=90)\n",
        "test_result_100 = select_elites(states_batch, actions_batch, rewards_batch, percentile=100)\n",
        "\n",
        "assert np.all(test_result_0[0] == [1, 2, 3, 4, 2, 0, 2, 3, 1]) and np.all(\n",
        "    test_result_0[1] == [0, 2, 4, 3, 2, 0, 1, 3, 3]\n",
        "), \"For percentile 0 you should return all states and actions in chronological order\"\n",
        "assert np.all(test_result_30[0] == [4, 2, 0, 2, 3, 1]) and np.all(\n",
        "    test_result_30[1] == [3, 2, 0, 1, 3, 3]\n",
        "), \"For percentile 30 you should only select states/actions from two first\"\n",
        "assert np.all(test_result_90[0] == [3, 1]) and np.all(\n",
        "    test_result_90[1] == [3, 3]\n",
        "), \"For percentile 90 you should only select states/actions from one game\"\n",
        "assert np.all(test_result_100[0] == [3, 1]) and np.all(\n",
        "    test_result_100[1] == [3, 3]\n",
        "), \"Please make sure you use >=, not >. Also double-check how you compute percentile.\""
      ],
      "execution_count": 15,
      "outputs": []
    },
    {
      "cell_type": "code",
      "metadata": {
        "id": "PMQ00-p6UN3v"
      },
      "source": [
        "def get_new_policy(elite_states, elite_actions):\n",
        "    \"\"\"\n",
        "    Given a list of elite states/actions from select_elites, return a new\n",
        "    policy where each action probability is proportional to\n",
        "\n",
        "        policy[s, a] ~ #[occurrences of s and a in elite states/actions]\n",
        "\n",
        "    Don't forget to normalize the policy to get valid probabilities.\n",
        "    For states that you never visited, use a uniform distribution.\n",
        "    \"\"\"\n",
        "\n",
        "    new_policy = np.zeros([n_states, n_actions])\n",
        "\n",
        "    # Set probabilities for actions given elite states & actions.\n",
        "    for state, action in zip(elite_states, elite_actions):\n",
        "        new_policy[state, action] += 1\n",
        "\n",
        "    # Don't forget to set 1/n_actions for all actions in unvisited states.\n",
        "    for state in np.where(np.sum(new_policy, axis=1) < 1):\n",
        "        new_policy[state, :] = 1\n",
        "\n",
        "    new_policy /= np.sum(new_policy, axis=1, keepdims=True)\n",
        "\n",
        "    return new_policy"
      ],
      "execution_count": 16,
      "outputs": []
    },
    {
      "cell_type": "code",
      "metadata": {
        "id": "As4H-gOXUg5R"
      },
      "source": [
        "elite_states = [1, 2, 3, 4, 2, 0, 2, 3, 1]\n",
        "elite_actions = [0, 2, 4, 3, 2, 0, 1, 3, 3]\n",
        "new_policy = get_new_policy(elite_states, elite_actions)\n",
        "\n",
        "assert np.isfinite(\n",
        "    new_policy\n",
        ").all(), \"Your new policy contains NaNs or +-inf. Make sure you don't divide by zero.\"\n",
        "assert np.all(new_policy >= 0), \"Your new policy can't have negative action probabilities\"\n",
        "assert np.allclose(\n",
        "    new_policy.sum(axis=-1), 1\n",
        "), \"Your new policy should be a valid probability distribution over actions\"\n",
        "\n",
        "reference_answer = np.array(\n",
        "    [\n",
        "        [1.0, 0.0, 0.0, 0.0, 0.0],\n",
        "        [0.5, 0.0, 0.0, 0.5, 0.0],\n",
        "        [0.0, 0.33333333, 0.66666667, 0.0, 0.0],\n",
        "        [0.0, 0.0, 0.0, 0.5, 0.5],\n",
        "    ]\n",
        ")\n",
        "assert np.allclose(new_policy[:4, :5], reference_answer)"
      ],
      "execution_count": 17,
      "outputs": []
    },
    {
      "cell_type": "markdown",
      "metadata": {
        "id": "j4SYwLlztaLv"
      },
      "source": [
        "### Training loop"
      ]
    },
    {
      "cell_type": "markdown",
      "metadata": {
        "id": "v3E8Jf0ttdUw"
      },
      "source": [
        "Generate sessions, select N best and fit to those."
      ]
    },
    {
      "cell_type": "code",
      "metadata": {
        "id": "T8ds_27BtEKV"
      },
      "source": [
        "def show_progress(rewards_batch, log, percentile, reward_range=[-990, +10]):\n",
        "    \"\"\"\n",
        "    A convenience function that displays training progress.\n",
        "    No cool math here, just charts.\n",
        "    \"\"\"\n",
        "\n",
        "    mean_reward = np.mean(rewards_batch)\n",
        "    threshold = np.percentile(rewards_batch, percentile)\n",
        "    log.append([mean_reward, threshold])\n",
        "\n",
        "    plt.figure(figsize=[8, 4])\n",
        "    plt.subplot(1, 2, 1)\n",
        "\n",
        "    mean_rewards = [mean_reward for mean_reward, threshold in log]\n",
        "    reward_thresholds = [threshold for mean_reward, threshold in log]\n",
        "    plt.plot(mean_rewards, label=\"Mean rewards\")\n",
        "    plt.plot(reward_thresholds, label=\"Reward thresholds\")\n",
        "    plt.legend()\n",
        "    plt.grid()\n",
        "\n",
        "    plt.subplot(1, 2, 2)\n",
        "    plt.hist(rewards_batch, range=reward_range)\n",
        "    plt.vlines(\n",
        "        [np.percentile(rewards_batch, percentile)],\n",
        "        ymin=[0],\n",
        "        ymax=[100],\n",
        "        label=\"percentile\",\n",
        "        color=\"red\",\n",
        "    )\n",
        "    plt.legend()\n",
        "    plt.grid()\n",
        "    clear_output(wait=True)\n",
        "    print(f\"mean reward = {mean_reward:.3f}, threshold={threshold:.3f}\")\n",
        "    plt.show()"
      ],
      "execution_count": 18,
      "outputs": []
    },
    {
      "cell_type": "code",
      "metadata": {
        "id": "-uh8JpOp0yXL"
      },
      "source": [
        "# reset policy\n",
        "policy = initialize_policy(n_states, n_actions)"
      ],
      "execution_count": 19,
      "outputs": []
    },
    {
      "cell_type": "code",
      "metadata": {
        "colab": {
          "base_uri": "https://localhost:8080/",
          "height": 385
        },
        "id": "XWwgfYHB00dE",
        "outputId": "d1e95c80-2867-4a84-c4ff-f16f76802c02"
      },
      "source": [
        "n_sessions = 250  # sample this many sessions\n",
        "percentile = 50  # take this percent of session with highest rewards\n",
        "learning_rate = 0.5  # how quickly the policy is updated, on a scale from 0 to 1\n",
        "\n",
        "log = []\n",
        "\n",
        "for _ in range(100):\n",
        "    # Generate a list of n_sessions new sessions, select elites and compute\n",
        "    # new policy based on them. After that update the existing policy wrt\n",
        "    # learning rate.\n",
        "    sessions = [generate_session(env, policy) for _ in range(n_sessions)]\n",
        "\n",
        "    states_batch = [session_states for session_states, session_actions, session_reward in sessions]\n",
        "\n",
        "    actions_batch = [\n",
        "        session_actions for session_states, session_actions, session_reward in sessions\n",
        "    ]\n",
        "\n",
        "    rewards_batch = [session_reward for session_states, session_actions, session_reward in sessions]\n",
        "\n",
        "    elite_states, elite_actions = select_elites(\n",
        "        states_batch, actions_batch, rewards_batch, percentile\n",
        "    )\n",
        "\n",
        "    new_policy = get_new_policy(elite_states, elite_actions)\n",
        "    policy = learning_rate * new_policy + (1 - learning_rate) * policy\n",
        "\n",
        "    # display results on chart\n",
        "    show_progress(rewards_batch, log, percentile)"
      ],
      "execution_count": 20,
      "outputs": [
        {
          "output_type": "stream",
          "name": "stdout",
          "text": [
            "mean reward = -100.540, threshold=3.500\n"
          ]
        },
        {
          "output_type": "display_data",
          "data": {
            "text/plain": [
              "<Figure size 800x400 with 2 Axes>"
            ],
            "image/png": "[encoded data removed]"
          },
          "metadata": {}
        }
      ]
    },
    {
      "cell_type": "markdown",
      "metadata": {
        "id": "xlIrztK22HqI"
      },
      "source": [
        "### Analysing the results"
      ]
    },
    {
      "cell_type": "markdown",
      "metadata": {
        "id": "Hehsmk982J70"
      },
      "source": [
        "You may have noticed that the taxi problem quickly converges from very little values to a near-optimal score and then descends back. This is caused (at least in part) by the innate randomness of the environment. Namely, the starting points of passenger/driver change from episode to episode.\n",
        "\n",
        "In such case if crossentropy policy failed to learn how to win from one distinct starting point, it will simply discard it because no sessions from that starting point will make it into the \"elites\".\n",
        "\n",
        "To mitigate that problem, you can either reduce the threshold for elite sessions (duct tape way) or change the way you evaluate strategy (theoretically correct way). For each starting state, you can sample an action randomly, and then evaluate this action by running several games starting from it and averaging the total reward. Choosing elite sessions with this kind of sampling (where each session's reward is counted as the average of the rewards of all sessions with the same starting state and action) should improve the performance of your policy."
      ]
    },
    {
      "cell_type": "markdown",
      "metadata": {
        "id": "NTClEj9c3JrE"
      },
      "source": [
        "## Deeging deeper: approximate crossentropy with neural networks"
      ]
    },
    {
      "cell_type": "markdown",
      "metadata": {
        "id": "6ZFlyLJf3TAA"
      },
      "source": [
        "In this section we'll extend your CEM implementation with neural networks! You will train a multi-layer neural network to solve simple continuous state space games.\n",
        "\n",
        "![img](https://watanimg.elwatannews.com/old_news_images/large/249765_Large_20140709045740_11.jpg)"
      ]
    },
    {
      "cell_type": "code",
      "metadata": {
        "colab": {
          "base_uri": "https://localhost:8080/",
          "height": 607
        },
        "id": "eS6CtVHR1mRR",
        "outputId": "3fc934ee-6b66-42c1-e26f-7e4c1bc782b2"
      },
      "source": [
        "# .env is to remove auto-assigned time limit wrapper\n",
        "env = gym.make(\"CartPole-v0\").env\n",
        "\n",
        "env.reset()\n",
        "n_actions = env.action_space.n\n",
        "state_dim = env.observation_space.shape[0]\n",
        "\n",
        "print(\"state vector dim =\", state_dim)\n",
        "print(\"n_actions =\", n_actions)\n",
        "plt.imshow(env.render(\"rgb_array\"));"
      ],
      "execution_count": 29,
      "outputs": [
        {
          "output_type": "stream",
          "name": "stderr",
          "text": [
            "/usr/local/lib/python3.10/dist-packages/gym/envs/registration.py:593: UserWarning: \u001b[33mWARN: The environment CartPole-v0 is out of date. You should consider upgrading to version `v1`.\u001b[0m\n",
            "  logger.warn(\n",
            "/usr/local/lib/python3.10/dist-packages/gym/core.py:317: DeprecationWarning: \u001b[33mWARN: Initializing wrapper in old step API which returns one bool instead of two. It is recommended to set `new_step_api=True` to use new step API. This will be the default behaviour in future.\u001b[0m\n",
            "  deprecation(\n",
            "/usr/local/lib/python3.10/dist-packages/gym/wrappers/step_api_compatibility.py:39: DeprecationWarning: \u001b[33mWARN: Initializing environment in old step API which returns one bool instead of two. It is recommended to set `new_step_api=True` to use new step API. This will be the default behaviour in future.\u001b[0m\n",
            "  deprecation(\n",
            "/usr/local/lib/python3.10/dist-packages/gym/core.py:43: DeprecationWarning: \u001b[33mWARN: The argument mode in render method is deprecated; use render_mode during environment initialization instead.\n",
            "See here for more information: https://www.gymlibrary.ml/content/api/\u001b[0m\n",
            "  deprecation(\n"
          ]
        },
        {
          "output_type": "stream",
          "name": "stdout",
          "text": [
            "state vector dim = 4\n",
            "n_actions = 2\n"
          ]
        },
        {
          "output_type": "display_data",
          "data": {
            "text/plain": [
              "<Figure size 640x480 with 1 Axes>"
            ],
            "image/png": "[encoded data removed]"
          },
          "metadata": {}
        }
      ]
    },
    {
      "cell_type": "markdown",
      "metadata": {
        "id": "eiAvTBy8r9qd"
      },
      "source": [
        "Here, just like in a `MountainCar-v0`, we will be controlling a cart, which we can move right or left. However our goal here is different. In this environment we want to keep pole attached to the top of our cart from falling as long as possible."
      ]
    },
    {
      "cell_type": "markdown",
      "metadata": {
        "id": "udRr7zCW4F9B"
      },
      "source": [
        "### Neural Network Policy"
      ]
    },
    {
      "cell_type": "markdown",
      "metadata": {
        "id": "7XXRmz-B4I7L"
      },
      "source": [
        "For this assignment we'll utilize the simplified neural network implementation from [Scikit-learn](https://scikit-learn.org/stable/modules/generated/sklearn.neural_network.MLPClassifier.html). Here's what you'll need:\n",
        "* `agent.partial_fit(states, actions)` - make a single training pass over the data to increase the probability of provided `actions` in provided `states`\n",
        "* `agent.predict_proba(states)` - predict probabilities of all actions, a matrix of shape `[len(states), n_actions] `"
      ]
    },
    {
      "cell_type": "code",
      "metadata": {
        "id": "e3-zE4Yp3uV8"
      },
      "source": [
        "# from sklearn.neural_network import MLPClassifier\n",
        "\n",
        "\n",
        "# agent = MLPClassifier(\n",
        "#     hidden_layer_sizes=(20, 20),\n",
        "#     activation=\"tanh\",\n",
        "# )\n",
        "\n",
        "# # initialize agent to the dimension of state space and number of actions\n",
        "# agent.partial_fit([env.reset()] * n_actions, range(n_actions), range(n_actions));"
      ],
      "execution_count": 22,
      "outputs": []
    },
    {
      "cell_type": "code",
      "source": [
        "import torch\n",
        "import torch.nn as nn\n",
        "import torch.optim as optim\n",
        "import torch.nn.functional as F\n",
        "\n",
        "agent = nn.Sequential(nn.Linear(state_dim, 20),\n",
        "                      nn.Tanh(),\n",
        "                      nn.Linear(20, 20),\n",
        "                      nn.Tanh(),\n",
        "                      nn.Linear(20, 20),\n",
        "                      nn.Tanh(),\n",
        "                      nn.Linear(20, n_actions),\n",
        "                      nn.LogSoftmax(dim=-1))\n",
        "\n",
        "loss_fn = nn.NLLLoss()\n",
        "opt = optim.Adam(agent.parameters(), lr=0.01)"
      ],
      "metadata": {
        "id": "lCCSM0k_XuyU"
      },
      "execution_count": 39,
      "outputs": []
    },
    {
      "cell_type": "code",
      "source": [],
      "metadata": {
        "id": "nIPX8k9YXzdj"
      },
      "execution_count": 39,
      "outputs": []
    },
    {
      "cell_type": "markdown",
      "metadata": {
        "id": "IO3tM6wFtZr_"
      },
      "source": [
        "Despite the apparent differences, you will find the training procedure for such agent to be very similar to the one we used in the previous part. We won't even need to rewrite most of our helper functions at all! However, one thing that has changed is the way we get actions' probabilities. So let's adapt our `generate_session` function to this new agent-based policy."
      ]
    },
    {
      "cell_type": "code",
      "metadata": {
        "id": "glqypTJL6PmE"
      },
      "source": [
        "def generate_session(env, agent, time_limit=10 ** 4):\n",
        "    state = env.reset()\n",
        "    states, actions = [], []\n",
        "    total_reward = 0.0\n",
        "    for _ in range(time_limit):\n",
        "        # Use agent to predict a vector of action probabilities for current\n",
        "        # state and use the probabilities you predicted to pick an action.\n",
        "        # Sample actions, don't just take the most likely one!\n",
        "        s_tensor = torch.tensor(state)\n",
        "\n",
        "        # predict array of action probabilities\n",
        "        agent.eval()\n",
        "        with torch.no_grad():\n",
        "            action_probabilities = torch.exp(agent(s_tensor)).cpu().detach().numpy()\n",
        "\n",
        "        # action_probabilities = agent.predict_proba([state]).squeeze()\n",
        "        action = np.random.choice(n_actions, p=action_probabilities)\n",
        "        new_state, reward, done, _ = env.step(action)\n",
        "\n",
        "        # Record information we just got from the environment.\n",
        "        states.append(state)\n",
        "        actions.append(action)\n",
        "        total_reward += reward\n",
        "\n",
        "        state = new_state\n",
        "        if done:\n",
        "            break\n",
        "\n",
        "    return states, actions, total_reward"
      ],
      "execution_count": 40,
      "outputs": []
    },
    {
      "cell_type": "code",
      "metadata": {
        "colab": {
          "base_uri": "https://localhost:8080/"
        },
        "id": "K6-YrqLP6L-1",
        "outputId": "f0253414-3468-4085-f7c6-bb3423e7bab0"
      },
      "source": [
        "states, actions, reward = generate_session(env, agent, time_limit=5)\n",
        "print(\"states:\", np.stack(states))\n",
        "print(\"actions:\", actions)\n",
        "print(\"reward:\", reward)"
      ],
      "execution_count": 41,
      "outputs": [
        {
          "output_type": "stream",
          "name": "stdout",
          "text": [
            "states: [[ 0.01598235 -0.01827296  0.00799998  0.03555433]\n",
            " [ 0.01561689 -0.21350871  0.00871106  0.33075055]\n",
            " [ 0.01134672 -0.01851184  0.01532607  0.04082736]\n",
            " [ 0.01097648 -0.21385017  0.01614262  0.33830613]\n",
            " [ 0.00669948 -0.40919808  0.02290874  0.6360355 ]]\n",
            "actions: [0, 1, 0, 0, 1]\n",
            "reward: 5.0\n"
          ]
        }
      ]
    },
    {
      "cell_type": "markdown",
      "metadata": {
        "id": "v9cj1aiN7cH-"
      },
      "source": [
        "### Training loop"
      ]
    },
    {
      "cell_type": "code",
      "metadata": {
        "colab": {
          "base_uri": "https://localhost:8080/",
          "height": 776
        },
        "id": "iFpPGkXL7nCa",
        "outputId": "07495339-3e8a-4da2-da80-30755df0d5b1"
      },
      "source": [
        "n_sessions = 100\n",
        "percentile = 70\n",
        "\n",
        "log = []\n",
        "\n",
        "for _ in range(100):\n",
        "    # Generate new sessions, select elites and update our agent.\n",
        "    sessions = [generate_session(env, agent) for _ in range(n_sessions)]\n",
        "    states_batch = [session_states for session_states, session_actions, session_reward in sessions]\n",
        "\n",
        "    actions_batch = [\n",
        "        session_actions for session_states, session_actions, session_reward in sessions\n",
        "    ]\n",
        "\n",
        "    rewards_batch = [session_reward for session_states, session_actions, session_reward in sessions]\n",
        "\n",
        "    elite_states, elite_actions = select_elites(\n",
        "        states_batch, actions_batch, rewards_batch, percentile\n",
        "    )\n",
        "\n",
        "    elite_states_tensor, elite_actions_tensor = torch.tensor(elite_states), torch.tensor(elite_actions)\n",
        "    agent.train()\n",
        "    prob = agent(elite_states_tensor)\n",
        "    loss = loss_fn(prob, elite_actions_tensor)\n",
        "    loss.backward()\n",
        "    opt.step()\n",
        "    opt.zero_grad()\n",
        "\n",
        "    # agent.partial_fit(elite_states, elite_actions)\n",
        "\n",
        "    show_progress(rewards_batch, log, percentile, reward_range=[0, np.max(rewards_batch)])\n",
        "\n",
        "    if np.mean(rewards_batch) > 190:\n",
        "        print(\"You Win! You may stop training now via KeyboardInterrupt.\")"
      ],
      "execution_count": 42,
      "outputs": [
        {
          "output_type": "stream",
          "name": "stdout",
          "text": [
            "mean reward = 550.620, threshold=611.300\n"
          ]
        },
        {
          "output_type": "display_data",
          "data": {
            "text/plain": [
              "<Figure size 800x400 with 2 Axes>"
            ],
            "image/png": "[encoded data removed]"
          },
          "metadata": {}
        },
        {
          "output_type": "stream",
          "name": "stdout",
          "text": [
            "You Win! You may stop training now via KeyboardInterrupt.\n"
          ]
        },
        {
          "output_type": "error",
          "ename": "KeyboardInterrupt",
          "evalue": "",
          "traceback": [
            "\u001b[0;31m---------------------------------------------------------------------------\u001b[0m",
            "\u001b[0;31mKeyboardInterrupt\u001b[0m                         Traceback (most recent call last)",
            "\u001b[0;32m<ipython-input-42-2780f04d6c80>\u001b[0m in \u001b[0;36m<cell line: 6>\u001b[0;34m()\u001b[0m\n\u001b[1;32m      6\u001b[0m \u001b[0;32mfor\u001b[0m \u001b[0m_\u001b[0m \u001b[0;32min\u001b[0m \u001b[0mrange\u001b[0m\u001b[0;34m(\u001b[0m\u001b[0;36m100\u001b[0m\u001b[0;34m)\u001b[0m\u001b[0;34m:\u001b[0m\u001b[0;34m\u001b[0m\u001b[0;34m\u001b[0m\u001b[0m\n\u001b[1;32m      7\u001b[0m     \u001b[0;31m# Generate new sessions, select elites and update our agent.\u001b[0m\u001b[0;34m\u001b[0m\u001b[0;34m\u001b[0m\u001b[0m\n\u001b[0;32m----> 8\u001b[0;31m     \u001b[0msessions\u001b[0m \u001b[0;34m=\u001b[0m \u001b[0;34m[\u001b[0m\u001b[0mgenerate_session\u001b[0m\u001b[0;34m(\u001b[0m\u001b[0menv\u001b[0m\u001b[0;34m,\u001b[0m \u001b[0magent\u001b[0m\u001b[0;34m)\u001b[0m \u001b[0;32mfor\u001b[0m \u001b[0m_\u001b[0m \u001b[0;32min\u001b[0m \u001b[0mrange\u001b[0m\u001b[0;34m(\u001b[0m\u001b[0mn_sessions\u001b[0m\u001b[0;34m)\u001b[0m\u001b[0;34m]\u001b[0m\u001b[0;34m\u001b[0m\u001b[0;34m\u001b[0m\u001b[0m\n\u001b[0m\u001b[1;32m      9\u001b[0m     \u001b[0mstates_batch\u001b[0m \u001b[0;34m=\u001b[0m \u001b[0;34m[\u001b[0m\u001b[0msession_states\u001b[0m \u001b[0;32mfor\u001b[0m \u001b[0msession_states\u001b[0m\u001b[0;34m,\u001b[0m \u001b[0msession_actions\u001b[0m\u001b[0;34m,\u001b[0m \u001b[0msession_reward\u001b[0m \u001b[0;32min\u001b[0m \u001b[0msessions\u001b[0m\u001b[0;34m]\u001b[0m\u001b[0;34m\u001b[0m\u001b[0;34m\u001b[0m\u001b[0m\n\u001b[1;32m     10\u001b[0m \u001b[0;34m\u001b[0m\u001b[0m\n",
            "\u001b[0;32m<ipython-input-42-2780f04d6c80>\u001b[0m in \u001b[0;36m<listcomp>\u001b[0;34m(.0)\u001b[0m\n\u001b[1;32m      6\u001b[0m \u001b[0;32mfor\u001b[0m \u001b[0m_\u001b[0m \u001b[0;32min\u001b[0m \u001b[0mrange\u001b[0m\u001b[0;34m(\u001b[0m\u001b[0;36m100\u001b[0m\u001b[0;34m)\u001b[0m\u001b[0;34m:\u001b[0m\u001b[0;34m\u001b[0m\u001b[0;34m\u001b[0m\u001b[0m\n\u001b[1;32m      7\u001b[0m     \u001b[0;31m# Generate new sessions, select elites and update our agent.\u001b[0m\u001b[0;34m\u001b[0m\u001b[0;34m\u001b[0m\u001b[0m\n\u001b[0;32m----> 8\u001b[0;31m     \u001b[0msessions\u001b[0m \u001b[0;34m=\u001b[0m \u001b[0;34m[\u001b[0m\u001b[0mgenerate_session\u001b[0m\u001b[0;34m(\u001b[0m\u001b[0menv\u001b[0m\u001b[0;34m,\u001b[0m \u001b[0magent\u001b[0m\u001b[0;34m)\u001b[0m \u001b[0;32mfor\u001b[0m \u001b[0m_\u001b[0m \u001b[0;32min\u001b[0m \u001b[0mrange\u001b[0m\u001b[0;34m(\u001b[0m\u001b[0mn_sessions\u001b[0m\u001b[0;34m)\u001b[0m\u001b[0;34m]\u001b[0m\u001b[0;34m\u001b[0m\u001b[0;34m\u001b[0m\u001b[0m\n\u001b[0m\u001b[1;32m      9\u001b[0m     \u001b[0mstates_batch\u001b[0m \u001b[0;34m=\u001b[0m \u001b[0;34m[\u001b[0m\u001b[0msession_states\u001b[0m \u001b[0;32mfor\u001b[0m \u001b[0msession_states\u001b[0m\u001b[0;34m,\u001b[0m \u001b[0msession_actions\u001b[0m\u001b[0;34m,\u001b[0m \u001b[0msession_reward\u001b[0m \u001b[0;32min\u001b[0m \u001b[0msessions\u001b[0m\u001b[0;34m]\u001b[0m\u001b[0;34m\u001b[0m\u001b[0;34m\u001b[0m\u001b[0m\n\u001b[1;32m     10\u001b[0m \u001b[0;34m\u001b[0m\u001b[0m\n",
            "\u001b[0;32m<ipython-input-40-095730d53245>\u001b[0m in \u001b[0;36mgenerate_session\u001b[0;34m(env, agent, time_limit)\u001b[0m\n\u001b[1;32m      7\u001b[0m         \u001b[0;31m# state and use the probabilities you predicted to pick an action.\u001b[0m\u001b[0;34m\u001b[0m\u001b[0;34m\u001b[0m\u001b[0m\n\u001b[1;32m      8\u001b[0m         \u001b[0;31m# Sample actions, don't just take the most likely one!\u001b[0m\u001b[0;34m\u001b[0m\u001b[0;34m\u001b[0m\u001b[0m\n\u001b[0;32m----> 9\u001b[0;31m         \u001b[0ms_tensor\u001b[0m \u001b[0;34m=\u001b[0m \u001b[0mtorch\u001b[0m\u001b[0;34m.\u001b[0m\u001b[0mtensor\u001b[0m\u001b[0;34m(\u001b[0m\u001b[0mstate\u001b[0m\u001b[0;34m)\u001b[0m\u001b[0;34m\u001b[0m\u001b[0;34m\u001b[0m\u001b[0m\n\u001b[0m\u001b[1;32m     10\u001b[0m \u001b[0;34m\u001b[0m\u001b[0m\n\u001b[1;32m     11\u001b[0m         \u001b[0;31m# predict array of action probabilities\u001b[0m\u001b[0;34m\u001b[0m\u001b[0;34m\u001b[0m\u001b[0m\n",
            "\u001b[0;31mKeyboardInterrupt\u001b[0m: "
          ]
        }
      ]
    },
    {
      "cell_type": "markdown",
      "metadata": {
        "id": "V3QsLwz38h9h"
      },
      "source": [
        "### Analysing the results"
      ]
    },
    {
      "cell_type": "markdown",
      "metadata": {
        "id": "-k5Me6LS8lEt"
      },
      "source": [
        "Let's record a video of our agent playing."
      ]
    },
    {
      "cell_type": "code",
      "metadata": {
        "id": "XvsGIMiA8Ka1",
        "outputId": "9820478c-f3b5-448d-8d73-5d08868f9623",
        "colab": {
          "base_uri": "https://localhost:8080/",
          "height": 227
        }
      },
      "source": [
        "import gym.wrappers\n",
        "\n",
        "\n",
        "with gym.wrappers.Monitor(gym.make(\"CartPole-v0\"), directory=\"videos\", force=True) as env_monitor:\n",
        "    sessions = [generate_session(env_monitor, agent) for _ in range(100)]"
      ],
      "execution_count": 43,
      "outputs": [
        {
          "output_type": "error",
          "ename": "AttributeError",
          "evalue": "module 'gym.wrappers' has no attribute 'Monitor'",
          "traceback": [
            "\u001b[0;31m---------------------------------------------------------------------------\u001b[0m",
            "\u001b[0;31mAttributeError\u001b[0m                            Traceback (most recent call last)",
            "\u001b[0;32m<ipython-input-43-cf68c33b21c4>\u001b[0m in \u001b[0;36m<cell line: 4>\u001b[0;34m()\u001b[0m\n\u001b[1;32m      2\u001b[0m \u001b[0;34m\u001b[0m\u001b[0m\n\u001b[1;32m      3\u001b[0m \u001b[0;34m\u001b[0m\u001b[0m\n\u001b[0;32m----> 4\u001b[0;31m \u001b[0;32mwith\u001b[0m \u001b[0mgym\u001b[0m\u001b[0;34m.\u001b[0m\u001b[0mwrappers\u001b[0m\u001b[0;34m.\u001b[0m\u001b[0mMonitor\u001b[0m\u001b[0;34m(\u001b[0m\u001b[0mgym\u001b[0m\u001b[0;34m.\u001b[0m\u001b[0mmake\u001b[0m\u001b[0;34m(\u001b[0m\u001b[0;34m\"CartPole-v0\"\u001b[0m\u001b[0;34m)\u001b[0m\u001b[0;34m,\u001b[0m \u001b[0mdirectory\u001b[0m\u001b[0;34m=\u001b[0m\u001b[0;34m\"videos\"\u001b[0m\u001b[0;34m,\u001b[0m \u001b[0mforce\u001b[0m\u001b[0;34m=\u001b[0m\u001b[0;32mTrue\u001b[0m\u001b[0;34m)\u001b[0m \u001b[0;32mas\u001b[0m \u001b[0menv_monitor\u001b[0m\u001b[0;34m:\u001b[0m\u001b[0;34m\u001b[0m\u001b[0;34m\u001b[0m\u001b[0m\n\u001b[0m\u001b[1;32m      5\u001b[0m     \u001b[0msessions\u001b[0m \u001b[0;34m=\u001b[0m \u001b[0;34m[\u001b[0m\u001b[0mgenerate_session\u001b[0m\u001b[0;34m(\u001b[0m\u001b[0menv_monitor\u001b[0m\u001b[0;34m,\u001b[0m \u001b[0magent\u001b[0m\u001b[0;34m)\u001b[0m \u001b[0;32mfor\u001b[0m \u001b[0m_\u001b[0m \u001b[0;32min\u001b[0m \u001b[0mrange\u001b[0m\u001b[0;34m(\u001b[0m\u001b[0;36m100\u001b[0m\u001b[0;34m)\u001b[0m\u001b[0;34m]\u001b[0m\u001b[0;34m\u001b[0m\u001b[0;34m\u001b[0m\u001b[0m\n",
            "\u001b[0;31mAttributeError\u001b[0m: module 'gym.wrappers' has no attribute 'Monitor'"
          ]
        }
      ]
    },
    {
      "cell_type": "code",
      "metadata": {
        "colab": {
          "base_uri": "https://localhost:8080/",
          "height": 501
        },
        "id": "VPoe8GIu8rQx",
        "outputId": "8592cf70-1cd9-4492-db4a-792a40972160"
      },
      "source": [
        "from base64 import b64encode\n",
        "from pathlib import Path\n",
        "\n",
        "from IPython.display import HTML\n",
        "\n",
        "\n",
        "video_paths = sorted([file for file in Path(\"videos\").iterdir() if file.suffix == \".mp4\"])\n",
        "video_path = video_paths[-1]  # You can also try other indices\n",
        "\n",
        "if \"google.colab\" in sys.modules:\n",
        "    # https://stackoverflow.com/a/57378660/1214547\n",
        "    with video_path.open(\"rb\") as fp:\n",
        "        mp4 = fp.read()\n",
        "    data_url = \"data:video/mp4;base64,\" + b64encode(mp4).decode()\n",
        "else:\n",
        "    data_url = str(video_path)\n",
        "\n",
        "HTML(\n",
        "    \"\"\"\n",
        "<video width=\"640\" height=\"480\" controls>\n",
        "  <source src=\"{}\" type=\"video/mp4\">\n",
        "</video>\n",
        "\"\"\".format(\n",
        "        data_url\n",
        "    )\n",
        ")"
      ],
      "execution_count": null,
      "outputs": [
        {
          "output_type": "execute_result",
          "data": {
            "text/html": [
              "\n",
              "<video width=\"640\" height=\"480\" controls>\n",
              "  <source src=\"data:video/mp4;base64,AAAAIGZ0eXBpc29tAAACAGlzb21pc28yYXZjMW1wNDEAAAAIZnJlZQAAPwptZGF0AAACrgYF//+q3EXpvebZSLeWLNgg2SPu73gyNjQgLSBjb3JlIDE1MiByMjg1NCBlOWE1OTAzIC0gSC4yNjQvTVBFRy00IEFWQyBjb2RlYyAtIENvcHlsZWZ0IDIwMDMtMjAxNyAtIGh0dHA6Ly93d3cudmlkZW9sYW4ub3JnL3gyNjQuaHRtbCAtIG9wdGlvbnM6IGNhYmFjPTEgcmVmPTMgZGVibG9jaz0xOjA6MCBhbmFseXNlPTB4MzoweDExMyBtZT1oZXggc3VibWU9NyBwc3k9MSBwc3lfcmQ9MS4wMDowLjAwIG1peGVkX3JlZj0xIG1lX3JhbmdlPTE2IGNocm9tYV9tZT0xIHRyZWxsaXM9MSA4eDhkY3Q9MSBjcW09MCBkZWFkem9uZT0yMSwxMSBmYXN0X3Bza2lwPTEgY2hyb21hX3FwX29mZnNldD0tMiB0aHJlYWRzPTMgbG9va2FoZWFkX3RocmVhZHM9MSBzbGljZWRfdGhyZWFkcz0wIG5yPTAgZGVjaW1hdGU9MSBpbnRlcmxhY2VkPTAgYmx1cmF5X2NvbXBhdD0wIGNvbnN0cmFpbmVkX2ludHJhPTAgYmZyYW1lcz0zIGJfcHlyYW1pZD0yIGJfYWRhcHQ9MSBiX2JpYXM9MCBkaXJlY3Q9MSB3ZWlnaHRiPTEgb3Blbl9nb3A9MCB3ZWlnaHRwPTIga2V5aW50PTI1MCBrZXlpbnRfbWluPTI1IHNjZW5lY3V0PTQwIGludHJhX3JlZnJlc2g9MCByY19sb29rYWhlYWQ9NDAgcmM9Y3JmIG1idHJlZT0xIGNyZj0yMy4wIHFjb21wPTAuNjAgcXBtaW49MCBxcG1heD02OSBxcHN0ZXA9NCBpcF9yYXRpbz0xLjQwIGFxPTE6MS4wMACAAAABsGWIhAAz//727L4FNf2f0JcRLMXaSnA+KqSAgHc0wAAAAwAAAwAAFgn0I7DkqgN3QAAAHGAFBCwCPCVC2EhH2OkN/yzpIoADkLJ6WUqcbm67hchfHbMYE2U2IJwoCUbUX4Bl1wG/qypPGTpHjVnkn2kG4z9bswRLKDFwbcOR6FuyHd6FRR/NSpCfAy8ZuxZBAat3VEsOge5NN8FAgjD/uw6WytTp65DDrNQQTkAeNd96ljTIBXX0KzTE3+cdm1xqKXayQAB0RtAY5poW56e49hS5B9hcgmMbpfNAubslG6lIpQHSaKs8NDfhNKbKYRkh8JsYrPrHVKBFglPZdT7NN3H183HEfxU6N5BZ+/iv2leJg5NVYo2+f+/KXchtMfpw6G0La7b57AJ+0CIhA6rPb/J3o62Fn8f/iqQie4pAVoZaVa2YX6gQ9qXqFxApq1wDOoxvKDP5/Iha6sb/N6iuIJqOHEZx88TMKUbcV3WGFvXeiZdlDewnYrqMSRTSPcAQbB94MeRE4PJhe8xxP/t2RSjtxzXkl8GE1ugnxIFvlCi8B1YxK2inYAAAAwAAAwAasQAAAGtBmiRsQz/+nhAAAEVikJQBfFg431C2xxUReWU6PqItfVRSjmGXeLAzr7hqh1pIalBRlWQaruyk1RLzQR+o2H8h/i74qAaow+W6DE7ibHvGW/5G7Jyvc4hZ5ACdyT89a1jtU4QR/cbbJHHq4AAAADZBnkJ4hH8AABa1WpAbCDwkLAAlhyvPYSDcj9IqfWdcmuMqDN+NqoP6gAAAAwAXahnSWzwgc0EAAAArAZ5hdEf/AAAjrDydkmK8tkshijZSjGwGhcF6tMAAAAMAAAMC1nc/eEDegAAAACgBnmNqR/8AAAMAGv+HW+OtedH4NQ7aI3LH7hwAAAMABerpFyfqeEFBAAAAr0GaaEmoQWiZTAhn//6eEAAARVS/prABYB9z+ssk7B3yIgpOZCIX8jiZVDBRnX8kfYtfmdYe2U6Q7eX39QsUQdmmWoBcdb+F/NiKDdm5eudwiIDZsxGIMO/PLheajk8OO+kC/7OHLiN6YxR5CesJqGG34arhvxc1ZsMDVmLORJwDpw3+MCJdhXazmBQ/XKS7gMBwfigyVXPY9zhpHVLe5oVLiSIasNrLClMwpG/m78EAAAA1QZ6GRREsI/8AABa8TgLlJco51te+3lA7+gAXQOaUj4i9le05YddTbIg0YWy29ifvw+f+ArcAAAAcAZ6ldEf/AAAjt/9E508vj4lzg0ocZ574KpoekwAAAEQBnqdqR/8AACOyK3eAASx+vPI2h5eZF2+rMZ1npqUHzbe80KPnFWJj/gdxTBklqmBu89pxUGRnKgydi0X5dpMPAKQMuAAAAD1BmqxJqEFsmUwIZ//+nhAAAAn/8iCATEgpVO02apA98Q9Rufkd0j3/oEHEhG4vxTWqXNKmT/ouJZJA6Yw8AAAAJUGeykUVLCP/AAADAzlgCGiha8vtMRYVYSiwrONacwPPzeXvkYEAAAAfAZ7pdEf/AAAFDGLJ43TPg4Mw5bauCvBUpwMQ1Ra/SAAAAB0BnutqR/8AAAUeRl6Y8u98fxgfX1YxemrobA6+2AAAAF9BmvBJqEFsmUwIZ//+nhAAAEdFBPccgFo/taoBaNChGBW159SQYrC+W5XQwGlY/7+9ERvEe5Z5Cac0ijWmJTYTNJ48KVlS1ldpJmXzF6m5hmBEllm8Vht0irc5mCR5uQAAADdBnw5FFSwj/wAAFweUkcedGTU8AJaoFzne45LXLjd67uAkAczm0eIEd75x84MT/jyDKayM6SYBAAAANAGfLXRH/wAAJLsskAbZ55bA4FGYGoUyKRKCqu/Jg7F3K+B+x/oNJhRj72mcw2FTJ2juxUEAAAAgAZ8vakf/AAAksiyDl5LnNy+3GscJ1JZXWsLy8TOWcEAAAABKQZs0SahBbJlMCF///oywAAAbJfBkOPJIZ0lO1wAt4nMsog9f0FqOZaVaVlIqZKLpa8knDRRYl0sPD7eAoIWrLBoRffJs1a6OBgQAAAArQZ9SRRUsI/8AAAir+uUbuIAFh7xdyiHtw2mhbf30USCj6Vu5LjfvBrR6kQAAACwBn3F0R/8AAA3EvVEAK49T9PLtk0lZ/MULV5k/aIpzsDL3h08B1L/nf2LR6QAAACsBn3NqR/8AAAVDqIFbdDR6pwd3xpXzU8otYAJUnvfXx0dFhMvezcWpvU2AAAAAo0GbeEmoQWyZTAhf//6MsAAASA5btfHju7kMgCOqw65id3o2FOE1tKKm8q2T6NcUeF4SyzNaqcC2yUKM64tfVfnHE083JlFRAmiJvl96p8gL/3P/cGxOx4pdLSlVdlBGDd9B0baBHwJZZdcaCINx82inSpaRcxPu0WfwHIKRvLTE9+eYfPYzytvzkJ/wjIO6e9fJT91X1hFVSrT+16NIWK05ukMAAAA4QZ+WRRUsI/8AABdMN4CIciYBvWGCNGkHj3YgABxupUQu2wd1BE9KPV9tj3B4Co6jQEup/dgg/WAAAAAgAZ+1dEf/AAAjrD0izHMhIuSmdXyYSx82Zb/F3FKWuVEAAAAgAZ+3akf/AAAkscwrHxdfLUNNAiV4BUvwDB3hlGjDSoEAAABmQZu8SahBbJlMCF///oywAABGCNZwAjAxi9eIAC9gd9Ynd51W5bQQWEK9eyAPZw2S8i6i84atERgCtJ7Jv+TYiw3S7bM4dkqUBo3z2hfRgiT4p6sjwC2HSzfcFclDcxJkivKqEUZ4AAAAUkGf2kUVLCP/AAAXQ+XeAIlYjrBkTKsztioB8Oga62o5D11c5Euj8kkH3MW+Uy+Itr6p9yUKwATxGYBv72s49fdfGlzEHCEtds9qrbVNEGzsJMEAAAAnAZ/5dEf/AAAkwl3gSZ4AOPTvIbgnv/TRVaQ4o0BkiiJiXI8inUfAAAAAQQGf+2pH/wAAJLGFoAMUMnsvSdRPCLuAC2cu3uOyQD4dVyZ+rzKuBkopL3U/F8RuKlytOoKqsHFcay3alUYbpwCBAAAAP0Gb/UmoQWyZTAhn//6eEAAAR1S/BoAnwvgDvlSqei+5GuNaxe81Q88VLadNPGEOU65JA84ww4+v4P/uH37Z8QAAAFFBmgFJ4QpSZTAhn/6eEAAARX9RaKAChmsTpPndnhYyBReINoYpLVrY7qJ3IWUyi4+WsL+Uuj4RPuQBEOQPE9iiqfPi5Yp9qbMj7/7mIk2TBC4AAAA9QZ4/RTRMI/8AAAivIeY8pfuAggqcboSkABcVmWRnTJoROho9kiKa+fzfBoDazIgrrzJPs3J+F644GMdEqwAAACoBnl50R/8AAAVA9q8KK5VjpKLOFhzES2yfLAAh+GfudhaPdC3SafedmEcAAAAiAZ5Aakf/AAAN1JUtC9Ct5CU/GKLVQGs5Npz13mpA2IPw+AAAAE1BmkVJqEFomUwIZ//+nhAAAEdRPp58mgDlGvXHkMCafw7+plcjZ9xx9o0R+5PDrhBS/NhKJou+TZj/PTNmsg7l9zykt+ZYLqY9hJCqwQAAACFBnmNFESwj/wAAF0UrN2uOKI2YPV+SYfEmoq885N5jADAAAAAwAZ6CdEf/AAAkwxdfSFJ057VEkhIVex3UMjBzI+gAIPBk6JTZ3wMVIpQ6ldvKk9SBAAAANQGehGpH/wAAAwHxf449S26YLKal7UG5HicXVGrcm+rVoAXUXwYq/dY/XggZRISt7CEE6mrtAAAAT0GaiUmoQWyZTAhn//6eEAAARz6WgAUDtEMFGNcQpoaG0rreBi53UgI8RyJDGsPd+uHBd9r1waa1LTiZQ8AnqvtvOMKP2U8bv+vxuvpEJkcAAAA7QZ6nRRUsI/8AABdMTkMJTdrWAAnDnsxCxegsChfF726azN0DBl8/4eBKFEFuEToMaaTHhTA5mBbCiMEAAAAjAZ7GdEf/AAAN1d0sOZagAXUS4udDBVKNy29e2I8ir7kIH+AAAAAoAZ7Iakf/AAAkvwQj7G8UZdHzaq3XiHKagYv8PABsA499bdAQw2R49wAAAGZBms1JqEFsmUwIZ//+nhAAAEdRRyJSAJ+9S6skDGwx2WtDHBFsmIHDn9knhvbMdSvmVN2AFGFKXx7uqdcRuiz7HjRiMHZMAABZIK/CDHulStko2lLWBxF6E7hxtcYq4wXa63FD3uEAAAAiQZ7rRRUsI/8AABdJM7XXIim6/DUqGvE2Axhf5rXZaHcAgAAAABsBnwp0R/8AACSr+GX/pxYvAiDBwUp/QO5l6kAAAAATAZ8Makf/AAAksjvGT/IwkTcF5QAAALNBmxFJqEFsmUwIZ//+nhAAAEdRDZHLYBCPXgn99C2/ilc7Qv+tQHBwPuZ0Obfzt4V0jHCq9Wh2UYAnHsz1JDZXpJu9zBvfsHtJiOfIS7nyJ5n5qoqHN7zo82PKKUCT0q1dFv3DR1V+EBWiqt/7gCKS9xEFjH4QfdMLE9Zb7X0NQ8g/wQUudGgp0whLn1LOJDaQvAD17sTR+sfv8S3IU4w47HYH/1+mTmDzSIGdEE2EHVQYgQAAADRBny9FFSwj/wAAF0NHt5EQALABxxjc/SZ41JVgeHoc0/kS7IDfdG3HJXxcg0gsLsdl0HuBAAAAHgGfTnRH/wAAJKv4V+CQKabrMryiHCzRczBKLM8x7gAAADkBn1BqR/8AACSx15bNBAwFF9vOj/2m3uB6PyIA5P/WV1KDHbiMOtACE3NP+XrFO1UzBYgHqy/qHXgAAABpQZtVSahBbJlMCF///oywAABIKZPOgHPi3pABw5dsGTDHrTZfup4gyLcagZgXe9iWLzuDcIjJTvmyxX51BIh0J2q6EPWiBkWBGVjtOJXjeMqYxJiS85es+pPmNL2rgfQMwHB3Vm3PqDvHAAAATkGfc0UVLCP/AAAXRUzCQAvv51OOKNXxG+mbI5jhWkBuY6OUrARACBt3RvGif35mxwLKiLED/CbmKU3RIB1BgbmYQYOE28ECJHMYkVz0wAAAAC4Bn5J0R/8AACSr+Fwl1gnebb7DRX3kGjG68h/L3FVOtSioAGxPpuU3AoshtMLAAAAAMAGflGpH/wAAI7I8wrqJo5MW3oYcd3EDQpy6H4Ilfm1momTP4Doo989fwdZ4xKYLVwAAAIFBm5lJqEFsmUwIX//+jLAAAEgVmdO4Bq+lopjZaICos//c/pzReUpM2UDagVcz68FStab2DkgHEN3NsmscuAZjzzEIA4Wk6mHgZ0pcb1GqmZeW8Qdbh1nD1cMWOzJxoXJ2/CkBtpAHPe0yE8XsTPF4RDM09gq193n6J1ZlbL6zljgAAAAyQZ+3RRUsI/8AABdOo1aYRHhA+5a4u6cL/JvE9y3geg88/cIVxxRC1ilDLUWjzvovnXkAAAA4AZ/WdEf/AAAkq/hbeBIGvTAJVk4eI8jigq3Z2H1kjZxwBtXEAIg179J/0fw9zLrkSFst66B42pEAAAA0AZ/Yakf/AAAko/5gTe/ElXfva/hxz1mUfa6BVtukgAajPOTPOZW6pan+8t8PaAgZDFa14AAAAJ1Bm91JqEFsmUwIX//+jLAAAEgH+2AavqS7LB/KL1LtHZ7P5HgVbamj56c7VQ1UF98ml/H+KxjtHvz0MqFEOmggRWKg8ZkbVc0gnvoXm7upJ/XWfUuX/HtFi/EY0A4fzoOaYhYDXK2hZhE3p5CvnaSXL26Dpumd5nhCkXSPWP+fFzGSXLCvp8aqs3CSFZma1wg3c3eTwJWFSXi6nmoxAAAAOEGf+0UVLCP/AAAXTE5rwuRku8N7rHz6/kJ8Lt9L0ZqXkdRMALqeOCq5m3RNTqSio0edsuqHvrakAAAAKwGeGnRH/wAABUPL7HalAAtGfOzV6Ym5f9v5imRC1si0zeg4cPYl9gHAiykAAAA/AZ4cakf/AAAkvxpxcPnrFnu4lxUAEsU/AncMKg9ru3FODHi4fjOMKqaS9OjtDzhxaRIMivoAdq23VcLNcCvBAAAAakGaHkmoQWyZTAhn//6eEAAAGvkEUnK8riU5SmnNqSzv0RsY4jA+/FJTJ/QX5lYqRq8LR5+KQ7YXB1C7FsRnjviaKyPVlo9Ha2tMe27UV9exV4OtPmIC8J3FiaWsqY+02IdPuERvsCnF3LQAAABoQZoiSeEKUmUwIZ/+nhAAAEdFCSAATRIBvtzNsnK8Yhdo3INwifr53Nge0jZnp5N3vlel+50SG9z7s0GL6Tbyxdcbrbgl7FBcEKr6xkq6mVIYy8Jcj78vdaWBs7SIG9UVlpUqjGqQ+eAAAAA3QZ5ARTRMI/8AAAir+uezyR9z9wPB/sMMPBBwgR6MU+dTpAC4pT/IG1jgYP0dhfq7Dg/0GGK1qQAAACUBnn90R/8AAA3OANUD1PfUJxVpsz3z/ZI1iZYLM09zXmOdF2LAAAAAHwGeYWpH/wAAJLHMLinpblgbUX3m7u/Ofl5LrR0ePi0AAACBQZpmSahBaJlMCGf//p4QAABHUj3IBNJXORdYNkgN98aBzANgC9MGk+4xTEiZ/ONDfTEj9kzWpTf7MOEURuOnjEyHQiYi8OGJ9LLP1QIKF4MRwheu5I8yqjWyIhw/+uKyBzY+g5U6nmQtcwUlSylxttgi0KOonw5Ce13QAybWEY+AAAAAL0GehEURLCP/AAAXRVwYiI4qMTAgLHWevEx9W9f82BrEEVyPGXU47xSNSCpyEJdxAAAAKgGeo3RH/wAABUSZtgQup7iVBtFmlck/hMVQ9LCR5OZf1tbG5pX6gIo+LQAAAC8BnqVqR/8AACTVIQAi/VuK0fnz/5uums/sHSPRnq5BAUtcnH7eCCJ+glsyS6S7gQAAAF1BmqpJqEFsmUwIZ//+nhAAAEdBRoADmvdWskHbl/WQPMGL8f30tlE+7pCP88YG80/bJHIRU1+iaRAWQGhM9o19Ixhm/RVBllw/gVfr9u/+hW8iK3Ad1RHXkgwHyosAAAAwQZ7IRRUsI/8AABdFWTgIAQbHTPdG3B2vhvcgrl1g1qrm89G7ELpGDwAdya1xFIlxAAAAJQGe53RH/wAAI7rYOr2ZUZa3Iox/cCiVD/5Er/i1jaZLxqg9hgcAAAAzAZ7pakf/AAANh+wViESH5lDWMD4esx93WwoAD2q6AAGrtPjd0a9+Ahv6i7MYm4np4UPBAAAAgUGa7kmoQWyZTAhf//6MsAAAR/4qsAg9FwmYZ2z7HQOMa7c4yRdNHVNdOb7d2tSmdIRw33dANL3H+4f1sm64mq76rkete6mnmQ3VxKh9UCgv3/f+xOBtFhEU+le0L9rhv9+FfNULbqS+YfmdGh3gzIOm+1IUIc0mQnJQKtn4bWX1wwAAAE1BnwxFFSwj/wAAF1ifgCtRzZ3RjB/1PjF6TCyw7vfLN7f4gpjb29mOiD7Ydvx1nNKzF+F5H+x+Tfy58BAJ6MK9pyNQcjT3mLGRfyp5qQAAADkBnyt0R/8AACSr+GAAmR/GsmcsM3JEWsilexTeiwe7GX79S/SGwASvoP3Puh5MT7RYlsR7WE3nC7kAAAA1AZ8takf/AAAkscwT8q9X06IqRnRhWIF1npRM1+5+SpOscsboadX99PsiZLCoAPvQwfyl9BcAAAB5QZsySahBbJlMCF///oywAABIB7kAF/tqMeO4E5PjAPScDj3X5KDQpEVrMtYM8HC5vg2lY7vL38vjUmPQ3Vs3LQ/uHpjlJtEzcTNP/mwyUVOJT7bMUeKel/uCB7nMIKIy/tznoGHG0J5+x651yonxQUecPGJCiCYAgQAAAEFBn1BFFSwj/wAAF0xOQ8AhMLTlDWysrMu2i3z5EdXuplr0WIAbsexcpydFWYJ1WXjQL5wxSyHAaq/v8YlreYI9wAAAACkBn290R/8AAA3PRPrRW/oqUx0StkE22J5lc95rghpadlNsuiTfnLcNlAAAACQBn3FqR/8AACSyLGcvDFD42La5GAWyJ/YjtEcCEclBDRa4m4EAAAB1QZt0SahBbJlMFEwz//6eEAAAR1FIpgfaku9SgAkh/f1OKexoRWXNbRvMYh4/9ZVPeqcKEzGlpKzZh9GWv7KAfAdpAp6UY6m5e79NkhD45tJ2mUD+ipzO031g0RtCFr8vJhd8+rYRYs5CxGoOGO6vsKqj6sHAAAAALAGfk2pH/wAAJLHL5pOBrgzerZOuv9gGeCTmNyb2lHO0/AWV+W02/i+SUG1IAAAATEGbmEnhClJlMCGf/p4QAABHRGoiXVJYijXxIRE6FxVq+Cjgls2efpCrciOXKvQ0yXgYoEmAzeSBM4zhLIvVfe03gQpXgAE4MASWpuEAAAAzQZ+2RTRMI/8AABdDK7UGLRU/qs58NIM7kxMTw5WIwqgvTAC6nKcrUzY9Fqqww7UEme/wAAAAMwGf1XRH/wAADcdF/Hmi/raeBgxmD5TT4w6F+QpzWAgACdsX5qDQxehsfzrHbNvdn+fFBQAAACIBn9dqR/8AACS/BCZuneBbtogPYhQ5qcugNSl3ZrRB9E3BAAAAREGb3EmoQWiZTAhn//6eEAAAR0RqHpxUiAItk6AYa5roNOpFx6pD3shyXgfVnrnyjo+PStvdN6kNQPmqypArY5ZkhpA+AAAAVUGf+kURLCP/AAAXWJ+AImLjfSqskZRvU7qGAVyPf4S+KkG5LNW9ZDuUg4Ga3jEtGEHUBWBP1ntV8Wp1+S7dK/OQOq3Ji4AU5G2AEwrBoF7BKFrvg68AAAA8AZ4ZdEf/AAAkwxdeIPh0EpdFc8lhuf+GzhzGyWFfG10wDmuxcADai8/c6KEBJeCJm3by/OsW3i/uQ914AAAAMQGeG2pH/wAAJMcyctTxduwPqi4QPIPqwr2WFeYDq7kLo7L6HLT6AACdtC9qAXOJSXkAAAB0QZoASahBbJlMCGf//p4QAABHum9AUVDI0SAHPb/LiwPAro0DHrJLBfIt360uhiP6rHCt8/0U46GZjmyO3nCa5t9ZLZtcKQVzAfEcVIkZNuh7Q4oG3dmrV0rRPoILMiguDgDTWw9eDhFYSPh9QLRJXziQz2EAAABDQZ4+RRUsI/8AABdFN6pigrEE1wH5/RwMb3fwxHEJAMO2zXg3tZIWwAtwJMh8sppvFwz/qlcEEJUODn3nt6l4xZ9qQAAAAC4Bnl10R/8AACSpznoj0/iGjGmiL3uBFXP0erkEFomlbzKOT+fzeHsv0PWXke1IAAAALgGeX2pH/wAADdQZm3Eb3SoBNRI+PnXf3g02OLnYUky1U+9tNwUy+MAP/Bdne4EAAACBQZpESahBbJlMCGf//p4QAABFf2zK4MpQBfgprLANJ/EtNtb/EZ8nro8LMN/x6t0yZvmS+4SXoOSrPGNPwVcCWGy8vkN5Pq2Br1/JldnR4dgoOaSxG5m5s8yp+mdKWF4iGl/0PEbYudr1w/LSU8C5Wdgxe7LExijqNUwtJHBTW61rAAAAP0GeYkUVLCP/AAAWu5ckQAOJs7Lf2YdKv0fM7C56hP8q9opcnNJGrjemLkuY5v6OFAB0+IaxURqky/vj9T1CTQAAAEgBnoF0R/8AACOSPBAOQCfdQWjMYfv78C9b+8AEUwhzb4rLXyW1Kvnw2pvKvzBBhIDHdd4wthiL9dhfPewQqA6+w6B6oGb2HakAAAAuAZ6Dakf/AAAjsisNzCmGCuDFIdM9Ex/GZ8cq4lkHopxNKbvmopEZLtK5I2L9sQAAAK5BmohJqEFsmUwIZ//+nhAAAEVFK1JADlG8Fn/PnYd2gO3LadlBjyGRrQbr6pi/eMYE1PcyfCJW9W/b2ofwdDwKbldxlenMqnJ5Yuj+WPvUvT+5cJBcyfSeKBD39KEIvfS3OfuKrhWUzAdt1s0r0FkFGBbkkDlOlxJITwAQueabcnOvML/sbY0d2u9bgJieqIWYedZwZCdTPitCmZs5XQzRIk9OT/zWTS4dXHtFSYEAAABBQZ6mRRUsI/8AABaWG9V0D0/bAEHA17qdvWmBvBLOI85tnJTzVtP6BaFq0ko80oiZmN0I6CsPTCNQ8v9nipHLQGEAAABEAZ7FdEf/AAANf0EbR/GXDuz9KjwpAKD0ALcANWlONrK06rmNKnSmuflCjR7eBCZd5SWhFBXWr4QpmxOb58Sp6oTky4EAAABJAZ7Hakf/AAAjrjNC/wjZ5bygoOt6zP8wAfP759WGK93W3MAw8RI8YS1b5VvTBXNLiU4A3+fm1jABJwQfQc3wx0gF/bPtPdFVGAAAAF9BmsxJqEFsmUwIX//+jLAAAEYCBfzHmWclUBoE3QpPK2hRNsGq0q/rAnjiaVBvvxjA/NpLmxFku60BI/3k75Ato4AJI1wlvYoO1iBj6uTkU6GDg16WQI92JhOOQ0U9yAAAAFJBnupFFSwj/wAAFrMsrkzZ9pJLMGMSxSGjyat4yS8cgQt3Hc9YQpG1HFlxPcnLY2Ns/ntccQKJ7GNBbXAB+6QSEvlKEdAqiX5+Mn0Q2KbcQy9nAAAAPgGfCXRH/wAAI8NHCHshFgs9YenEjYzgEU8mPcffiyR2abtIwpmggILOZr0ooANqJaf8vgIkvOoSudr1XtmzAAAAPwGfC2pH/wAADdSWQZ+pQ/42gLkl3xnGLFbb/8WLYtMsijw1FYxG5FugYfo98AEn+G+s9WxS+QLMu6g1ekUPZgAAAHdBmxBJqEFsmUwIX//+jLAAAEYl3f2/QDV9McZJ7ADZX5Sr2UkGjM3T2BCKPya+tWikFgKUsY9oF0w9qi06hghP9EVPpzyO/g1E+IbfzZQbQxYvuJKcvhfB2CmisXwK6bgl7t3sacPXv8M5agIgfZ1Jgy5/aYx3JQAAAENBny5FFSwj/wAAFruUkBbmXgtaSHJeWR/e71c2CPRaaXjSwHgf9/bkNrkqAB+/ridl2NwLSL9Tfcfdq3UByMMCJXsxAAAAMwGfTXRH/wAAI8M50QTMLxK16CA0d/Yf9zJUVaWo7T2fY4HikTL9KABOGfn1kLUhsGcpUQAAACoBn09qR/8AACO/Gvl094nsOt/n2RwCkEKHmsd02pmPhom4mu+jqVy5jZgAAAB5QZtTSahBbJlMCF///oywAABGAvf8BsCx9akE9p+EACwuzgLAU4ieXbjeNHxXF1/tNjyct4HcBpDSdrYNJwD+L2VYGT9niynFa8aupYqOD/HWScqeF0+agvgTHZJz7Sc6aP2NG1vrOBtdxXlgfaiEDr6zj0tNWwo7kAAAADxBn3FFFSwj/wAAFrxHFcQVPYV+wj7s6oLAlaHCvG4T6ew3VWyfZsADsrE1KoWhQeSX5mtDZerbxo9miJUAAAAoAZ+Sakf/AAAjOD1rynL00p+O6vpzcDOSz+z6qeNY/SJpcTWfFLvEnAAAAGdBm5ZJqEFsmUwIZ//+nhAAAEVRDlXJRe/+j6JIXrCJjgDnQQmrh52BfPF47R10WRUUMOF3dtL8YVEchnK86I5Ztx9qSFibIF5hGShOO0J/VB+Lho7zgaCjFiQaPygqMlr0BtJXWpOAAAAAU0GftEUVLCP/AAAWvEcWBA1HAmEyvyJ4KEUWOZNbu7FcdXOvNaYVWgOSADtmcVfUP05LbrgxSx3dUgRdXojaBv+hJSWhSEgxufSqPvrw0Y+/IFezAAAALAGf1WpH/wAAI78EJOLWamiNa3YcNMocBTNLrbM0Nu4AO8/Fa+AnPTNed45MAAAAZ0Gb2kmoQWyZTAhn//6eEAAAGmJyaZxoAWDMxUbpo72IYiyWGT2I+iqJwkAaur8bhNlo7Y+0JChrEQ5oyOfXdqFmLh/dNyBtpv58cfFnHHu8PV55m/0KX9nus+OxOLeBCZBsWxXTFIEAAABNQZ/4RRUsI/8AAAhv4yvElvX4kfvMcSfh4O8AWrOmpfyFQHEwEAA/msa8CjmCZwGBT3/z9kAO5PDgrLwaZqwJ4NJo1UKnU5zHx1EKEzEAAAAkAZ4XdEf/AAANd0ZIR53uin9MwIELnkLyiSVGqR9KihG3ECJeAAAAKwGeGWpH/wAADYfuIZcaztmVfGiGVdlKrPTM9ZS/4/jCEVbLNDmVx0iNxUcAAABsQZoeSahBbJlMCF///oywAABGKZULgFyPk7zmZp7b4DZsxgZvkwVwKNXjT+cVDHSjp/05t/+Wll9XP1ldjy3uHNrVam6iCQRSOptPDaNm4d9VnzSlGPbK5TutHqH4ZPr3PQhZvEH1yYtv7c+AAAAALkGePEUVLCP/AAAWvE5CdaBXPIUQsGAuFF4m1ELnLD4n1/ex6HdfWb+sjL2AA1MAAAAgAZ5bdEf/AAANf0USj1VoMuuSG3hNqETuRwCUQJL9UnEAAAApAZ5dakf/AAAjvxp0HY1r8t3MiQmvaJMwBuCXB2RnyPJf3Ws+STBG3zAAAAB5QZpCSahBbJlMCF///oywAABGAtDgb/W0fziwkAbx8IE41YtH2BQn/lWehS2dJuEPPwsx8c7MR8Vddlc1wUqj7W2JGqAOF000rY1Pw/ZN6i79f3kXMq/e8CGw/udWqUBdMTvYpksq0/uHEv6qctwUOXn7rDVGAtT8KAAAAEBBnmBFFSwj/wAAFrxDzbdRR2ET4Am6GX2yzVlk1Ro1bDgQO5SH0WE35YGbdj2C5V3bV2CJ7RYtsuHMzcB+PU+BAAAALAGen3RH/wAADX9Pdm4F9BiX8UL6EQJWIJMeAOqFCKUxH5ANIGg2NxNqj9UYAAAAKwGegWpH/wAAIr8fiTO21zpIgHYHc0NyiJaE5iLTKv1hKVtmeSTYtXGYJUEAAACXQZqGSahBbJlMCF///oywAABGAfURgB0jyIqgjNkosyoxMit8drVmxpM2QRN6YmMoPMfRfbg0hSJAsOtlw/jJhURKG8S5bj/enCL/DLdKeeQ8+8CbgECcvv/W27iLXVnxIaMYxFFeVCiSrTjfuvKWdca6TyN2pFXGtR8lkQ1x6EuJf3kO2zxZV1Q9ZYzuVNVbiCM3V2NXQAAAAE5BnqRFFSwj/wAAFq01Bz7MBnGpvoNZgXtD5CSAIRIu0gfZO7ssKU0cQnRAFIgJGgKJZiz9jl1Ea0VG9c4EQHI0Bl/W1qB1yvO8ecGZ4ykAAAA3AZ7DdEf/AAAjwzv4dkVQIaSFefNVbuN1uWhVUfhCJmXoVpJfxF+EN0erOW5xCrIuuuJkk4SowQAAADABnsVqR/8AAA15aVTEIYyvR1QkmRKOaUw0IlxHz6J2IYZUCYW5KbKPdU0crULUSoEAAABRQZrHSahBbJlMCGf//p4QAABFRQXvAnCO/7GQAXEQHkjZNrYv5nhtMzzg9ZDo962gtLe8c57Yga+2gchg3P+cYdMihCO8cx0N+LsJQOeN4Mu5AAAAZ0Ga60nhClJlMCF//oywAABGAfKAh03oqvjcVn70vTC4JbZLnPTdRU9CXu3vtDFZArDwyqeFf2hfmNIn0KBfB/BjBcZ3i/5YXtpOWYpkfXwi+sM7eohvThn5Ys8LY3hLttNf2kB+YswAAABdQZ8JRTRMI/8AABakwdnVUocHdlCTqwuyHRFqJy5n6fyWkABGSwYULOFvqDMwagYICwEjihbssDyjSE3NolvRWnT/YTZXcvbKh7ZSr1x4ajum7eVE5pD7jm+BSchlAAAALgGfKHRH/wAAI8M8+R8J/PXkFHIRHtKx6VvvdM/UouKQ/t1sxNe2ZDDbOqJj2+cAAAA+AZ8qakf/AAAjrmAB8z4b+D02RFO64EDdbTSeAzqf9djYCUERNYnDfiuUAEKblnn8UI7v92+BIdBXxB6tMqMAAAA+QZsuSahBaJlMCGf//p4QAABHRFn2JuzYGgHltruTVtsg3wJrYfCa8rHTiXL+oVQzpzxi+D1BzelsWfFH32AAAAA7QZ9MRREsI/8AABdME6qybegzG0LPjLRu/UnTgUSpq5VNYmdqjyu+0OIPQxuSLGN2NfZgFDWWF1RLp8EAAAA2AZ9takf/AAAkvvU+Glx+ec/B4hvmtosNc/dMxeVjJFjMMy23ScYoQ5jLd3GeAGPw9yd8yj2ZAAAAakGbckmoQWyZTAhn//6eEAAAR0OQAQA6G8bhuXbkDkfDAemQngZ3DWxX/vO3EZ1StO7rJCTK4c/6/IGUesC9H5sM1EXHYixDNQYgPCOW/EyrzGUBayjdl2d+UxOsJAXRQID2YwOaoSPxfCEAAABQQZ+QRRUsI/8AABdYn4BNXqlUNy5XSmnCZEp+qh2i0ZrGI6u+VeYNkhwCaHrlgM2k91DQkmWmQc2OiZJlatzbXXLaW/l3/mYBYVtDpzbpqYEAAAA2AZ+vdEf/AAAk1SEAOiU2Km/EC6ITx7N/3awxMHuQx1reBV8dFqY1cJnWjYYrB99oW4h2imGLAAAAMgGfsWpH/wAAJL2EBAUr5BwawvqhfK+PdPdNWXDsmlD/lx+/hql+gw8NAnbCBHWjoAMrAAAAh0GbtkmoQWyZTAhn//6eEAAAR2iTyt3OW0AI4sCzUiOTUuIYk8oeh/Du9Dz7bfwHHv6ci+/AbgQ2SNsk2LC6xi2BjkBEypKgIgJTt4aX5Z/RFFGWRhQppCbBpKqE/F2D5h5jFZ6mxBiyuw+IJ2KTsv5bQOxpIoBza9xRcJBwp9f/ofDMIc9tcAAAAE9Bn9RFFSwj/wAAF0tbbqbmdMsEhiQKglPJn8/s8FHMAHXKLQAsXY1iXGpkkCmfoBjAwYHkUci26VA8JLpwfWTp3FJzprhJkyjY/an2Bq2AAAAANgGf83RH/wAAJMCZ3elZ/tHBmZN/FLkid5z50jd3OuZnWSc5oPEOGZaAsvZ1VHeyGfGKXkr6HwAAAFABn/VqR/8AACSx6DRlv5sojlP2JRTQ26+NaNVZa4tNBEHy9clvbyCOPB8D1VG67bSstQC03fc87oheT0vGwAJOEnTCwTHhB1V50prUQWLZgAAAAIBBm/pJqEFsmUwIZ//+nhAAAEdDzq+ABxvVqlT7h2/6UQFn2PQlifImYSgc4LQYGR5NA8q/sYv8rCwbg5I9WeMp5zZJuQ7vC74ERGlCTzqm8/8ROXuxtmnnRO7lk7WjEy8uRGzHNEpdMEGqFqm+zehsx3t+x99E50SRokCQndDwEwAAAEdBnhhFFSwj/wAAFze8Wy8sCS/3dzdTARbWFHhfe3l/FJ6dpuiai1lLQRKbDezmZhV9qavAzHAbp3sPsBK+AAq80rVS8bE3UwAAAEkBnjd0R/8AACSp6ccUDUt7jNSFzp3ryTTjVT4+A3WnU6KdjlAubg8kIWnQylABDPje+vRXqUJ0VmJYE2Bxms5y0TscroG0DDTYAAAAMwGeOWpH/wAAJK5eaTSPkjlNBJuquCCYVT2wgzPRzxZb2z8rbVKo2sqLuP9qMLPgRUEY0wAAAHFBmj5JqEFsmUwIZ//+nhAAAEdkBDj6afsADiVTH1xfKpDLIvDaqNsjdL9pN1E4zp+ezVMyG/Gv+uJXrH3rslzeENnjzH3pzAjPSiakHLE5prIOLHDD9GdSz96q9P2PqYWERuMYfrj1GTBSLvlttY9pWAAAAEJBnlxFFSwj/wAAF0uMakAJYdI3tYZgKDjvh+XA1pNR3xDXwMKUbscmWAvmCK0SZ+naQT0xgUB9G7sbxlaG56lIu4EAAABBAZ57dEf/AAAlwxHkZWqdxj3OMTJMLto4VABLVI/CGwzb7v36fn7Qccy1c1Q+bGs2YsfIntj6DsfvUnzvEsUK7vcAAAAzAZ59akf/AAAlx7Xbg/6Ti+RnEOuRianQ7aavzocq/EAE6lPuhqmRa7OuihxqQ/LxdwSfAAAAX0GaYkmoQWyZTAhn//6eEAAASUPp+nKYJktgAsEEbZFLBwPyoT0FoAGOZ0aJE65OSKhT8HfJHXvuiTX44Oiv+Lc3rrTStxBNXFG0uPkojTvL5ozPjbknjNDkOEATri/AAAAAPkGegEUVLCP/AAAX3+votFM+joT0p9+tsWq8laM+1hpjBp/cygAtnePF44sZhnAo1A8vxB59BoNIVy4WxqphAAAAJwGev3RH/wAAJcLUNV+PE+thUFIcc95LneuIGm0bYuYDcLXtsQdB4AAAACoBnqFqR/8AACWuXjOBeUOz4IUCDAazptCab5LcXHqAD90d17RHewAMnVsAAACQQZqmSahBbJlMCGf//p4QAABJcy0Msx+sYBF0wGrGCgaV9vkqV9PD7dsiLHCek3M2R0L09MdmxlAtD1uwUfeO3fKPnFxktOnY1KKpRR/PWi4dnZ892sF1w1r7jTfwxJP6MBcUkPYMlt0vTZSevZ7jZcq0Yf+3+Hb1Ma/+2e2I9fIG0L+NKLARYb6i2mcafdc4AAAAP0GexEUVLCP/AAAX66QaUW0pYIHABrhyI4B6c3XZyggRqQ0sWwBKq1IXeSKT5ppBANkdeFs7oQtvfhABFX1swQAAAC4BnuN0R/8AACXAmYUVxOtv0l/CiD8RZLd7kpSbP/LUD9D1D8gllNG2wQIQacEbAAAANgGe5WpH/wAAJa5eM4IvtBfLXgALbq+BO6zhLUz0cJvvWfPSGOOpvNggqH/q52kiyBqAovIpMQAAAFdBmupJqEFsmUwIZ//+nhAAAElD6FsJt5M7VGfuvAinEQxAIAu00ObJ7KgmUPqTUWcaGIdhWx03Blw7cmK8sB50ANJHz0PijfgCdB8RZUaTxOUM+KKQCBEAAABgQZ8IRRUsI/8AABfom2YHfwJyIAJlik1yvuIb2oQJSs7rqmIBijNtCGLR+18mGURo7zn/eZTgbwHZgdqQ28IkLfhkCJW5zivlfVH92vMrTh18PEjkxXLCMhVBVXI1SfaBAAAASAGfJ3RH/wAAJZIoG+5c5IixD3FAqt6LugAXHT/72QOx3QL1fS2ttbgSc/N27xl8Cd7Gv+iNaha/KwHAUuNe4OUrfyWJJXN6QAAAADIBnylqR/8AACW9JwIDEz+sYEABc9XcPd2g91ortviNDwdx77ej3zaNwqAYlDte1NmvKwAAAGdBmy5JqEFsmUwIZ//+nhAAAEtQ9JXAqt5EEFYveJsWKbjH+5XhCQOInXaKNcg7/BLteAVqs2TdxP1OakoDJEgHhP4fk4sZTEPMz191rUXFr7EPsXyhfgnuh5A1A9qMlhs+lTAVpkpAAAAAT0GfTEUVLCP/AAAYiXzDYCBbVdVkGwIIBQax503gbRoLAPHhoJj2Ds2m89KyEkeObzRXUUaCRpr9MkMU2HIbM1rub5/B9WpmabJCaQhfK1YAAAAmAZ9rdEf/AAAlqeru0S5KfkuTmbQmklgh0BKQzcpqAVRlkW2D4d0AAAA6AZ9takf/AAAmrl4zgXlFHMQ4MrQtpp0iVHWGxM6NmwIjwaDgXAAuDZNWepNf2RlfNj+8CLxzuURnKwAAAJtBm3JJqEFsmUwIX//+jLAAAEwpL5cwA6R648E9PZ2kt130bApb4GI44vz/Egb36Z7z+cOphjt+5GJlcvmFtb/hLY8oxiHvPYOzlwuFHR9R/3NubcCa5uD8mHXIDWU5AZSpwjUZ3CddShsI5TYnbuZ+oU7QvnnKeW/rptaWE6CV3uLnNpQOCqSZ6xx3gl7OdI1Xzn7NZImt88M8gQAAAD9Bn5BFFSwj/wAAGH/r6LRDWLBriOTqIE8fVPPxxXPP9AR18Rp9nqDgxjLHVH6ZmgFN0gBi/XcTgU/1XXgLePgAAAA0AZ+vdEf/AAAmqepTu1yjdoj/mHDa8RhpeQbK0/xwurKKgQklugAIa9jimtrIo7c/pgF3QAAAAEABn7FqR/8AACauXjN/r/OYJIybb+WkU9BYYn2L/hPABI630pIkNzpNtnbwQerbK2t0A/1PSVmCq0qsmmLniB3BAAAAjUGbtkmoQWyZTAhf//6MsAAATCR2GAasARyhPMyTz0ecce7BX7qeACFZiXeAwrKh0fcN79gBZYc+4Jt0fsR6PN2p3HfxcNAzPAOy3iAov3ZHCh8qt9pyajo8ErnLNQmkDwdGYYphIBCe4tmFogAx4fkS0/ETg6F7koeHLN9zlw2Bwo6Jbs1t6Xo0XmZAOQAAADpBn9RFFSwj/wAAGH/r6LRDWKgUDJ3PhvavvBO8fUy96F8j9Xt3mkZfI+VIaXFwYwCqarNOPReykNh4AAAAQQGf83RH/wAAJsCZH85eYuFzDb5CNcSyPNXRBYZGipgV3o9xRP/97pdnHrkUVz4Jhbdx0wilJsINqdaccorEdBwRAAAANQGf9WpH/wAAJq5eM4HQUllhmQ+n6DvT4l69/Rz84DslpTw+8iR70ZrF4/BRHS4YaZQyXgAsAAAAwkGb+kmoQWyZTAhf//6MsAAATExIqjq6QAi1woHgm+STZ2ae6Gqscio4+RJpYYcG7S38rQ37o4++7U4VH+yXEAlsPXN41pX3lRRjZtpH6iTukXTumlaq4zRkp/qzxxVPS7fURcSFG4sRXreOefOFnJ3wL1AmTzWIaOFiJWhn4hvS3jT55mJlpKuTZj5zdKJ9AfJ5Bz2IJB/yRl5Y54WsGN0oIy7XVCSJXrFsRiunyQd/2jB0W168oBqlX/aHMYhvs2NRAAAATEGeGEUVLCP/AAAYgFTaSvd7kYV4DmjqsHNbvpkDtHNRjQdcPjwi74hlL2J/yYm+mH9nY8IOXbaaPaSQwg1bbLuhtiIJ8XmH8T1l5g0AAABPAZ43dEf/AAAmwJkyXm4Xncgjxt2oZE0ESG3bAf3lV1oAS24wFq+fU21kiRpx9PTD5vxLB0jc+J8RlDl9f5IOgI7ULOJaW/iXIZ/LgVLV0wAAAEoBnjlqR/8AACbHCPcoAON2KpkFX1eVbdzTAfYDX4n6WkOfl7965Dni+nD9lqFz3F2rh8uHLY86vcc4y6HvQeT1VJvVHgIPFZC5RQAAALxBmjtJqEFsmUwIX//+jLAAAExAmSYuWAIgJnBqsTypk7MRMsqotaDKP7CFcxb3b6/qO/KcRVF6OvnpuhNFYG2XF8SvONyAAjNvaRTXVYF7FrfxEHbBLrihp3LDP17WIz4N0Y2B5EEOSPN68rTRDKohErtaGqFpSS8ZTk+Ot+rG+sGYegSjT7ohBUP/ztMj3SKdDxExVHtezc5KehsVjnnzb2uWsinJNshkIXv+xx4PqjG6lNcl2CFwXllPWAAAAMtBml9J4QpSZTAhf/6MsAAATBBuSqNgCJC0L5Awz6X68ZX4bhPaRffvndluXxLK4r/I4iTEHCU+0wXh/PoOGJIlKMjRcoVwqZ7UUhlbg3uQDsO8qXu/LXyoxr5lsCOdlS53x9PcPkpGsLEZTi3IL7Zv8lOvcfoTKZVPdVhWzEYrPttLd83MyZETSTqsA7RZqkIEX4eOuS14jUSPv+4QuxAX88RP113anvFDPI/Gbf/LucF0veobD4zU4xYpPthyv+tdS4QetJqy7U/jaQAAAHFBnn1FNEwj/wAAGHPlsMQV8M2jIa0cnzGZkJ5SKrc35uN9dAAAiICy5qHaa8CSiE6cLJ54oGfqS9d6/PW7GeAzQOfkvtARXHAppaZZdGMp+wH9k5e/e6BTSj07y2MkG7Qg/SXlQ7oRqcxBsXHXwyI9WwAAAD8Bnpx0R/8AACfe12BtZf45OvUFcymcderEhKZITpjk0ZYHq3eo5Md9dxUxbqQYr/T3UUV2/Gz5RaC6SGb6OXgAAAA6AZ6eakf/AAAn5A+d4gDR+vc9QsnDCvvz5wKaSrf7fxx5aHmpI5+IBQ8GLZ30+rbUlWopUmkh5nCi4AAAAHBBmoNJqEFomUwIV//+OEAAASVOqgEDnteBJLuRPzBLqzPuGLjbFVg/90kAHF6Bn62J4/PRwXzoFBkOXvu8pQJXTSIRidkLMpThyCru3qcY4uyWr1nSUmaRvHrx9e+0PAxdAsLc8Irg65RDxGuFIbztAAAAWUGeoUURLCP/AAAZK+BtTbndb0g3X1uTmRMEuLZDUhAbGuE/Syi0v9JinORDqLGhkBtQWiYQAk0g+1nVXiqKZObKSlct3h5ZPNUcRZcsxJGcZ3DqhUdiJbbMAAAAOAGewHRH/wAAJ8KOuKR02igi4rOHQHVwKrQiXku92EICkw9OtDuHQTc7ImAwohP1wATyY+fLAN2PAAAALwGewmpH/wAAJ9mmCFZwW/+PxozzRwC2/4edryPBlrMfRzwz0tIVoHO39ncWMbaAAAAAVkGax0moQWyZTAhH//3hAAAEdRVaOeianecdntOfTOr0dMsQ/ic+QveAzn5+yJagDCvRRACE8xi66cROP7FPjNxbDqDWfKtQ3ABpv1k8hrZX/aaSIatpAAAAV0Ge5UUVLCP/AAAZLdXPU1iKLPYstQA3EsAbF0qvSVFHqBjKV+J1aCFfXgK80iMvtbc4+m4fRsvWIt+hoWqAvsGmwSg75VI9DQgb2erLSUexZ49w2fOHLQAAADMBnwR0R/8AACfCy1JACI9JpZ9FTYrWqk+7Bd8jKDa+JLnR+IXak1+li53Ng+HMtFl+6YEAAAAgAZ8Gakf/AAAn2XMk1VmrH6oET5PlvoXaRUlfm5422PEAAAAyQZsISahBbJlMCP/8hAAAAwJ+ZF5iufmSV2ETisiAx9vIvpiYfwDHtN5ZdCwzvW+Y2pAAAAxnbW9vdgAAAGxtdmhkAAAAAAAAAAAAAAAAAAAD6AAAD7QAAQAAAQAAAAAAAAAAAAAAAAEAAAAAAAAAAAAAAAAAAAABAAAAAAAAAAAAAAAAAABAAAAAAAAAAAAAAAAAAAAAAAAAAAAAAAAAAAAAAAAAAgAAC5F0cmFrAAAAXHRraGQAAAADAAAAAAAAAAAAAAABAAAAAAAAD7QAAAAAAAAAAAAAAAAAAAAAAAEAAAAAAAAAAAAAAAAAAAABAAAAAAAAAAAAAAAAAABAAAAAAlgAAAGQAAAAAAAkZWR0cwAAABxlbHN0AAAAAAAAAAEAAA+0AAACAAABAAAAAAsJbWRpYQAAACBtZGhkAAAAAAAAAAAAAAAAAAAyAAAAyQBVxAAAAAAALWhkbHIAAAAAAAAAAHZpZGUAAAAAAAAAAAAAAABWaWRlb0hhbmRsZXIAAAAKtG1pbmYAAAAUdm1oZAAAAAEAAAAAAAAAAAAAACRkaW5mAAAAHGRyZWYAAAAAAAAAAQAAAAx1cmwgAAAAAQAACnRzdGJsAAAAmHN0c2QAAAAAAAAAAQAAAIhhdmMxAAAAAAAAAAEAAAAAAAAAAAAAAAAAAAAAAlgBkABIAAAASAAAAAAAAAABAAAAAAAAAAAAAAAAAAAAAAAAAAAAAAAAAAAAAAAAAAAAGP//AAAAMmF2Y0MBZAAf/+EAGWdkAB+s2UCYM+XhAAADAAEAAAMAZA8YMZYBAAZo6+PLIsAAAAAYc3R0cwAAAAAAAAABAAAAyQAAAQAAAAAUc3RzcwAAAAAAAAABAAAAAQAABkBjdHRzAAAAAAAAAMYAAAABAAACAAAAAAEAAAUAAAAAAQAAAgAAAAABAAAAAAAAAAEAAAEAAAAAAQAABQAAAAABAAACAAAAAAEAAAAAAAAAAQAAAQAAAAABAAAFAAAAAAEAAAIAAAAAAQAAAAAAAAABAAABAAAAAAEAAAUAAAAAAQAAAgAAAAABAAAAAAAAAAEAAAEAAAAAAQAABQAAAAABAAACAAAAAAEAAAAAAAAAAQAAAQAAAAABAAAFAAAAAAEAAAIAAAAAAQAAAAAAAAABAAABAAAAAAEAAAUAAAAAAQAAAgAAAAABAAAAAAAAAAEAAAEAAAAAAQAAAgAAAAABAAAFAAAAAAEAAAIAAAAAAQAAAAAAAAABAAABAAAAAAEAAAUAAAAAAQAAAgAAAAABAAAAAAAAAAEAAAEAAAAAAQAABQAAAAABAAACAAAAAAEAAAAAAAAAAQAAAQAAAAABAAAFAAAAAAEAAAIAAAAAAQAAAAAAAAABAAABAAAAAAEAAAUAAAAAAQAAAgAAAAABAAAAAAAAAAEAAAEAAAAAAQAABQAAAAABAAACAAAAAAEAAAAAAAAAAQAAAQAAAAABAAAFAAAAAAEAAAIAAAAAAQAAAAAAAAABAAABAAAAAAEAAAUAAAAAAQAAAgAAAAABAAAAAAAAAAEAAAEAAAAAAQAAAgAAAAABAAAFAAAAAAEAAAIAAAAAAQAAAAAAAAABAAABAAAAAAEAAAUAAAAAAQAAAgAAAAABAAAAAAAAAAEAAAEAAAAAAQAABQAAAAABAAACAAAAAAEAAAAAAAAAAQAAAQAAAAABAAAFAAAAAAEAAAIAAAAAAQAAAAAAAAABAAABAAAAAAEAAAUAAAAAAQAAAgAAAAABAAAAAAAAAAEAAAEAAAAAAQAAAwAAAAABAAABAAAAAAEAAAUAAAAAAQAAAgAAAAABAAAAAAAAAAEAAAEAAAAAAQAABQAAAAABAAACAAAAAAEAAAAAAAAAAQAAAQAAAAABAAAFAAAAAAEAAAIAAAAAAQAAAAAAAAABAAABAAAAAAEAAAUAAAAAAQAAAgAAAAABAAAAAAAAAAEAAAEAAAAAAQAABQAAAAABAAACAAAAAAEAAAAAAAAAAQAAAQAAAAABAAAFAAAAAAEAAAIAAAAAAQAAAAAAAAABAAABAAAAAAEAAAUAAAAAAQAAAgAAAAABAAAAAAAAAAEAAAEAAAAAAQAABAAAAAACAAABAAAAAAEAAAQAAAAAAgAAAQAAAAABAAAFAAAAAAEAAAIAAAAAAQAAAAAAAAABAAABAAAAAAEAAAUAAAAAAQAAAgAAAAABAAAAAAAAAAEAAAEAAAAAAQAABQAAAAABAAACAAAAAAEAAAAAAAAAAQAAAQAAAAABAAAFAAAAAAEAAAIAAAAAAQAAAAAAAAABAAABAAAAAAEAAAIAAAAAAQAABQAAAAABAAACAAAAAAEAAAAAAAAAAQAAAQAAAAABAAAEAAAAAAIAAAEAAAAAAQAABQAAAAABAAACAAAAAAEAAAAAAAAAAQAAAQAAAAABAAAFAAAAAAEAAAIAAAAAAQAAAAAAAAABAAABAAAAAAEAAAUAAAAAAQAAAgAAAAABAAAAAAAAAAEAAAEAAAAAAQAABQAAAAABAAACAAAAAAEAAAAAAAAAAQAAAQAAAAABAAAFAAAAAAEAAAIAAAAAAQAAAAAAAAABAAABAAAAAAEAAAUAAAAAAQAAAgAAAAABAAAAAAAAAAEAAAEAAAAAAQAABQAAAAABAAACAAAAAAEAAAAAAAAAAQAAAQAAAAABAAAFAAAAAAEAAAIAAAAAAQAAAAAAAAABAAABAAAAAAEAAAUAAAAAAQAAAgAAAAABAAAAAAAAAAEAAAEAAAAAAQAABQAAAAABAAACAAAAAAEAAAAAAAAAAQAAAQAAAAABAAAFAAAAAAEAAAIAAAAAAQAAAAAAAAABAAABAAAAAAEAAAIAAAAAAQAABQAAAAABAAACAAAAAAEAAAAAAAAAAQAAAQAAAAABAAAFAAAAAAEAAAIAAAAAAQAAAAAAAAABAAABAAAAAAEAAAUAAAAAAQAAAgAAAAABAAAAAAAAAAEAAAEAAAAAAQAAAgAAAAAcc3RzYwAAAAAAAAABAAAAAQAAAMkAAAABAAADOHN0c3oAAAAAAAAAAAAAAMkAAARmAAAAbwAAADoAAAAvAAAALAAAALMAAAA5AAAAIAAAAEgAAABBAAAAKQAAACMAAAAhAAAAYwAAADsAAAA4AAAAJAAAAE4AAAAvAAAAMAAAAC8AAACnAAAAPAAAACQAAAAkAAAAagAAAFYAAAArAAAARQAAAEMAAABVAAAAQQAAAC4AAAAmAAAAUQAAACUAAAA0AAAAOQAAAFMAAAA/AAAAJwAAACwAAABqAAAAJgAAAB8AAAAXAAAAtwAAADgAAAAiAAAAPQAAAG0AAABSAAAAMgAAADQAAACFAAAANgAAADwAAAA4AAAAoQAAADwAAAAvAAAAQwAAAG4AAABsAAAAOwAAACkAAAAjAAAAhQAAADMAAAAuAAAAMwAAAGEAAAA0AAAAKQAAADcAAACFAAAAUQAAAD0AAAA5AAAAfQAAAEUAAAAtAAAAKAAAAHkAAAAwAAAAUAAAADcAAAA3AAAAJgAAAEgAAABZAAAAQAAAADUAAAB4AAAARwAAADIAAAAyAAAAhQAAAEMAAABMAAAAMgAAALIAAABFAAAASAAAAE0AAABjAAAAVgAAAEIAAABDAAAAewAAAEcAAAA3AAAALgAAAH0AAABAAAAALAAAAGsAAABXAAAAMAAAAGsAAABRAAAAKAAAAC8AAABwAAAAMgAAACQAAAAtAAAAfQAAAEQAAAAwAAAALwAAAJsAAABSAAAAOwAAADQAAABVAAAAawAAAGEAAAAyAAAAQgAAAEIAAAA/AAAAOgAAAG4AAABUAAAAOgAAADYAAACLAAAAUwAAADoAAABUAAAAhAAAAEsAAABNAAAANwAAAHUAAABGAAAARQAAADcAAABjAAAAQgAAACsAAAAuAAAAlAAAAEMAAAAyAAAAOgAAAFsAAABkAAAATAAAADYAAABrAAAAUwAAACoAAAA+AAAAnwAAAEMAAAA4AAAARAAAAJEAAAA+AAAARQAAADkAAADGAAAAUAAAAFMAAABOAAAAwAAAAM8AAAB1AAAAQwAAAD4AAAB0AAAAXQAAADwAAAAzAAAAWgAAAFsAAAA3AAAAJAAAADYAAAAUc3RjbwAAAAAAAAABAAAAMAAAAGJ1ZHRhAAAAWm1ldGEAAAAAAAAAIWhkbHIAAAAAAAAAAG1kaXJhcHBsAAAAAAAAAAAAAAAALWlsc3QAAAAlqXRvbwAAAB1kYXRhAAAAAQAAAABMYXZmNTcuODMuMTAw\" type=\"video/mp4\">\n",
              "</video>\n"
            ],
            "text/plain": [
              "<IPython.core.display.HTML object>"
            ]
          },
          "metadata": {},
          "execution_count": 27
        }
      ]
    },
    {
      "cell_type": "markdown",
      "metadata": {
        "id": "GnEuQqFe4fAN"
      },
      "source": [
        "## Bonus area I"
      ]
    },
    {
      "cell_type": "markdown",
      "metadata": {
        "id": "6u_-egwj4fAN"
      },
      "source": [
        "### Tabular crossentropy method"
      ]
    },
    {
      "cell_type": "markdown",
      "metadata": {
        "id": "9jukgdA84fAN"
      },
      "source": [
        "You may have noticed that the taxi problem quickly converges from -100 to a near-optimal score and then descends back into -50/-100. This is in part because the environment has some innate randomness. Namely, the starting points of passenger/driver change from episode to episode."
      ]
    },
    {
      "cell_type": "markdown",
      "metadata": {
        "id": "kXdmoSJG4fAN"
      },
      "source": [
        "### Tasks"
      ]
    },
    {
      "cell_type": "markdown",
      "metadata": {
        "id": "Ykf4SCLc4fAN"
      },
      "source": [
        "- __1.1__ (1 pts) Find out how the algorithm performance changes if you use a different `percentile` and/or `n_sessions`.\n",
        "- __1.2__ (2 pts) Tune the algorithm to end up with positive average score.\n",
        "\n",
        "It's okay to modify the existing code."
      ]
    },
    {
      "cell_type": "markdown",
      "metadata": {
        "id": "UjMLZLdN4fAN"
      },
      "source": [
        "```<Describe what you did here.  Preferably with plot/report to support it.>```"
      ]
    },
    {
      "cell_type": "markdown",
      "metadata": {
        "id": "GucnIbgS4fAN"
      },
      "source": [
        "## Bonus area II"
      ]
    },
    {
      "cell_type": "markdown",
      "metadata": {
        "id": "qcR__GhX4fAO"
      },
      "source": [
        "### Deep crossentropy method"
      ]
    },
    {
      "cell_type": "markdown",
      "metadata": {
        "id": "iQtRMBKY4fAO"
      },
      "source": [
        "By this moment you should have got enough score on [CartPole-v0](https://gym.openai.com/envs/CartPole-v0) to consider it solved (see the link). It's time to try something harder.\n",
        "\n",
        "> Note: if you have any trouble with CartPole-v0 and feel stuck, feel free to ask us or your peers for help."
      ]
    },
    {
      "cell_type": "markdown",
      "metadata": {
        "id": "lGr5K9Bd4fAO"
      },
      "source": [
        "### Tasks"
      ]
    },
    {
      "cell_type": "markdown",
      "metadata": {
        "id": "d5HxMdDD4fAO"
      },
      "source": [
        "* __2.1__ (3 pts) Pick one of environments: MountainCar-v0 or LunarLander-v2.\n",
        "  * For MountainCar, get average reward of __at least -150__\n",
        "  * For LunarLander, get average reward of __at least +50__\n",
        "\n",
        "See the tips section below, it's kinda important.\n",
        "__Note:__ If your agent is below the target score, you'll still get most of the points depending on the result, so don't be afraid to submit it.\n",
        "  \n",
        "  \n",
        "* __2.2__ (bonus: 4++ pt) Devise a way to speed up training at least 2x against the default version\n",
        "  * Obvious improvement: use [joblib](https://www.google.com/search?client=ubuntu&channel=fs&q=joblib&ie=utf-8&oe=utf-8)\n",
        "  * Try re-using samples from 3-5 last iterations when computing threshold and training\n",
        "  * Experiment with amount of training iterations and learning rate of the neural network (see params)\n",
        "  * __Please list what you did in anytask submission form__"
      ]
    },
    {
      "cell_type": "markdown",
      "metadata": {
        "id": "enIGEgbx4fAO"
      },
      "source": [
        "### Tips"
      ]
    },
    {
      "cell_type": "markdown",
      "metadata": {
        "id": "cLf9CJdq4fAO"
      },
      "source": [
        "* Gym page: [MountainCar](https://gym.openai.com/envs/MountainCar-v0), [LunarLander](https://gym.openai.com/envs/LunarLander-v2)\n",
        "* Sessions for MountainCar may last for 10k+ ticks. Make sure ```t_max``` param is at least 10k.\n",
        " * Also it may be a good idea to cut rewards via \">\" and not \">=\". If 90% of your sessions get reward of -10k and 20% are better, than if you use percentile 20% as threshold, R >= threshold __fails cut off bad sessions__ whule R > threshold works alright.\n",
        "* _issue with gym_: Some versions of gym limit game time by 200 ticks. This will prevent cem training in most cases. Make sure your agent is able to play for the specified __t_max__, and if it isn't, try `env = gym.make(\"MountainCar-v0\").env` or otherwise get rid of TimeLimit wrapper.\n",
        "* If you use old _swig_ lib for LunarLander-v2, you may get an error. See this [issue](https://github.com/openai/gym/issues/100) for solution.\n",
        "* If it won't train it's a good idea to plot reward distribution and record sessions: they may give you some clue. If they don't, call course staff :)\n",
        "* 20-neuron network is probably not enough, feel free to experiment.\n",
        "\n",
        "You may find the following snippet useful:"
      ]
    },
    {
      "cell_type": "code",
      "metadata": {
        "id": "zx2cJ1yx4fAO"
      },
      "source": [
        "def visualize_mountain_car(env, agent):\n",
        "    xs = np.linspace(env.min_position, env.max_position, 100)\n",
        "    vs = np.linspace(-env.max_speed, env.max_speed, 100)\n",
        "    grid = np.dstack(np.meshgrid(xs, vs)).transpose(1, 0, 2)\n",
        "    grid_flat = grid.reshape(len(xs) * len(vs), 2)\n",
        "    probs = agent.predict_proba(grid_flat).reshape(len(xs), len(vs), 3)\n",
        "    return probs\n",
        "\n",
        "\n",
        "plt.imshow(visualize_mountain_car(env, agent))"
      ],
      "execution_count": null,
      "outputs": []
    },
    {
      "cell_type": "markdown",
      "metadata": {
        "id": "OP0lHmPy4fAO"
      },
      "source": [
        "### More bonus tasks"
      ]
    },
    {
      "cell_type": "markdown",
      "metadata": {
        "id": "Y8lg6Bkr4fAO"
      },
      "source": [
        "* __2.3 bonus__ Try to find a network architecture and training params that solve __both__ environments above (_Points depend on implementation. If you attempted this task, please mention it in anytask submission._)\n",
        "\n",
        "* __2.4 bonus__ Solve continuous action space task with `MLPRegressor` or similar.\n",
        "  * Start with [\"Pendulum-v0\"](https://github.com/openai/gym/wiki/Pendulum-v0).\n",
        "  * Since your agent only predicts the \"expected\" action, you will have to add noise to ensure exploration.\n",
        "  * [MountainCarContinuous-v0](https://gym.openai.com/envs/MountainCarContinuous-v0), [LunarLanderContinuous-v2](https://gym.openai.com/envs/LunarLanderContinuous-v2)\n",
        "  * 4 points for solving. Slightly less for getting some results below solution threshold. Note that discrete and continuous environments may have slightly different rules aside from action spaces."
      ]
    },
    {
      "cell_type": "code",
      "metadata": {
        "id": "jhPikS1q1kAT"
      },
      "source": [],
      "execution_count": null,
      "outputs": []
    }
  ]
}