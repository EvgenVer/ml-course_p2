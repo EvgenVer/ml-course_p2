{
  "cells": [
    {
      "cell_type": "markdown",
      "metadata": {
        "id": "R7cvdqY-9rxi"
      },
      "source": [
        "# Practice: Reinforcement Learning for seq2seq\n",
        "_Reference: based on Practical RL_ [week07](https://github.com/yandexdataschool/Practical_RL/blob/master/week07_seq2seq)\n",
        "\n",
        "This time we'll solve a problem of transсribing Hebrew words in English, also known as g2p (grapheme2phoneme)\n",
        "\n",
        " * word (sequence of letters in source language) -> translation (sequence of letters in target language)\n",
        "\n",
        "Unlike what most deep learning practitioners do, we won't only train it to maximize likelihood of correct translation, but also employ reinforcement learning to actually teach it to translate with as few errors as possible."
      ]
    },
    {
      "cell_type": "markdown",
      "metadata": {
        "id": "1wb0Dy9J-ukg"
      },
      "source": [
        "## About the task\n",
        "\n",
        "One notable property of Hebrew is that it's a consonant language. That is, there are no vowels in the written language. One could represent vowels with diacritics above consonants, but you don't expect people to do that in everyday life.\n",
        "\n",
        "Therefore, some Hebrew characters will correspond to several English letters and others - to none, so we should use encoder-decoder architecture to figure that out.\n",
        "\n",
        "![img](https://esciencegroup.files.wordpress.com/2016/03/seq2seq.jpg)\n",
        "_(img: esciencegroup.files.wordpress.com)_\n",
        "\n",
        "Encoder-decoder architectures are about converting anything to anything, including\n",
        " * Machine translation and spoken dialogue systems\n",
        " * [Image captioning](https://cocodataset.org/#captions-2015) and [image2latex](https://htmlpreview.github.io/?https://github.com/openai/requests-for-research/blob/master/_requests_for_research/im2latex.html) (convolutional encoder, recurrent decoder)\n",
        " * Generating [images by captions](https://arxiv.org/abs/1511.02793) (recurrent encoder, convolutional decoder)\n",
        " * Grapheme2phoneme - convert words to transcripts\n",
        "\n",
        "We chose simplified __Hebrew->English__ machine translation for words and short phrases (character-level), as it is relatively quick to train even without a gpu cluster."
      ]
    },
    {
      "cell_type": "markdown",
      "metadata": {
        "id": "hKzrzfKL-x4K"
      },
      "source": [
        "## Setup"
      ]
    },
    {
      "cell_type": "code",
      "execution_count": 1,
      "metadata": {
        "id": "tY-2UIDJ9rxl",
        "outputId": "4b5e5b85-af90-4382-d814-7c1fcd217e2b",
        "colab": {
          "base_uri": "https://localhost:8080/"
        }
      },
      "outputs": [
        {
          "output_type": "stream",
          "name": "stdout",
          "text": [
            "File ‘basic_model_torch.py’ already there; not retrieving.\n",
            "File ‘main_dataset.txt’ already there; not retrieving.\n",
            "File ‘voc.py’ already there; not retrieving.\n"
          ]
        }
      ],
      "source": [
        "!wget -nc https://raw.githubusercontent.com/EvgenVer/ml-course_p2/my_training/week1_11_RL_outside_games/basic_model_torch.py -O basic_model_torch.py\n",
        "!wget -nc https://raw.githubusercontent.com/EvgenVer/ml-course_p2/my_training/week1_11_RL_outside_games/main_dataset.txt -O main_dataset.txt\n",
        "!wget -nc https://raw.githubusercontent.com/EvgenVer/ml-course_p2/my_training/week1_11_RL_outside_games/voc.py -O voc.py"
      ]
    },
    {
      "cell_type": "code",
      "execution_count": 2,
      "metadata": {
        "id": "mD7MHJWb9rxm"
      },
      "outputs": [],
      "source": [
        "# If True, only translates phrases shorter than 20 characters (way easier).\n",
        "EASY_MODE = True\n",
        "# Useful for initial coding.\n",
        "# If false, works with all phrases (please switch to this mode for homework assignment)\n",
        "\n",
        "# way we translate. Either \"he-to-en\" or \"en-to-he\"\n",
        "MODE = \"he-to-en\"\n",
        "# maximal length of _generated_ output, does not affect training\n",
        "MAX_OUTPUT_LENGTH = 50 if not EASY_MODE else 20\n",
        "REPORT_FREQ = 100  # how often to evaluate validation score"
      ]
    },
    {
      "cell_type": "markdown",
      "metadata": {
        "id": "dAKuALyH9rxn"
      },
      "source": [
        "## Preprocessing\n",
        "\n",
        "We shall store dataset as a dictionary\n",
        "`{ word1:[translation1,translation2,...], word2:[...],...}`.\n",
        "\n",
        "This is mostly due to the fact that many words have several correct translations.\n",
        "\n",
        "We have implemented this thing for you so that you can focus on more interesting parts."
      ]
    },
    {
      "cell_type": "code",
      "execution_count": 3,
      "metadata": {
        "id": "bp-nSrAO9rxn",
        "outputId": "f31457a2-4d42-41e2-aeca-69629fcff14d",
        "colab": {
          "base_uri": "https://localhost:8080/"
        }
      },
      "outputs": [
        {
          "output_type": "stream",
          "name": "stdout",
          "text": [
            "dataset size = 130113\n"
          ]
        }
      ],
      "source": [
        "from collections import defaultdict\n",
        "\n",
        "import numpy as np\n",
        "\n",
        "\n",
        "word_to_translation = defaultdict(list)\n",
        "bos, eos = '_', ';'\n",
        "with open(\"main_dataset.txt\", encoding=\"utf-8\") as fin:\n",
        "    for line in fin:\n",
        "        en, he = line[:-1].lower().replace(bos, ' ').replace(eos, ' ').split('\\t')\n",
        "        word, trans = (he, en) if MODE == 'he-to-en' else (en, he)\n",
        "\n",
        "        if len(word) < 3:\n",
        "            continue\n",
        "\n",
        "        if EASY_MODE and max(len(word), len(trans)) > 20:\n",
        "            continue\n",
        "\n",
        "        word_to_translation[word].append(trans)\n",
        "\n",
        "# get all unique lines in source language\n",
        "all_words = np.array(list(word_to_translation.keys()))\n",
        "# get all unique lines in translation language\n",
        "all_translations = np.array([ts for all_ts in word_to_translation.values() for ts in all_ts])\n",
        "\n",
        "print(f\"dataset size = {len(word_to_translation)}\")"
      ]
    },
    {
      "cell_type": "markdown",
      "metadata": {
        "id": "rUIc-pwH9rxo"
      },
      "source": [
        "We shall hold out 10% of all words to be used for validation.\n"
      ]
    },
    {
      "cell_type": "code",
      "execution_count": 4,
      "metadata": {
        "id": "8ULcOaYN9rxo"
      },
      "outputs": [],
      "source": [
        "from sklearn.model_selection import train_test_split\n",
        "\n",
        "train_words, test_words = train_test_split(all_words, test_size=0.1, random_state=42)"
      ]
    },
    {
      "cell_type": "markdown",
      "metadata": {
        "id": "CP9Eu_2k9rxp"
      },
      "source": [
        "## Building vocabularies\n",
        "\n",
        "We now need to build vocabularies that map strings to token ids and vice versa. We're gonna need these fellas when we feed training data into model or convert output matrices into english words."
      ]
    },
    {
      "cell_type": "code",
      "execution_count": 5,
      "metadata": {
        "id": "t6pONzuq9rxq"
      },
      "outputs": [],
      "source": [
        "from voc import Vocab\n",
        "\n",
        "\n",
        "input_vocab = Vocab.from_lines(''.join(all_words), bos=bos, eos=eos, sep='')\n",
        "output_vocab = Vocab.from_lines(''.join(all_translations), bos=bos, eos=eos, sep='')"
      ]
    },
    {
      "cell_type": "code",
      "execution_count": 6,
      "metadata": {
        "id": "zgzsRiWo9rxq",
        "outputId": "bc75fa53-c643-4e5f-bdde-37fbf9b8a4e7",
        "colab": {
          "base_uri": "https://localhost:8080/"
        }
      },
      "outputs": [
        {
          "output_type": "stream",
          "name": "stdout",
          "text": [
            "Lines:\n",
            "['אנרכיזם' 'אוטיזם קלאסי' 'אלבדו' 'אלבמה' 'אכילס']\n",
            "\n",
            "Words to ids (0 = bos, 1 = eos):\n",
            "[[  0 151   8 120 170 183   9  66   1   1   1   1   1   1]\n",
            " [  0 151 184 159 183   9  66  28 158 162 151 173 183   1]\n",
            " [  0 151 162  39 167 184   1   1   1   1   1   1   1   1]\n",
            " [  0 151 162  39 178 102   1   1   1   1   1   1   1   1]\n",
            " [  0 151 170 183 162 173   1   1   1   1   1   1   1   1]]\n",
            "\n",
            "Back to lines:\n",
            "['אנרכיזם', 'אוטיזם קלאסי', 'אלבדו', 'אלבמה', 'אכילס']\n"
          ]
        }
      ],
      "source": [
        "# Here's how you cast lines into ids and backwards.\n",
        "batch_lines = all_words[:5]\n",
        "batch_ids = input_vocab.to_matrix(batch_lines)\n",
        "batch_lines_restored = input_vocab.to_lines(batch_ids)\n",
        "\n",
        "print(\"Lines:\")\n",
        "print(batch_lines)\n",
        "print()\n",
        "print(\"Words to ids (0 = bos, 1 = eos):\")\n",
        "print(batch_ids)\n",
        "print()\n",
        "print(\"Back to lines:\")\n",
        "print(batch_lines_restored)"
      ]
    },
    {
      "cell_type": "markdown",
      "metadata": {
        "id": "Z_EUPt909rxr"
      },
      "source": [
        "Draw word/translation length distributions to estimate the scope of the task."
      ]
    },
    {
      "cell_type": "code",
      "execution_count": 7,
      "metadata": {
        "id": "D_0Kt-4E9rxr",
        "outputId": "ff0e7f67-62ab-433c-b49f-cfb1b5df5a5a",
        "colab": {
          "base_uri": "https://localhost:8080/",
          "height": 391
        }
      },
      "outputs": [
        {
          "output_type": "display_data",
          "data": {
            "text/plain": [
              "<Figure size 800x400 with 2 Axes>"
            ],
            "image/png": "[encoded data removed]"
          },
          "metadata": {}
        }
      ],
      "source": [
        "import matplotlib.pyplot as plt\n",
        "\n",
        "\n",
        "%matplotlib inline\n",
        "\n",
        "plt.figure(figsize=[8, 4])\n",
        "plt.subplot(1, 2, 1)\n",
        "plt.title(\"words\")\n",
        "plt.hist(list(map(len, all_words)), bins=20)\n",
        "\n",
        "plt.subplot(1, 2, 2)\n",
        "plt.title('translations')\n",
        "plt.hist(list(map(len, all_translations)), bins=20);"
      ]
    },
    {
      "cell_type": "markdown",
      "metadata": {
        "id": "juAIXtNu9rxr"
      },
      "source": [
        "## Our model\n",
        "\n",
        "Our architecture consists of two main blocks:\n",
        "* Encoder reads words character by character and outputs code vector (usually a function of last RNN state)\n",
        "* Decoder takes that code vector and produces translations character by character\n",
        "\n",
        "Than it gets fed into a model that follows this simple interface:\n",
        "* __`model(inp, out, **flags) -> logp`__ - takes symbolic int32 matrices of hebrew words and their english translations. Computes the log-probabilities of all possible english characters given english prefices and hebrew word.\n",
        "* __`model.translate(inp, **flags) -> out, logp`__ - takes symbolic int32 matrix of hebrew words, produces output tokens sampled from the model and output log-probabilities for all possible tokens at each tick.\n",
        "  * if given flag __`greedy=True`__, takes most likely next token at each iteration. Otherwise samples with next token probabilities predicted by model.\n",
        "\n",
        "That's all! It's as hard as it gets. With those two methods alone you can implement all kinds of prediction and training."
      ]
    },
    {
      "cell_type": "code",
      "execution_count": 8,
      "metadata": {
        "id": "vq9SVPb69rxr"
      },
      "outputs": [],
      "source": [
        "import torch\n",
        "import torch.nn as nn\n",
        "import torch.nn.functional as F\n",
        "from basic_model_torch import BasicTranslationModel\n",
        "\n",
        "\n",
        "device = torch.device('cuda:0' if torch.cuda.is_available() else 'cpu')\n",
        "model = BasicTranslationModel(input_vocab, output_vocab, emb_size=64, hid_size=256).to(device)"
      ]
    },
    {
      "cell_type": "code",
      "execution_count": 9,
      "metadata": {
        "id": "feq2JWHs9rxs",
        "outputId": "f6683b51-0eb6-4056-b7ee-1cba93160ef8",
        "colab": {
          "base_uri": "https://localhost:8080/"
        }
      },
      "outputs": [
        {
          "output_type": "stream",
          "name": "stdout",
          "text": [
            "Sample translations:\n",
            "tensor([[  0, 126, 184,  ...,  55, 100,   1],\n",
            "        [  0, 159,  94,  ...,   4, 168, 215],\n",
            "        [  0, 215, 273,  ..., 277,   5, 221]], device='cuda:0')\n",
            "\n",
            "Log-probabilities at each step:\n",
            "tensor([[[  0.0000, -69.0776, -69.0776,  ..., -69.0776, -69.0776, -69.0776],\n",
            "         [ -5.6621,  -5.7557,  -5.6585,  ...,  -5.8898,  -5.6165,  -5.7327],\n",
            "         [ -5.6279,  -5.5233,  -5.6408,  ...,  -5.6816,  -5.6523,  -5.7233],\n",
            "         ...,\n",
            "         [ -5.6154,  -5.5142,  -5.6114,  ...,  -5.6626,  -5.7799,  -5.4677],\n",
            "         [ -5.6401,  -5.6200,  -5.6122,  ...,  -5.6885,  -5.7241,  -5.4905],\n",
            "         [ -5.6318,  -5.5833,  -5.6431,  ...,  -5.7782,  -5.6182,  -5.6905]],\n",
            "\n",
            "        [[  0.0000, -69.0776, -69.0776,  ..., -69.0776, -69.0776, -69.0776],\n",
            "         [ -5.6766,  -5.7797,  -5.6330,  ...,  -5.8644,  -5.6335,  -5.6711],\n",
            "         [ -5.6221,  -5.7301,  -5.6844,  ...,  -5.9559,  -5.6879,  -5.7903],\n",
            "         ...,\n",
            "         [ -5.4593,  -5.6352,  -5.6415,  ...,  -5.5006,  -5.7052,  -5.6322],\n",
            "         [ -5.4001,  -5.6862,  -5.6821,  ...,  -5.5872,  -5.7673,  -5.6763],\n",
            "         [ -5.4787,  -5.6518,  -5.5987,  ...,  -5.5660,  -5.8027,  -5.8084]],\n",
            "\n",
            "        [[  0.0000, -69.0776, -69.0776,  ..., -69.0776, -69.0776, -69.0776],\n",
            "         [ -5.7401,  -5.7619,  -5.6912,  ...,  -5.8741,  -5.6108,  -5.6949],\n",
            "         [ -5.6533,  -5.7087,  -5.6960,  ...,  -5.8590,  -5.7822,  -5.6185],\n",
            "         ...,\n",
            "         [ -5.6615,  -5.5812,  -5.5941,  ...,  -5.4610,  -5.8174,  -5.7719],\n",
            "         [ -5.6397,  -5.6176,  -5.6186,  ...,  -5.4685,  -5.6024,  -5.6592],\n",
            "         [ -5.5875,  -5.5938,  -5.5600,  ...,  -5.4807,  -5.6694,  -5.6230]]],\n",
            "       device='cuda:0', grad_fn=<LogSoftmaxBackward0>)\n"
          ]
        }
      ],
      "source": [
        "# Play around with symbolic translate and symbolic score.\n",
        "input = torch.tensor(np.random.randint(0, 10, [3, 5]), dtype=torch.int64, device=device)\n",
        "target = torch.tensor(np.random.randint(0, 10, [3, 5]), dtype=torch.int64, device=device)\n",
        "\n",
        "# translate inp (with untrained model)\n",
        "output, logp = model.translate(input, greedy=False)\n",
        "\n",
        "print(\"Sample translations:\")\n",
        "print(output)\n",
        "print()\n",
        "print(\"Log-probabilities at each step:\")\n",
        "print(logp)"
      ]
    },
    {
      "cell_type": "code",
      "execution_count": 10,
      "metadata": {
        "id": "qOPM8RDI9rxs",
        "outputId": "8fb7af44-d74f-422e-d58c-7ffe53c79ef3",
        "colab": {
          "base_uri": "https://localhost:8080/"
        }
      },
      "outputs": [
        {
          "output_type": "stream",
          "name": "stdout",
          "text": [
            "Log-probabilities output:\n",
            "tensor([[[  0.0000, -69.0776, -69.0776,  ..., -69.0776, -69.0776, -69.0776],\n",
            "         [ -5.6621,  -5.7557,  -5.6585,  ...,  -5.8898,  -5.6165,  -5.7327],\n",
            "         [ -5.5783,  -5.6465,  -5.5829,  ...,  -5.7436,  -5.6973,  -5.6637],\n",
            "         [ -5.6123,  -5.6190,  -5.6019,  ...,  -5.5474,  -5.8176,  -5.7080],\n",
            "         [ -5.6512,  -5.6934,  -5.5859,  ...,  -5.6471,  -5.7481,  -5.6756]],\n",
            "\n",
            "        [[  0.0000, -69.0776, -69.0776,  ..., -69.0776, -69.0776, -69.0776],\n",
            "         [ -5.5838,  -5.6375,  -5.5798,  ...,  -5.5974,  -5.7429,  -5.6708],\n",
            "         [ -5.6189,  -5.5608,  -5.7421,  ...,  -5.6445,  -5.7060,  -5.7025],\n",
            "         [ -5.6088,  -5.5057,  -5.6115,  ...,  -5.6955,  -5.5929,  -5.7731],\n",
            "         [ -5.4956,  -5.5977,  -5.6614,  ...,  -5.7203,  -5.7436,  -5.7398]],\n",
            "\n",
            "        [[  0.0000, -69.0776, -69.0776,  ..., -69.0776, -69.0776, -69.0776],\n",
            "         [ -5.5408,  -5.6541,  -5.7547,  ...,  -5.6862,  -5.7831,  -5.6597],\n",
            "         [ -5.5440,  -5.5765,  -5.6146,  ...,  -5.7375,  -5.7319,  -5.6456],\n",
            "         [ -5.5717,  -5.6071,  -5.5579,  ...,  -5.6533,  -5.7437,  -5.7370],\n",
            "         [ -5.5469,  -5.5719,  -5.5179,  ...,  -5.6974,  -5.7429,  -5.6882]]],\n",
            "       device='cuda:0', grad_fn=<LogSoftmaxBackward0>)\n",
            "\n",
            "Log-probabilities of output tokens:\n",
            "tensor([[[  0.0000],\n",
            "         [ -5.5843],\n",
            "         [ -5.6470],\n",
            "         [ -5.4456],\n",
            "         [ -5.5767]],\n",
            "\n",
            "        [[-69.0776],\n",
            "         [ -5.7266],\n",
            "         [ -5.5608],\n",
            "         [ -5.8880],\n",
            "         [ -5.6614]],\n",
            "\n",
            "        [[-69.0776],\n",
            "         [ -5.6724],\n",
            "         [ -5.6146],\n",
            "         [ -5.6543],\n",
            "         [ -5.5434]]], device='cuda:0', grad_fn=<GatherBackward0>)\n"
          ]
        }
      ],
      "source": [
        "# score logp(target | input) with untrained model\n",
        "logp = model(input, target)\n",
        "print(\"Log-probabilities output:\")\n",
        "print(logp)\n",
        "print()\n",
        "print(\"Log-probabilities of output tokens:\")\n",
        "print(torch.gather(logp, dim=2, index=target[:, :, None]))"
      ]
    },
    {
      "cell_type": "code",
      "execution_count": 11,
      "metadata": {
        "id": "zE0iunOh9rxs"
      },
      "outputs": [],
      "source": [
        "def translate(words, max_len=MAX_OUTPUT_LENGTH):\n",
        "    # Convert words to a tensor of indices\n",
        "    words = input_vocab.to_matrix(words)\n",
        "    words = torch.tensor(words, dtype=torch.int64, device=device)\n",
        "\n",
        "    with torch.no_grad():\n",
        "        # YOUR CODE HERE\n",
        "        # Compute translations in form of indices.\n",
        "        # Note: use greedy translation to ensure determinism.\n",
        "        translation, _ = model.translate(words, greedy=True, max_len=max_len)\n",
        "\n",
        "\n",
        "    # Convert translations back into strings\n",
        "    return output_vocab.to_lines(translation.cpu().numpy())"
      ]
    },
    {
      "cell_type": "code",
      "execution_count": 12,
      "metadata": {
        "id": "sske-BHZ9rxs",
        "outputId": "3d7c53a3-3a7a-4c55-c930-6e0bc3c4aea9",
        "colab": {
          "base_uri": "https://localhost:8080/"
        }
      },
      "outputs": [
        {
          "output_type": "stream",
          "name": "stdout",
          "text": [
            "Sample inputs: ['אנרכיזם' 'אוטיזם קלאסי' 'אלבדו']\n",
            "Dummy translations: ['ọḥол\"\"\\'°ấɱɱいže仙աաוď', 'ọḥоήťťť守っỏղ陳仙mō…ọḥъ', 'ọḥол\"\"\\'°ấɱɱいže仙աաוď']\n"
          ]
        }
      ],
      "source": [
        "print(\"Sample inputs:\", all_words[:3])\n",
        "print(\"Dummy translations:\", translate(all_words[:3]))\n",
        "trans = translate(all_words[:3])\n",
        "\n",
        "assert translate(all_words[:3]) == translate(\n",
        "    all_words[:3]\n",
        "), \"make sure translation is deterministic (use greedy=True and disable any noise layers)\"\n",
        "assert isinstance(translate(all_words[:3]), list) and isinstance(\n",
        "    translate(all_words[:1])[0], str\n",
        "), \"translate(lines) must return a sequence of strings!\"\n",
        "# Note: if translation freezes, make sure you used max_len parameter"
      ]
    },
    {
      "cell_type": "markdown",
      "metadata": {
        "id": "oi6Iv31S9rxs"
      },
      "source": [
        "## Scoring function\n",
        "\n",
        "LogLikelihood is a poor estimator of model performance.\n",
        "* If we predict zero probability once, it shouldn't ruin entire model.\n",
        "* It is enough to learn just one translation if there are several correct ones.\n",
        "* What matters is how many mistakes model's gonna make when it translates!\n",
        "\n",
        "Therefore, we will use minimal Levenshtein distance. It measures how many characters do we need to add/remove/replace from model translation to make it perfect. Alternatively, one could use character-level BLEU/RougeL or other similar metrics.\n",
        "\n",
        "The catch here is that Levenshtein distance is not differentiable: it isn't even continuous. We can't train our neural network to maximize it by gradient descent."
      ]
    },
    {
      "cell_type": "code",
      "execution_count": 13,
      "metadata": {
        "id": "K9AW0Pv29rxs"
      },
      "outputs": [],
      "source": [
        "import editdistance\n",
        "\n",
        "\n",
        "def get_distance(word, translation):\n",
        "    \"\"\"\n",
        "    A function that takes word and predicted translation\n",
        "    and evaluates (Levenshtein's) edit distance to closest correct translation\n",
        "    \"\"\"\n",
        "    references = word_to_translation[word]\n",
        "    assert len(references) != 0, \"wrong/unknown word\"\n",
        "    return min(editdistance.eval(translation, reference) for reference in references)\n",
        "\n",
        "\n",
        "def score(words, bsize=100):\n",
        "    \"\"\"a function that computes levenshtein distance for bsize random samples\"\"\"\n",
        "    assert isinstance(words, np.ndarray)\n",
        "    batch_words = np.random.choice(words, size=bsize, replace=False)\n",
        "    batch_translation = translate(batch_words)\n",
        "    distances = [\n",
        "        get_distance(word, translation) for word, translation in zip(batch_words, batch_translation)\n",
        "    ]\n",
        "    return np.array(distances, dtype='float32')"
      ]
    },
    {
      "cell_type": "code",
      "execution_count": 14,
      "metadata": {
        "id": "F90fsOhl9rxt",
        "outputId": "1d9e8df4-0021-46ea-ad20-21261ff13124",
        "colab": {
          "base_uri": "https://localhost:8080/"
        }
      },
      "outputs": [
        {
          "output_type": "execute_result",
          "data": {
            "text/plain": [
              "[18.8, 18.8, 18.9, 18.8, 18.9]"
            ]
          },
          "metadata": {},
          "execution_count": 14
        }
      ],
      "source": [
        "# should be around 5-50 and decrease rapidly after training :)\n",
        "[score(test_words, 10).mean() for _ in range(5)]"
      ]
    },
    {
      "cell_type": "markdown",
      "metadata": {
        "id": "CQ6TZkKE9rxt"
      },
      "source": [
        "## Supervised pre-training\n",
        "\n",
        "Here we define a function that trains our model through maximizing log-likelihood a.k.a. minimizing crossentropy."
      ]
    },
    {
      "cell_type": "code",
      "execution_count": 15,
      "metadata": {
        "id": "4wFcLk959rxt"
      },
      "outputs": [],
      "source": [
        "import random\n",
        "\n",
        "\n",
        "def sample_batch(words, word_to_translation, batch_size):\n",
        "    # choose words\n",
        "    batch_words = np.random.choice(words, size=batch_size)\n",
        "\n",
        "    # choose translations\n",
        "    batch_reference_translations = [word_to_translation[word] for word in batch_words]\n",
        "    batch_translations = [random.choice(references) for references in batch_reference_translations]\n",
        "\n",
        "    return batch_words, batch_translations"
      ]
    },
    {
      "cell_type": "code",
      "execution_count": 16,
      "metadata": {
        "id": "kdfjyhsS9rxt",
        "outputId": "4ca536fd-2856-4e77-d48b-786782797d66",
        "colab": {
          "base_uri": "https://localhost:8080/"
        }
      },
      "outputs": [
        {
          "output_type": "stream",
          "name": "stdout",
          "text": [
            "Source:\n",
            "['שריון קשקשים' '1829 במדע' 'חכים']\n",
            "\n",
            "Target:\n",
            "['scale armour', '1829 in science', 'hakim']\n"
          ]
        }
      ],
      "source": [
        "bx, by = sample_batch(train_words, word_to_translation, batch_size=3)\n",
        "print(\"Source:\")\n",
        "print(bx)\n",
        "print()\n",
        "print(\"Target:\")\n",
        "print(by)"
      ]
    },
    {
      "cell_type": "code",
      "execution_count": 17,
      "metadata": {
        "id": "3xcnyaq39rxt"
      },
      "outputs": [],
      "source": [
        "from basic_model_torch import infer_mask\n",
        "\n",
        "\n",
        "def compute_loss_on_batch(input_sequence, reference_answers):\n",
        "    \"\"\" Compute crossentropy loss given a batch of sources and translations \"\"\"\n",
        "    input_sequence = torch.tensor(\n",
        "        input_vocab.to_matrix(input_sequence), dtype=torch.int64, device=device\n",
        "    )\n",
        "    reference_answers = torch.tensor(\n",
        "        output_vocab.to_matrix(reference_answers), dtype=torch.int64, device=device\n",
        "    )\n",
        "\n",
        "    # YOUR CODE HERE\n",
        "    # Compute log-probabilities of all possible tokens at each step. Use model interface.\n",
        "    logprobs = model(input_sequence, reference_answers)\n",
        "\n",
        "    # Compute elementwise crossentropy as negative log-probabilities of reference_answers.\n",
        "    reference_logprobs = torch.gather(logprobs, dim=2, index=reference_answers[:, :, None])\n",
        "    crossentropy = -torch.squeeze(reference_logprobs, dim=2)\n",
        "\n",
        "    # average with mask\n",
        "    mask = infer_mask(reference_answers, output_vocab.eos_ix)\n",
        "    loss = torch.sum(crossentropy * mask) / torch.sum(mask)\n",
        "\n",
        "    return loss"
      ]
    },
    {
      "cell_type": "code",
      "execution_count": 18,
      "metadata": {
        "id": "Eidx8i5s9rxt",
        "outputId": "15690926-7f9c-4ec3-e3c4-2abef6a624a9",
        "colab": {
          "base_uri": "https://localhost:8080/"
        }
      },
      "outputs": [
        {
          "output_type": "stream",
          "name": "stdout",
          "text": [
            "loss = 5.345715522766113\n"
          ]
        }
      ],
      "source": [
        "# test it\n",
        "loss = compute_loss_on_batch(*sample_batch(train_words, word_to_translation, 3))\n",
        "print(f'loss = {loss}')\n",
        "\n",
        "assert loss.item() > 0.0\n",
        "loss.backward()\n",
        "for w in model.parameters():\n",
        "    assert (\n",
        "        w.grad is not None and torch.max(torch.abs(w.grad)).item() != 0\n",
        "    ), f\"loss is not differentiable w.r.t. a weight with shape {w.size()}. Check compute_loss_on_batch.\""
      ]
    },
    {
      "cell_type": "markdown",
      "metadata": {
        "id": "CSx1nIFr9rxt"
      },
      "source": [
        "## Actually train the model\n",
        "\n",
        "Minibatches and stuff..."
      ]
    },
    {
      "cell_type": "code",
      "execution_count": 19,
      "metadata": {
        "id": "NRHXz5ZW9rxt",
        "outputId": "f8801540-97af-474f-873d-45e4346bd251",
        "colab": {
          "base_uri": "https://localhost:8080/",
          "height": 440,
          "referenced_widgets": [
            "5412a29b7eed49a3b56cc231d1753324",
            "674e98a0a6ce4cb18fb60d04af1811f7",
            "5121c7ec544d472188516445fdbd2d74",
            "4ae69c576f52457eb18fb4b70a557047",
            "92c57dd9b7884cd89c06ac51f337ebe0",
            "078c95c40d8f4fd497437717948ff678",
            "439a2877df97444990cddab20b635a7d",
            "0df913ee157d43038bb4e2db82e89c1f",
            "c2a0bdf720b3473ea744fac2a016b1c0",
            "a313c680d47744e88d705c945a4748b5",
            "f37af40bb1274e83b1543413a0f27567",
            "760a2a31bf97437cb9f890c9705add0d",
            "02b4f04a6a814c7eb540bd794deb6eb2"
          ]
        }
      },
      "outputs": [
        {
          "output_type": "display_data",
          "data": {
            "text/plain": [
              "Output()"
            ],
            "application/vnd.jupyter.widget-view+json": {
              "version_major": 2,
              "version_minor": 0,
              "model_id": "5412a29b7eed49a3b56cc231d1753324"
            }
          },
          "metadata": {}
        },
        {
          "output_type": "display_data",
          "data": {
            "text/plain": [
              "  0%|          | 0/5000 [00:00<?, ?it/s]"
            ],
            "application/vnd.jupyter.widget-view+json": {
              "version_major": 2,
              "version_minor": 0,
              "model_id": "5121c7ec544d472188516445fdbd2d74"
            }
          },
          "metadata": {}
        }
      ],
      "source": [
        "from IPython.display import clear_output, display\n",
        "from ipywidgets import Output\n",
        "from tqdm.auto import tqdm, trange\n",
        "\n",
        "\n",
        "output_display = Output()\n",
        "display(output_display)\n",
        "\n",
        "loss_history = []\n",
        "editdist_history = []\n",
        "entropy_history = []\n",
        "opt = torch.optim.Adam(model.parameters())\n",
        "batch_size = 32\n",
        "\n",
        "for i in trange(5000):\n",
        "    loss = compute_loss_on_batch(*sample_batch(train_words, word_to_translation, batch_size))\n",
        "\n",
        "    # train with backprop\n",
        "    opt.zero_grad()\n",
        "    loss.backward()\n",
        "    opt.step()\n",
        "\n",
        "    loss_history.append(loss.item())\n",
        "\n",
        "    if i % REPORT_FREQ == 0:\n",
        "        with output_display:\n",
        "            clear_output(wait=True)\n",
        "\n",
        "            current_scores = score(test_words)\n",
        "            editdist_history.append(current_scores.mean())\n",
        "            mean_loss = np.mean(loss_history[-10:])\n",
        "            mean_score = np.mean(editdist_history[-10:])\n",
        "            print(f\"mean loss = {mean_loss:.3f}, mean score = {mean_score:.3f}\")\n",
        "\n",
        "            plt.figure(figsize=(12, 4))\n",
        "            plt.subplot(131)\n",
        "            plt.title('train loss')\n",
        "            plt.plot(loss_history)\n",
        "            plt.grid()\n",
        "            plt.subplot(132)\n",
        "            plt.title('val score distribution')\n",
        "            plt.hist(current_scores, bins=20)\n",
        "            plt.subplot(133)\n",
        "            plt.title('val score (lower is better)')\n",
        "            plt.plot(editdist_history)\n",
        "            plt.grid()\n",
        "            plt.show()"
      ]
    },
    {
      "cell_type": "markdown",
      "metadata": {
        "id": "RGYvH47Q9rxt"
      },
      "source": [
        "__How to interpret the plots:__\n",
        "\n",
        "* __Train loss__ - that's your model's crossentropy over minibatches. It should go down steadily. Most importantly, it shouldn't be NaN :)\n",
        "* __Val score distribution__ - distribution of translation edit distance (score) within batch. It should move to the left over time.\n",
        "* __Val score / training time__ - it's your current mean edit distance. This plot is much whimsier than loss, but make sure it goes below 8 by 2500 steps.\n",
        "\n",
        "If it doesn't, first try to re-create both model and opt. You may have changed it's weight too much while debugging. If that doesn't help, it's debugging time."
      ]
    },
    {
      "cell_type": "code",
      "execution_count": 20,
      "metadata": {
        "id": "50zrI-pQ9rxu",
        "outputId": "cf3df39c-812d-4662-8c66-7328a4deb15c",
        "colab": {
          "base_uri": "https://localhost:8080/"
        }
      },
      "outputs": [
        {
          "output_type": "stream",
          "name": "stdout",
          "text": [
            "כל אנשי סמיילי -> anshimilian sair\n",
            "קטגוריה:ערוץ 2 -> 20 sandbox\n",
            "עבודה מהבית -> abbat hamari\n",
            "פראליה -> paralia\n",
            "קפלר 42 -> kepper levi\n",
            "קטגוריה:מתאסלמים -> mathesmalism\n",
            "בושמי -> bomashi\n",
            "לאונרדו -> leonardo\n",
            "שאמה -> shama\n",
            "עכברה -> competing\n"
          ]
        }
      ],
      "source": [
        "for word in train_words[:10]:\n",
        "    translation = translate([word])[0]\n",
        "    print(f\"{word} -> {translation}\")"
      ]
    },
    {
      "cell_type": "code",
      "execution_count": 21,
      "metadata": {
        "id": "9w8yX4Kn9rxu",
        "outputId": "e3b7e2ad-a37a-4c9f-82b9-92be6daa905b",
        "colab": {
          "base_uri": "https://localhost:8080/",
          "height": 66,
          "referenced_widgets": [
            "853f457004d24f15a51d0f9cad42689c",
            "9e340eeb7c1c49b7be0005f6bc9167c1",
            "57976b9d29e441ada8baec6813a10790",
            "2e67d099fbeb4ed9bdaf13b42f0c63b1",
            "b73fed07147148de8fe65b688ff9c818",
            "841367d6dca64d579041efcde094d29d",
            "c3b8ae854df547d5aaeafd87501c3de3",
            "8a7a99b88dc54555b5cff519cf536e68",
            "71ceb34c272948cc946d8727bd11e691",
            "ee1d0a8c96a94051809aa9a532f3360b",
            "782849d4edc747308627b724f86dfd62"
          ]
        }
      },
      "outputs": [
        {
          "output_type": "display_data",
          "data": {
            "text/plain": [
              "  0%|          | 0/407 [00:00<?, ?it/s]"
            ],
            "application/vnd.jupyter.widget-view+json": {
              "version_major": 2,
              "version_minor": 0,
              "model_id": "853f457004d24f15a51d0f9cad42689c"
            }
          },
          "metadata": {}
        },
        {
          "output_type": "stream",
          "name": "stdout",
          "text": [
            "Supervised test score: 6.786965877651399\n"
          ]
        }
      ],
      "source": [
        "test_scores = []\n",
        "for i in trange(0, len(test_words), batch_size):\n",
        "    batch_words = test_words[i : i + batch_size]\n",
        "    batch_translation = translate(batch_words)\n",
        "    distances = [\n",
        "        get_distance(word, translation) for word, translation in zip(batch_words, batch_translation)\n",
        "    ]\n",
        "    test_scores.extend(distances)\n",
        "\n",
        "print(\"Supervised test score:\", np.mean(test_scores))"
      ]
    },
    {
      "cell_type": "markdown",
      "metadata": {
        "id": "ugvkPI169rxu"
      },
      "source": [
        "## Self-critical policy gradient\n",
        "\n",
        "In this section you'll implement algorithm called self-critical sequence training (here's an [article](https://arxiv.org/abs/1612.00563)).\n",
        "\n",
        "The algorithm is a vanilla policy gradient with a special baseline.\n",
        "\n",
        "$$ \\nabla J = E_{x \\sim p(s)} E_{y \\sim \\pi(y|x)} \\nabla log \\pi(y|x) \\cdot (R(x,y) - b(x)) $$\n",
        "\n",
        "Here reward R(x,y) is a __negative levenshtein distance__ (since we minimize it). The baseline __b(x)__ represents how well model fares on word __x__.\n",
        "\n",
        "In practice, this means that we compute baseline as a score of greedy translation, $b(x) = R(x,y_{greedy}(x)) $.\n",
        "\n",
        "![img](https://github.com/yandexdataschool/Practical_RL/raw/master/yet_another_week/_resource/scheme.png)\n",
        "\n",
        "Luckily, we already obtained the required outputs: `model.translate` with `greedy=True` and `greedy=False` and we only need to compute levenshtein using `get_distance` function.\n"
      ]
    },
    {
      "cell_type": "code",
      "execution_count": 22,
      "metadata": {
        "id": "PYBaNPjD9rxu"
      },
      "outputs": [],
      "source": [
        "def compute_reward(input_sequence, translations):\n",
        "    \"\"\" computes sample-wise reward given token ids for inputs and translations \"\"\"\n",
        "    distances = [\n",
        "        get_distance(word, translation)\n",
        "        for word, translation in zip(\n",
        "            input_vocab.to_lines(input_sequence.detach().numpy()),\n",
        "            output_vocab.to_lines(translations.detach().numpy()),\n",
        "        )\n",
        "    ]\n",
        "\n",
        "    # use negative levenshtein distance so that larger reward means better policy\n",
        "    return -torch.tensor(distances, dtype=torch.int64, device=device)"
      ]
    },
    {
      "cell_type": "code",
      "execution_count": 23,
      "metadata": {
        "id": "BnH-8sG59rxu"
      },
      "outputs": [],
      "source": [
        "def scst_objective_on_batch(input_sequence, max_len=MAX_OUTPUT_LENGTH):\n",
        "    \"\"\" Compute pseudo-loss for policy gradient given a batch of sources \"\"\"\n",
        "    input_sequence = torch.tensor(\n",
        "        input_vocab.to_matrix(input_sequence), dtype=torch.int64, device=device\n",
        "    )\n",
        "\n",
        "    # YOUR CODE HERE\n",
        "    # use model to __sample__ symbolic translations given input_sequence\n",
        "    sample_translations, sample_logp = model.translate(\n",
        "        input_sequence, greedy=False, max_len=max_len\n",
        "    )\n",
        "\n",
        "    # YOUR CODE HERE\n",
        "    # use model to __greedy__ symbolic translations given input_sequence\n",
        "    greedy_translations, greedy_logp = model.translate(\n",
        "        input_sequence, greedy=True, max_len=max_len\n",
        "    )\n",
        "\n",
        "    # YOUR CODE HERE\n",
        "    # Compute rewards and baseline.\n",
        "    # Be careful with device: rewards require casting to numpy, so send everything to cpu.\n",
        "    rewards = compute_reward(input_sequence.cpu(), sample_translations.cpu())\n",
        "    baseline = compute_reward(input_sequence.cpu(), greedy_translations.cpu())\n",
        "\n",
        "    # YOUR CODE HERE\n",
        "    # compute advantage using rewards and baseline\n",
        "    # Yet again be careful with the device: advantage is used to compute gradients, so send it to device.\n",
        "    advantage = (rewards - baseline).to(device)\n",
        "\n",
        "    # YOUR CODE HERE\n",
        "    # Compute log_pi(a_t|s_t), shape = [batch, seq_length]\n",
        "    # Hint: look at how crossentropy is implemented in supervised learning loss above.\n",
        "    # Mind the sign - this one should not be multiplied by -1 :)\n",
        "    logp_sample = torch.gather(sample_logp, dim=2, index=sample_translations[:, :, None]).squeeze(\n",
        "        dim=2\n",
        "    )\n",
        "\n",
        "\n",
        "    # Policy gradient pseudo-loss. Gradient of J is exactly policy gradient.\n",
        "    J = logp_sample * advantage[:, None]\n",
        "\n",
        "    assert J.dim() == 2, \"please return elementwise objective, don't compute mean just yet\"\n",
        "\n",
        "    # average with mask\n",
        "    mask = infer_mask(sample_translations, output_vocab.eos_ix)\n",
        "    loss = -torch.sum(J * mask) / torch.sum(mask)\n",
        "\n",
        "    # YOUR CODE HERE\n",
        "    # Regularize with negative entropy. Don't forget the sign!\n",
        "    # Note: for entropy you need probabilities for all tokens (sample_logp), not just logp_sample\n",
        "    entropy = -torch.sum(torch.exp(sample_logp) * sample_logp, dim=-1)\n",
        "\n",
        "    assert entropy.dim() == 2, \"please make sure elementwise entropy is of shape [batch,time]\"\n",
        "\n",
        "    reg = -0.01 * torch.sum(entropy * mask) / torch.sum(mask)\n",
        "    return loss + reg, torch.sum(entropy * mask) / torch.sum(mask)"
      ]
    },
    {
      "cell_type": "markdown",
      "metadata": {
        "id": "ZO4sOvJe9rxu"
      },
      "source": [
        "### Policy gradient training\n"
      ]
    },
    {
      "cell_type": "code",
      "execution_count": 30,
      "metadata": {
        "id": "s86YtJXh9rxu",
        "outputId": "868c3fcd-b3d4-4b49-d62a-75836e5156ac",
        "colab": {
          "base_uri": "https://localhost:8080/",
          "height": 440,
          "referenced_widgets": [
            "99645425bf6541529ad047cc457a1c7a",
            "c3bf8e31e1424367b427a6cceaff6102",
            "b9b1a172b1124697bef9f0962b48cc7f",
            "abbedcf48c584159b0126072fbc853c9",
            "8b3a299d66124ccd885f3f61dfe59102",
            "b6273762f55741c5bd810e601f35c9fb",
            "0b615922d9bb4a3eb1706a8b9c186e0d",
            "d6a23f12d97c42338fcad2cd01b727cf",
            "81dd0a600b6b4f41b22caf638f7eb6ea",
            "f2bf00add4984d8481f7c73241ca62fa",
            "f7084f21d29347348c7f4f93dac6aa00",
            "1361e402558a4038ae57376d2f40d7d8",
            "d7ffbf80fefe4ebd851a4ef42ad45bf5"
          ]
        }
      },
      "outputs": [
        {
          "output_type": "display_data",
          "data": {
            "text/plain": [
              "Output()"
            ],
            "application/vnd.jupyter.widget-view+json": {
              "version_major": 2,
              "version_minor": 0,
              "model_id": "99645425bf6541529ad047cc457a1c7a"
            }
          },
          "metadata": {}
        },
        {
          "output_type": "display_data",
          "data": {
            "text/plain": [
              "  0%|          | 0/5000 [00:00<?, ?it/s]"
            ],
            "application/vnd.jupyter.widget-view+json": {
              "version_major": 2,
              "version_minor": 0,
              "model_id": "b9b1a172b1124697bef9f0962b48cc7f"
            }
          },
          "metadata": {}
        }
      ],
      "source": [
        "entropy_history = [np.nan] * len(loss_history)\n",
        "opt = torch.optim.Adam(model.parameters(), lr=1e-5)\n",
        "\n",
        "debug_list = []\n",
        "\n",
        "output_display = Output()\n",
        "display(output_display)\n",
        "\n",
        "# Feel free to use more steps if necessary.\n",
        "for i in trange(5000):\n",
        "    loss, ent = scst_objective_on_batch(\n",
        "        sample_batch(train_words, word_to_translation, 32)[0]\n",
        "    )  # [0] = only source sentence\n",
        "\n",
        "    # train with backprop\n",
        "    opt.zero_grad()\n",
        "    loss.backward()\n",
        "    opt.step()\n",
        "\n",
        "    loss_history.append(loss.item())\n",
        "    entropy_history.append(ent.item())\n",
        "    debug_list.append(current_scores)\n",
        "\n",
        "    if (i + 1) % REPORT_FREQ == 0:\n",
        "        with output_display:\n",
        "            clear_output(wait=True)\n",
        "\n",
        "            current_scores = score(test_words)\n",
        "            editdist_history.append(current_scores.mean())\n",
        "            mean_loss = np.mean(loss_history[-10:])\n",
        "            mean_score = np.mean(editdist_history[-10:])\n",
        "            print(f\"J={mean_loss:.3f}, mean score={mean_score:.3f}\")\n",
        "\n",
        "            plt.figure(figsize=(12, 4))\n",
        "            plt.subplot(131)\n",
        "            plt.title('val score distribution')\n",
        "            plt.hist(current_scores, bins=20)\n",
        "            plt.subplot(132)\n",
        "            plt.title('val score / traning time')\n",
        "            plt.plot(editdist_history)\n",
        "            plt.grid()\n",
        "            plt.subplot(133)\n",
        "            plt.title('policy entropy / traning time')\n",
        "            plt.plot(entropy_history)\n",
        "            plt.grid()\n",
        "            plt.show()"
      ]
    },
    {
      "cell_type": "markdown",
      "metadata": {
        "id": "JmrG0CBu9rxv"
      },
      "source": [
        "__Debugging tips:__\n",
        "![img](https://github.com/yandexdataschool/Practical_RL/raw/master/yet_another_week/_resource/do_something_scst.png)\n",
        "\n",
        " * As usual, don't expect improvements right away, but in general the model should be able to show some positive changes by 5k steps.\n",
        " * Entropy is a good indicator of many problems.\n",
        "   * If it reaches zero, you may need greater entropy regularizer.\n",
        "   * If it has rapid changes time to time, you may need gradient clipping.\n",
        "   * If it oscillates up and down in an erratic manner... it's perfectly okay for entropy to do so. But it should decrease at the end.\n",
        "   \n",
        " * We don't show loss_history cuz it's uninformative for pseudo-losses in policy gradient. However, if something goes wrong you can check it to see if everything isn't a constant zero."
      ]
    },
    {
      "cell_type": "markdown",
      "metadata": {
        "id": "m8__jC3T9rxv"
      },
      "source": [
        "### Results"
      ]
    },
    {
      "cell_type": "code",
      "execution_count": 31,
      "metadata": {
        "id": "H-Ovy4Cs9rxv",
        "outputId": "a869199a-94de-4a32-8c3d-1a53d4a4eed5",
        "colab": {
          "base_uri": "https://localhost:8080/"
        }
      },
      "outputs": [
        {
          "output_type": "stream",
          "name": "stdout",
          "text": [
            "כל אנשי סמיילי -> an salimi\n",
            "קטגוריה:ערוץ 2 -> rat\n",
            "עבודה מהבית -> abod mat\n",
            "פראליה -> paralia\n",
            "קפלר 42 -> kapel rap\n",
            "קטגוריה:מתאסלמים -> matalsmain\n",
            "בושמי -> boshmi\n",
            "לאונרדו -> leonardo\n",
            "שאמה -> shama\n",
            "עכברה -> achara\n"
          ]
        }
      ],
      "source": [
        "for word in train_words[:10]:\n",
        "    translation = translate([word])[0]\n",
        "    print(f\"{word} -> {translation}\")"
      ]
    },
    {
      "cell_type": "code",
      "execution_count": 32,
      "metadata": {
        "id": "OQwarlFJ9rxv",
        "outputId": "7388ed81-3e6b-4db4-920c-8d8b192954aa",
        "colab": {
          "base_uri": "https://localhost:8080/",
          "height": 66,
          "referenced_widgets": [
            "613d4d5d253749c3a803654cf039eebe",
            "6e5537c2ac84486ca1ebbe7bf5cb2b79",
            "e67bc3975e534d729d7c5eee9237a297",
            "fc5268a26fae4759a30b79751310e060",
            "186e258275c64655b184d7f03cec703c",
            "c9540568b1244980871adea0d5ed7d35",
            "48f58b7af4fa47719bf2bb3e866cd660",
            "c68193c3557e46eb98cb542f14b34d83",
            "5f16a0f220ad48c483751235168ab658",
            "90f5bd8400b24f3ba4aecd0c2a1072ab",
            "18ceff29646046bc9b37c50ff31cb8e1"
          ]
        }
      },
      "outputs": [
        {
          "output_type": "display_data",
          "data": {
            "text/plain": [
              "  0%|          | 0/407 [00:00<?, ?it/s]"
            ],
            "application/vnd.jupyter.widget-view+json": {
              "version_major": 2,
              "version_minor": 0,
              "model_id": "613d4d5d253749c3a803654cf039eebe"
            }
          },
          "metadata": {}
        },
        {
          "output_type": "stream",
          "name": "stdout",
          "text": [
            "SCST test score: 6.335152167230249\n"
          ]
        }
      ],
      "source": [
        "test_scores = []\n",
        "for i in trange(0, len(test_words), batch_size):\n",
        "    batch_words = test_words[i : i + batch_size]\n",
        "    batch_translation = translate(batch_words)\n",
        "    distances = [\n",
        "        get_distance(word, translation) for word, translation in zip(batch_words, batch_translation)\n",
        "    ]\n",
        "    test_scores.extend(distances)\n",
        "\n",
        "print(\"SCST test score:\", np.mean(test_scores))"
      ]
    },
    {
      "cell_type": "markdown",
      "metadata": {
        "id": "xobu7apf9rxv"
      },
      "source": [
        "## Bonus: make it actually work\n",
        "\n",
        "In this section, we want you to finally __restart with EASY_MODE=False__ and experiment to find a good model/curriculum for that task.\n",
        "\n",
        "We recommend you to start with the following architecture\n",
        "\n",
        "```\n",
        "encoder---decoder\n",
        "\n",
        "           P(y|h)\n",
        "             ^\n",
        " LSTM  ->   LSTM\n",
        "  ^          ^\n",
        " biLSTM  ->   LSTM\n",
        "  ^          ^\n",
        "input       y_prev\n",
        "```\n",
        "\n",
        "__Note:__ you can fit all 4 state tensors of both LSTMs into in a single state - just assume that it contains, for example, [h0, c0, h1, c1] - pack it in encode and update in decode.\n",
        "\n",
        "\n",
        "Here are some cool ideas on what you can do then.\n",
        "\n",
        "__General tips & tricks:__\n",
        "* You will likely need to adjust pre-training time for such a network.\n",
        "* Supervised pre-training may benefit from clipping gradients somehow.\n",
        "* SCST may indulge a higher learning rate in some cases and changing entropy regularizer over time.\n",
        "* It's often useful to save pre-trained model parameters to not re-train it every time you want new policy gradient parameters.\n",
        "* When leaving training for nighttime, try setting REPORT_FREQ to a larger value (e.g. 500) not to waste time on it.\n",
        "\n",
        "__Formal criteria:__\n",
        "To get 5 points, we want you to build an architecture that:\n",
        "* _doesn't consist of single GRU_\n",
        "* _works better_ than single GRU baseline.\n",
        "* We also want you to provide either learning curve or trained model, preferably both\n",
        "* ... and write a brief report or experiment log describing what you did and how it fared.\n",
        "\n",
        "### Attention\n",
        "There's more than one way to connect decoder to encoder\n",
        "  * __Vanilla:__ layer_i of encoder last state goes to layer_i of decoder initial state\n",
        "  * __Every tick:__ feed encoder last state _on every iteration_ of decoder.\n",
        "  * __Attention:__ allow decoder to \"peek\" at one (or several) positions of encoded sequence on every tick.\n",
        "\n",
        "The most effective (and cool) of those is, of course, attention.\n",
        "You can read more about attention [in this nice blog post](https://distill.pub/2016/augmented-rnns/). The easiest way to begin is to use \"soft\" attention with \"additive\" or \"dot-product\" intermediate layers.\n",
        "\n",
        "__Tips__\n",
        "* Model usually generalizes better if you no longer allow decoder to see final encoder state\n",
        "* Once your model made it through several epochs, it is a good idea to visualize attention maps to understand what your model has actually learned\n",
        "\n",
        "* There's more stuff [here](bonus_pytorch.ipynb)\n",
        "* If you opted for hard attention, we recommend [gumbel-softmax](https://blog.evjang.com/2016/11/tutorial-categorical-variational.html) instead of sampling. Also, please make sure soft attention works fine before you switch to hard.\n",
        "\n",
        "### UREX\n",
        "* This is a way to improve exploration in policy-based settings. The main idea is that you find and upweight under-appreciated actions.\n",
        "* Here's [video](https://www.youtube.com/watch?v=fZNyHoXgV7M&feature=youtu.be&t=3444)\n",
        " and an [article](https://arxiv.org/abs/1611.09321).\n",
        "* You may want to reduce batch size 'cuz UREX requires you to sample multiple times per source sentence.\n",
        "* Once you got it working, try using experience replay with importance sampling instead of (in addition to) basic UREX.\n",
        "\n",
        "### Some additional ideas:\n",
        "* (advanced deep learning) It may be a good idea to first train on small phrases and then adapt to larger ones (a.k.a. training curriculum).\n",
        "* (advanced nlp) You may want to switch from raw utf8 to something like unicode or even syllables to make the task easier.\n",
        "* (advanced nlp) Since Hebrew words are written __with vowels omitted__, you may want to use a small Hebrew vowel markup dataset at `he-pron-wiktionary.txt`."
      ]
    },
    {
      "cell_type": "code",
      "execution_count": null,
      "metadata": {
        "id": "HjOSzs5Y9rxv"
      },
      "outputs": [],
      "source": [
        "assert not EASY_MODE, \"make sure you set EASY_MODE = False at the top of the notebook.\""
      ]
    },
    {
      "cell_type": "markdown",
      "metadata": {
        "id": "U_Vyaoic9rxv"
      },
      "source": [
        "`[your report/log here or anywhere you please]`"
      ]
    },
    {
      "cell_type": "markdown",
      "metadata": {
        "id": "mN41Cy4p9rxv"
      },
      "source": [
        "__Contributions:__ This notebook is brought to you by\n",
        "* Yandex [MT team](https://tech.yandex.com/translate/)\n",
        "* Denis Mazur ([DeniskaMazur](https://github.com/DeniskaMazur)), Oleg Vasilev ([Omrigan](https://github.com/Omrigan/)), Dmitry Emelyanenko ([TixFeniks](https://github.com/tixfeniks)) and Fedor Ratnikov ([justheuristic](https://github.com/justheuristic/))\n",
        "* Dataset is parsed from [Wiktionary](https://en.wiktionary.org), which is under CC-BY-SA and GFDL licenses.\n"
      ]
    }
  ],
  "metadata": {
    "accelerator": "GPU",
    "colab": {
      "name": "binpord_practice_rl_for_seq2sec_clean.ipynb",
      "provenance": []
    },
    "kernelspec": {
      "display_name": "Python 3 (ipykernel)",
      "language": "python",
      "name": "python3"
    },
    "language_info": {
      "codemirror_mode": {
        "name": "ipython",
        "version": 3
      },
      "file_extension": ".py",
      "mimetype": "text/x-python",
      "name": "python",
      "nbconvert_exporter": "python",
      "pygments_lexer": "ipython3",
      "version": "3.9.7"
    },
    "widgets": {
      "application/vnd.jupyter.widget-state+json": {
        "5412a29b7eed49a3b56cc231d1753324": {
          "model_module": "@jupyter-widgets/output",
          "model_name": "OutputModel",
          "model_module_version": "1.0.0",
          "state": {
            "_dom_classes": [],
            "_model_module": "@jupyter-widgets/output",
            "_model_module_version": "1.0.0",
            "_model_name": "OutputModel",
            "_view_count": null,
            "_view_module": "@jupyter-widgets/output",
            "_view_module_version": "1.0.0",
            "_view_name": "OutputView",
            "layout": "IPY_MODEL_674e98a0a6ce4cb18fb60d04af1811f7",
            "msg_id": "",
            "outputs": [
              {
                "output_type": "stream",
                "name": "stdout",
                "text": [
                  "mean loss = 1.272, mean score = 7.287\n"
                ]
              },
              {
                "output_type": "display_data",
                "data": {
                  "text/plain": "<Figure size 1200x400 with 3 Axes>",
                  "image/png": "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\n"
                },
                "metadata": {}
              }
            ]
          }
        },
        "674e98a0a6ce4cb18fb60d04af1811f7": {
          "model_module": "@jupyter-widgets/base",
          "model_name": "LayoutModel",
          "model_module_version": "1.2.0",
          "state": {
            "_model_module": "@jupyter-widgets/base",
            "_model_module_version": "1.2.0",
            "_model_name": "LayoutModel",
            "_view_count": null,
            "_view_module": "@jupyter-widgets/base",
            "_view_module_version": "1.2.0",
            "_view_name": "LayoutView",
            "align_content": null,
            "align_items": null,
            "align_self": null,
            "border": null,
            "bottom": null,
            "display": null,
            "flex": null,
            "flex_flow": null,
            "grid_area": null,
            "grid_auto_columns": null,
            "grid_auto_flow": null,
            "grid_auto_rows": null,
            "grid_column": null,
            "grid_gap": null,
            "grid_row": null,
            "grid_template_areas": null,
            "grid_template_columns": null,
            "grid_template_rows": null,
            "height": null,
            "justify_content": null,
            "justify_items": null,
            "left": null,
            "margin": null,
            "max_height": null,
            "max_width": null,
            "min_height": null,
            "min_width": null,
            "object_fit": null,
            "object_position": null,
            "order": null,
            "overflow": null,
            "overflow_x": null,
            "overflow_y": null,
            "padding": null,
            "right": null,
            "top": null,
            "visibility": null,
            "width": null
          }
        },
        "5121c7ec544d472188516445fdbd2d74": {
          "model_module": "@jupyter-widgets/controls",
          "model_name": "HBoxModel",
          "model_module_version": "1.5.0",
          "state": {
            "_dom_classes": [],
            "_model_module": "@jupyter-widgets/controls",
            "_model_module_version": "1.5.0",
            "_model_name": "HBoxModel",
            "_view_count": null,
            "_view_module": "@jupyter-widgets/controls",
            "_view_module_version": "1.5.0",
            "_view_name": "HBoxView",
            "box_style": "",
            "children": [
              "IPY_MODEL_4ae69c576f52457eb18fb4b70a557047",
              "IPY_MODEL_92c57dd9b7884cd89c06ac51f337ebe0",
              "IPY_MODEL_078c95c40d8f4fd497437717948ff678"
            ],
            "layout": "IPY_MODEL_439a2877df97444990cddab20b635a7d"
          }
        },
        "4ae69c576f52457eb18fb4b70a557047": {
          "model_module": "@jupyter-widgets/controls",
          "model_name": "HTMLModel",
          "model_module_version": "1.5.0",
          "state": {
            "_dom_classes": [],
            "_model_module": "@jupyter-widgets/controls",
            "_model_module_version": "1.5.0",
            "_model_name": "HTMLModel",
            "_view_count": null,
            "_view_module": "@jupyter-widgets/controls",
            "_view_module_version": "1.5.0",
            "_view_name": "HTMLView",
            "description": "",
            "description_tooltip": null,
            "layout": "IPY_MODEL_0df913ee157d43038bb4e2db82e89c1f",
            "placeholder": "​",
            "style": "IPY_MODEL_c2a0bdf720b3473ea744fac2a016b1c0",
            "value": "100%"
          }
        },
        "92c57dd9b7884cd89c06ac51f337ebe0": {
          "model_module": "@jupyter-widgets/controls",
          "model_name": "FloatProgressModel",
          "model_module_version": "1.5.0",
          "state": {
            "_dom_classes": [],
            "_model_module": "@jupyter-widgets/controls",
            "_model_module_version": "1.5.0",
            "_model_name": "FloatProgressModel",
            "_view_count": null,
            "_view_module": "@jupyter-widgets/controls",
            "_view_module_version": "1.5.0",
            "_view_name": "ProgressView",
            "bar_style": "success",
            "description": "",
            "description_tooltip": null,
            "layout": "IPY_MODEL_a313c680d47744e88d705c945a4748b5",
            "max": 5000,
            "min": 0,
            "orientation": "horizontal",
            "style": "IPY_MODEL_f37af40bb1274e83b1543413a0f27567",
            "value": 5000
          }
        },
        "078c95c40d8f4fd497437717948ff678": {
          "model_module": "@jupyter-widgets/controls",
          "model_name": "HTMLModel",
          "model_module_version": "1.5.0",
          "state": {
            "_dom_classes": [],
            "_model_module": "@jupyter-widgets/controls",
            "_model_module_version": "1.5.0",
            "_model_name": "HTMLModel",
            "_view_count": null,
            "_view_module": "@jupyter-widgets/controls",
            "_view_module_version": "1.5.0",
            "_view_name": "HTMLView",
            "description": "",
            "description_tooltip": null,
            "layout": "IPY_MODEL_760a2a31bf97437cb9f890c9705add0d",
            "placeholder": "​",
            "style": "IPY_MODEL_02b4f04a6a814c7eb540bd794deb6eb2",
            "value": " 5000/5000 [02:00&lt;00:00, 63.26it/s]"
          }
        },
        "439a2877df97444990cddab20b635a7d": {
          "model_module": "@jupyter-widgets/base",
          "model_name": "LayoutModel",
          "model_module_version": "1.2.0",
          "state": {
            "_model_module": "@jupyter-widgets/base",
            "_model_module_version": "1.2.0",
            "_model_name": "LayoutModel",
            "_view_count": null,
            "_view_module": "@jupyter-widgets/base",
            "_view_module_version": "1.2.0",
            "_view_name": "LayoutView",
            "align_content": null,
            "align_items": null,
            "align_self": null,
            "border": null,
            "bottom": null,
            "display": null,
            "flex": null,
            "flex_flow": null,
            "grid_area": null,
            "grid_auto_columns": null,
            "grid_auto_flow": null,
            "grid_auto_rows": null,
            "grid_column": null,
            "grid_gap": null,
            "grid_row": null,
            "grid_template_areas": null,
            "grid_template_columns": null,
            "grid_template_rows": null,
            "height": null,
            "justify_content": null,
            "justify_items": null,
            "left": null,
            "margin": null,
            "max_height": null,
            "max_width": null,
            "min_height": null,
            "min_width": null,
            "object_fit": null,
            "object_position": null,
            "order": null,
            "overflow": null,
            "overflow_x": null,
            "overflow_y": null,
            "padding": null,
            "right": null,
            "top": null,
            "visibility": null,
            "width": null
          }
        },
        "0df913ee157d43038bb4e2db82e89c1f": {
          "model_module": "@jupyter-widgets/base",
          "model_name": "LayoutModel",
          "model_module_version": "1.2.0",
          "state": {
            "_model_module": "@jupyter-widgets/base",
            "_model_module_version": "1.2.0",
            "_model_name": "LayoutModel",
            "_view_count": null,
            "_view_module": "@jupyter-widgets/base",
            "_view_module_version": "1.2.0",
            "_view_name": "LayoutView",
            "align_content": null,
            "align_items": null,
            "align_self": null,
            "border": null,
            "bottom": null,
            "display": null,
            "flex": null,
            "flex_flow": null,
            "grid_area": null,
            "grid_auto_columns": null,
            "grid_auto_flow": null,
            "grid_auto_rows": null,
            "grid_column": null,
            "grid_gap": null,
            "grid_row": null,
            "grid_template_areas": null,
            "grid_template_columns": null,
            "grid_template_rows": null,
            "height": null,
            "justify_content": null,
            "justify_items": null,
            "left": null,
            "margin": null,
            "max_height": null,
            "max_width": null,
            "min_height": null,
            "min_width": null,
            "object_fit": null,
            "object_position": null,
            "order": null,
            "overflow": null,
            "overflow_x": null,
            "overflow_y": null,
            "padding": null,
            "right": null,
            "top": null,
            "visibility": null,
            "width": null
          }
        },
        "c2a0bdf720b3473ea744fac2a016b1c0": {
          "model_module": "@jupyter-widgets/controls",
          "model_name": "DescriptionStyleModel",
          "model_module_version": "1.5.0",
          "state": {
            "_model_module": "@jupyter-widgets/controls",
            "_model_module_version": "1.5.0",
            "_model_name": "DescriptionStyleModel",
            "_view_count": null,
            "_view_module": "@jupyter-widgets/base",
            "_view_module_version": "1.2.0",
            "_view_name": "StyleView",
            "description_width": ""
          }
        },
        "a313c680d47744e88d705c945a4748b5": {
          "model_module": "@jupyter-widgets/base",
          "model_name": "LayoutModel",
          "model_module_version": "1.2.0",
          "state": {
            "_model_module": "@jupyter-widgets/base",
            "_model_module_version": "1.2.0",
            "_model_name": "LayoutModel",
            "_view_count": null,
            "_view_module": "@jupyter-widgets/base",
            "_view_module_version": "1.2.0",
            "_view_name": "LayoutView",
            "align_content": null,
            "align_items": null,
            "align_self": null,
            "border": null,
            "bottom": null,
            "display": null,
            "flex": null,
            "flex_flow": null,
            "grid_area": null,
            "grid_auto_columns": null,
            "grid_auto_flow": null,
            "grid_auto_rows": null,
            "grid_column": null,
            "grid_gap": null,
            "grid_row": null,
            "grid_template_areas": null,
            "grid_template_columns": null,
            "grid_template_rows": null,
            "height": null,
            "justify_content": null,
            "justify_items": null,
            "left": null,
            "margin": null,
            "max_height": null,
            "max_width": null,
            "min_height": null,
            "min_width": null,
            "object_fit": null,
            "object_position": null,
            "order": null,
            "overflow": null,
            "overflow_x": null,
            "overflow_y": null,
            "padding": null,
            "right": null,
            "top": null,
            "visibility": null,
            "width": null
          }
        },
        "f37af40bb1274e83b1543413a0f27567": {
          "model_module": "@jupyter-widgets/controls",
          "model_name": "ProgressStyleModel",
          "model_module_version": "1.5.0",
          "state": {
            "_model_module": "@jupyter-widgets/controls",
            "_model_module_version": "1.5.0",
            "_model_name": "ProgressStyleModel",
            "_view_count": null,
            "_view_module": "@jupyter-widgets/base",
            "_view_module_version": "1.2.0",
            "_view_name": "StyleView",
            "bar_color": null,
            "description_width": ""
          }
        },
        "760a2a31bf97437cb9f890c9705add0d": {
          "model_module": "@jupyter-widgets/base",
          "model_name": "LayoutModel",
          "model_module_version": "1.2.0",
          "state": {
            "_model_module": "@jupyter-widgets/base",
            "_model_module_version": "1.2.0",
            "_model_name": "LayoutModel",
            "_view_count": null,
            "_view_module": "@jupyter-widgets/base",
            "_view_module_version": "1.2.0",
            "_view_name": "LayoutView",
            "align_content": null,
            "align_items": null,
            "align_self": null,
            "border": null,
            "bottom": null,
            "display": null,
            "flex": null,
            "flex_flow": null,
            "grid_area": null,
            "grid_auto_columns": null,
            "grid_auto_flow": null,
            "grid_auto_rows": null,
            "grid_column": null,
            "grid_gap": null,
            "grid_row": null,
            "grid_template_areas": null,
            "grid_template_columns": null,
            "grid_template_rows": null,
            "height": null,
            "justify_content": null,
            "justify_items": null,
            "left": null,
            "margin": null,
            "max_height": null,
            "max_width": null,
            "min_height": null,
            "min_width": null,
            "object_fit": null,
            "object_position": null,
            "order": null,
            "overflow": null,
            "overflow_x": null,
            "overflow_y": null,
            "padding": null,
            "right": null,
            "top": null,
            "visibility": null,
            "width": null
          }
        },
        "02b4f04a6a814c7eb540bd794deb6eb2": {
          "model_module": "@jupyter-widgets/controls",
          "model_name": "DescriptionStyleModel",
          "model_module_version": "1.5.0",
          "state": {
            "_model_module": "@jupyter-widgets/controls",
            "_model_module_version": "1.5.0",
            "_model_name": "DescriptionStyleModel",
            "_view_count": null,
            "_view_module": "@jupyter-widgets/base",
            "_view_module_version": "1.2.0",
            "_view_name": "StyleView",
            "description_width": ""
          }
        },
        "853f457004d24f15a51d0f9cad42689c": {
          "model_module": "@jupyter-widgets/controls",
          "model_name": "HBoxModel",
          "model_module_version": "1.5.0",
          "state": {
            "_dom_classes": [],
            "_model_module": "@jupyter-widgets/controls",
            "_model_module_version": "1.5.0",
            "_model_name": "HBoxModel",
            "_view_count": null,
            "_view_module": "@jupyter-widgets/controls",
            "_view_module_version": "1.5.0",
            "_view_name": "HBoxView",
            "box_style": "",
            "children": [
              "IPY_MODEL_9e340eeb7c1c49b7be0005f6bc9167c1",
              "IPY_MODEL_57976b9d29e441ada8baec6813a10790",
              "IPY_MODEL_2e67d099fbeb4ed9bdaf13b42f0c63b1"
            ],
            "layout": "IPY_MODEL_b73fed07147148de8fe65b688ff9c818"
          }
        },
        "9e340eeb7c1c49b7be0005f6bc9167c1": {
          "model_module": "@jupyter-widgets/controls",
          "model_name": "HTMLModel",
          "model_module_version": "1.5.0",
          "state": {
            "_dom_classes": [],
            "_model_module": "@jupyter-widgets/controls",
            "_model_module_version": "1.5.0",
            "_model_name": "HTMLModel",
            "_view_count": null,
            "_view_module": "@jupyter-widgets/controls",
            "_view_module_version": "1.5.0",
            "_view_name": "HTMLView",
            "description": "",
            "description_tooltip": null,
            "layout": "IPY_MODEL_841367d6dca64d579041efcde094d29d",
            "placeholder": "​",
            "style": "IPY_MODEL_c3b8ae854df547d5aaeafd87501c3de3",
            "value": "100%"
          }
        },
        "57976b9d29e441ada8baec6813a10790": {
          "model_module": "@jupyter-widgets/controls",
          "model_name": "FloatProgressModel",
          "model_module_version": "1.5.0",
          "state": {
            "_dom_classes": [],
            "_model_module": "@jupyter-widgets/controls",
            "_model_module_version": "1.5.0",
            "_model_name": "FloatProgressModel",
            "_view_count": null,
            "_view_module": "@jupyter-widgets/controls",
            "_view_module_version": "1.5.0",
            "_view_name": "ProgressView",
            "bar_style": "success",
            "description": "",
            "description_tooltip": null,
            "layout": "IPY_MODEL_8a7a99b88dc54555b5cff519cf536e68",
            "max": 407,
            "min": 0,
            "orientation": "horizontal",
            "style": "IPY_MODEL_71ceb34c272948cc946d8727bd11e691",
            "value": 407
          }
        },
        "2e67d099fbeb4ed9bdaf13b42f0c63b1": {
          "model_module": "@jupyter-widgets/controls",
          "model_name": "HTMLModel",
          "model_module_version": "1.5.0",
          "state": {
            "_dom_classes": [],
            "_model_module": "@jupyter-widgets/controls",
            "_model_module_version": "1.5.0",
            "_model_name": "HTMLModel",
            "_view_count": null,
            "_view_module": "@jupyter-widgets/controls",
            "_view_module_version": "1.5.0",
            "_view_name": "HTMLView",
            "description": "",
            "description_tooltip": null,
            "layout": "IPY_MODEL_ee1d0a8c96a94051809aa9a532f3360b",
            "placeholder": "​",
            "style": "IPY_MODEL_782849d4edc747308627b724f86dfd62",
            "value": " 407/407 [00:02&lt;00:00, 142.05it/s]"
          }
        },
        "b73fed07147148de8fe65b688ff9c818": {
          "model_module": "@jupyter-widgets/base",
          "model_name": "LayoutModel",
          "model_module_version": "1.2.0",
          "state": {
            "_model_module": "@jupyter-widgets/base",
            "_model_module_version": "1.2.0",
            "_model_name": "LayoutModel",
            "_view_count": null,
            "_view_module": "@jupyter-widgets/base",
            "_view_module_version": "1.2.0",
            "_view_name": "LayoutView",
            "align_content": null,
            "align_items": null,
            "align_self": null,
            "border": null,
            "bottom": null,
            "display": null,
            "flex": null,
            "flex_flow": null,
            "grid_area": null,
            "grid_auto_columns": null,
            "grid_auto_flow": null,
            "grid_auto_rows": null,
            "grid_column": null,
            "grid_gap": null,
            "grid_row": null,
            "grid_template_areas": null,
            "grid_template_columns": null,
            "grid_template_rows": null,
            "height": null,
            "justify_content": null,
            "justify_items": null,
            "left": null,
            "margin": null,
            "max_height": null,
            "max_width": null,
            "min_height": null,
            "min_width": null,
            "object_fit": null,
            "object_position": null,
            "order": null,
            "overflow": null,
            "overflow_x": null,
            "overflow_y": null,
            "padding": null,
            "right": null,
            "top": null,
            "visibility": null,
            "width": null
          }
        },
        "841367d6dca64d579041efcde094d29d": {
          "model_module": "@jupyter-widgets/base",
          "model_name": "LayoutModel",
          "model_module_version": "1.2.0",
          "state": {
            "_model_module": "@jupyter-widgets/base",
            "_model_module_version": "1.2.0",
            "_model_name": "LayoutModel",
            "_view_count": null,
            "_view_module": "@jupyter-widgets/base",
            "_view_module_version": "1.2.0",
            "_view_name": "LayoutView",
            "align_content": null,
            "align_items": null,
            "align_self": null,
            "border": null,
            "bottom": null,
            "display": null,
            "flex": null,
            "flex_flow": null,
            "grid_area": null,
            "grid_auto_columns": null,
            "grid_auto_flow": null,
            "grid_auto_rows": null,
            "grid_column": null,
            "grid_gap": null,
            "grid_row": null,
            "grid_template_areas": null,
            "grid_template_columns": null,
            "grid_template_rows": null,
            "height": null,
            "justify_content": null,
            "justify_items": null,
            "left": null,
            "margin": null,
            "max_height": null,
            "max_width": null,
            "min_height": null,
            "min_width": null,
            "object_fit": null,
            "object_position": null,
            "order": null,
            "overflow": null,
            "overflow_x": null,
            "overflow_y": null,
            "padding": null,
            "right": null,
            "top": null,
            "visibility": null,
            "width": null
          }
        },
        "c3b8ae854df547d5aaeafd87501c3de3": {
          "model_module": "@jupyter-widgets/controls",
          "model_name": "DescriptionStyleModel",
          "model_module_version": "1.5.0",
          "state": {
            "_model_module": "@jupyter-widgets/controls",
            "_model_module_version": "1.5.0",
            "_model_name": "DescriptionStyleModel",
            "_view_count": null,
            "_view_module": "@jupyter-widgets/base",
            "_view_module_version": "1.2.0",
            "_view_name": "StyleView",
            "description_width": ""
          }
        },
        "8a7a99b88dc54555b5cff519cf536e68": {
          "model_module": "@jupyter-widgets/base",
          "model_name": "LayoutModel",
          "model_module_version": "1.2.0",
          "state": {
            "_model_module": "@jupyter-widgets/base",
            "_model_module_version": "1.2.0",
            "_model_name": "LayoutModel",
            "_view_count": null,
            "_view_module": "@jupyter-widgets/base",
            "_view_module_version": "1.2.0",
            "_view_name": "LayoutView",
            "align_content": null,
            "align_items": null,
            "align_self": null,
            "border": null,
            "bottom": null,
            "display": null,
            "flex": null,
            "flex_flow": null,
            "grid_area": null,
            "grid_auto_columns": null,
            "grid_auto_flow": null,
            "grid_auto_rows": null,
            "grid_column": null,
            "grid_gap": null,
            "grid_row": null,
            "grid_template_areas": null,
            "grid_template_columns": null,
            "grid_template_rows": null,
            "height": null,
            "justify_content": null,
            "justify_items": null,
            "left": null,
            "margin": null,
            "max_height": null,
            "max_width": null,
            "min_height": null,
            "min_width": null,
            "object_fit": null,
            "object_position": null,
            "order": null,
            "overflow": null,
            "overflow_x": null,
            "overflow_y": null,
            "padding": null,
            "right": null,
            "top": null,
            "visibility": null,
            "width": null
          }
        },
        "71ceb34c272948cc946d8727bd11e691": {
          "model_module": "@jupyter-widgets/controls",
          "model_name": "ProgressStyleModel",
          "model_module_version": "1.5.0",
          "state": {
            "_model_module": "@jupyter-widgets/controls",
            "_model_module_version": "1.5.0",
            "_model_name": "ProgressStyleModel",
            "_view_count": null,
            "_view_module": "@jupyter-widgets/base",
            "_view_module_version": "1.2.0",
            "_view_name": "StyleView",
            "bar_color": null,
            "description_width": ""
          }
        },
        "ee1d0a8c96a94051809aa9a532f3360b": {
          "model_module": "@jupyter-widgets/base",
          "model_name": "LayoutModel",
          "model_module_version": "1.2.0",
          "state": {
            "_model_module": "@jupyter-widgets/base",
            "_model_module_version": "1.2.0",
            "_model_name": "LayoutModel",
            "_view_count": null,
            "_view_module": "@jupyter-widgets/base",
            "_view_module_version": "1.2.0",
            "_view_name": "LayoutView",
            "align_content": null,
            "align_items": null,
            "align_self": null,
            "border": null,
            "bottom": null,
            "display": null,
            "flex": null,
            "flex_flow": null,
            "grid_area": null,
            "grid_auto_columns": null,
            "grid_auto_flow": null,
            "grid_auto_rows": null,
            "grid_column": null,
            "grid_gap": null,
            "grid_row": null,
            "grid_template_areas": null,
            "grid_template_columns": null,
            "grid_template_rows": null,
            "height": null,
            "justify_content": null,
            "justify_items": null,
            "left": null,
            "margin": null,
            "max_height": null,
            "max_width": null,
            "min_height": null,
            "min_width": null,
            "object_fit": null,
            "object_position": null,
            "order": null,
            "overflow": null,
            "overflow_x": null,
            "overflow_y": null,
            "padding": null,
            "right": null,
            "top": null,
            "visibility": null,
            "width": null
          }
        },
        "782849d4edc747308627b724f86dfd62": {
          "model_module": "@jupyter-widgets/controls",
          "model_name": "DescriptionStyleModel",
          "model_module_version": "1.5.0",
          "state": {
            "_model_module": "@jupyter-widgets/controls",
            "_model_module_version": "1.5.0",
            "_model_name": "DescriptionStyleModel",
            "_view_count": null,
            "_view_module": "@jupyter-widgets/base",
            "_view_module_version": "1.2.0",
            "_view_name": "StyleView",
            "description_width": ""
          }
        },
        "99645425bf6541529ad047cc457a1c7a": {
          "model_module": "@jupyter-widgets/output",
          "model_name": "OutputModel",
          "model_module_version": "1.0.0",
          "state": {
            "_dom_classes": [],
            "_model_module": "@jupyter-widgets/output",
            "_model_module_version": "1.0.0",
            "_model_name": "OutputModel",
            "_view_count": null,
            "_view_module": "@jupyter-widgets/output",
            "_view_module_version": "1.0.0",
            "_view_name": "OutputView",
            "layout": "IPY_MODEL_c3bf8e31e1424367b427a6cceaff6102",
            "msg_id": "",
            "outputs": [
              {
                "output_type": "stream",
                "name": "stdout",
                "text": [
                  "J=-0.894, mean score=6.337\n"
                ]
              },
              {
                "output_type": "display_data",
                "data": {
                  "text/plain": "<Figure size 1200x400 with 3 Axes>",
                  "image/png": "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\n"
                },
                "metadata": {}
              }
            ]
          }
        },
        "c3bf8e31e1424367b427a6cceaff6102": {
          "model_module": "@jupyter-widgets/base",
          "model_name": "LayoutModel",
          "model_module_version": "1.2.0",
          "state": {
            "_model_module": "@jupyter-widgets/base",
            "_model_module_version": "1.2.0",
            "_model_name": "LayoutModel",
            "_view_count": null,
            "_view_module": "@jupyter-widgets/base",
            "_view_module_version": "1.2.0",
            "_view_name": "LayoutView",
            "align_content": null,
            "align_items": null,
            "align_self": null,
            "border": null,
            "bottom": null,
            "display": null,
            "flex": null,
            "flex_flow": null,
            "grid_area": null,
            "grid_auto_columns": null,
            "grid_auto_flow": null,
            "grid_auto_rows": null,
            "grid_column": null,
            "grid_gap": null,
            "grid_row": null,
            "grid_template_areas": null,
            "grid_template_columns": null,
            "grid_template_rows": null,
            "height": null,
            "justify_content": null,
            "justify_items": null,
            "left": null,
            "margin": null,
            "max_height": null,
            "max_width": null,
            "min_height": null,
            "min_width": null,
            "object_fit": null,
            "object_position": null,
            "order": null,
            "overflow": null,
            "overflow_x": null,
            "overflow_y": null,
            "padding": null,
            "right": null,
            "top": null,
            "visibility": null,
            "width": null
          }
        },
        "b9b1a172b1124697bef9f0962b48cc7f": {
          "model_module": "@jupyter-widgets/controls",
          "model_name": "HBoxModel",
          "model_module_version": "1.5.0",
          "state": {
            "_dom_classes": [],
            "_model_module": "@jupyter-widgets/controls",
            "_model_module_version": "1.5.0",
            "_model_name": "HBoxModel",
            "_view_count": null,
            "_view_module": "@jupyter-widgets/controls",
            "_view_module_version": "1.5.0",
            "_view_name": "HBoxView",
            "box_style": "",
            "children": [
              "IPY_MODEL_abbedcf48c584159b0126072fbc853c9",
              "IPY_MODEL_8b3a299d66124ccd885f3f61dfe59102",
              "IPY_MODEL_b6273762f55741c5bd810e601f35c9fb"
            ],
            "layout": "IPY_MODEL_0b615922d9bb4a3eb1706a8b9c186e0d"
          }
        },
        "abbedcf48c584159b0126072fbc853c9": {
          "model_module": "@jupyter-widgets/controls",
          "model_name": "HTMLModel",
          "model_module_version": "1.5.0",
          "state": {
            "_dom_classes": [],
            "_model_module": "@jupyter-widgets/controls",
            "_model_module_version": "1.5.0",
            "_model_name": "HTMLModel",
            "_view_count": null,
            "_view_module": "@jupyter-widgets/controls",
            "_view_module_version": "1.5.0",
            "_view_name": "HTMLView",
            "description": "",
            "description_tooltip": null,
            "layout": "IPY_MODEL_d6a23f12d97c42338fcad2cd01b727cf",
            "placeholder": "​",
            "style": "IPY_MODEL_81dd0a600b6b4f41b22caf638f7eb6ea",
            "value": "100%"
          }
        },
        "8b3a299d66124ccd885f3f61dfe59102": {
          "model_module": "@jupyter-widgets/controls",
          "model_name": "FloatProgressModel",
          "model_module_version": "1.5.0",
          "state": {
            "_dom_classes": [],
            "_model_module": "@jupyter-widgets/controls",
            "_model_module_version": "1.5.0",
            "_model_name": "FloatProgressModel",
            "_view_count": null,
            "_view_module": "@jupyter-widgets/controls",
            "_view_module_version": "1.5.0",
            "_view_name": "ProgressView",
            "bar_style": "success",
            "description": "",
            "description_tooltip": null,
            "layout": "IPY_MODEL_f2bf00add4984d8481f7c73241ca62fa",
            "max": 5000,
            "min": 0,
            "orientation": "horizontal",
            "style": "IPY_MODEL_f7084f21d29347348c7f4f93dac6aa00",
            "value": 5000
          }
        },
        "b6273762f55741c5bd810e601f35c9fb": {
          "model_module": "@jupyter-widgets/controls",
          "model_name": "HTMLModel",
          "model_module_version": "1.5.0",
          "state": {
            "_dom_classes": [],
            "_model_module": "@jupyter-widgets/controls",
            "_model_module_version": "1.5.0",
            "_model_name": "HTMLModel",
            "_view_count": null,
            "_view_module": "@jupyter-widgets/controls",
            "_view_module_version": "1.5.0",
            "_view_name": "HTMLView",
            "description": "",
            "description_tooltip": null,
            "layout": "IPY_MODEL_1361e402558a4038ae57376d2f40d7d8",
            "placeholder": "​",
            "style": "IPY_MODEL_d7ffbf80fefe4ebd851a4ef42ad45bf5",
            "value": " 5000/5000 [02:51&lt;00:00, 15.33it/s]"
          }
        },
        "0b615922d9bb4a3eb1706a8b9c186e0d": {
          "model_module": "@jupyter-widgets/base",
          "model_name": "LayoutModel",
          "model_module_version": "1.2.0",
          "state": {
            "_model_module": "@jupyter-widgets/base",
            "_model_module_version": "1.2.0",
            "_model_name": "LayoutModel",
            "_view_count": null,
            "_view_module": "@jupyter-widgets/base",
            "_view_module_version": "1.2.0",
            "_view_name": "LayoutView",
            "align_content": null,
            "align_items": null,
            "align_self": null,
            "border": null,
            "bottom": null,
            "display": null,
            "flex": null,
            "flex_flow": null,
            "grid_area": null,
            "grid_auto_columns": null,
            "grid_auto_flow": null,
            "grid_auto_rows": null,
            "grid_column": null,
            "grid_gap": null,
            "grid_row": null,
            "grid_template_areas": null,
            "grid_template_columns": null,
            "grid_template_rows": null,
            "height": null,
            "justify_content": null,
            "justify_items": null,
            "left": null,
            "margin": null,
            "max_height": null,
            "max_width": null,
            "min_height": null,
            "min_width": null,
            "object_fit": null,
            "object_position": null,
            "order": null,
            "overflow": null,
            "overflow_x": null,
            "overflow_y": null,
            "padding": null,
            "right": null,
            "top": null,
            "visibility": null,
            "width": null
          }
        },
        "d6a23f12d97c42338fcad2cd01b727cf": {
          "model_module": "@jupyter-widgets/base",
          "model_name": "LayoutModel",
          "model_module_version": "1.2.0",
          "state": {
            "_model_module": "@jupyter-widgets/base",
            "_model_module_version": "1.2.0",
            "_model_name": "LayoutModel",
            "_view_count": null,
            "_view_module": "@jupyter-widgets/base",
            "_view_module_version": "1.2.0",
            "_view_name": "LayoutView",
            "align_content": null,
            "align_items": null,
            "align_self": null,
            "border": null,
            "bottom": null,
            "display": null,
            "flex": null,
            "flex_flow": null,
            "grid_area": null,
            "grid_auto_columns": null,
            "grid_auto_flow": null,
            "grid_auto_rows": null,
            "grid_column": null,
            "grid_gap": null,
            "grid_row": null,
            "grid_template_areas": null,
            "grid_template_columns": null,
            "grid_template_rows": null,
            "height": null,
            "justify_content": null,
            "justify_items": null,
            "left": null,
            "margin": null,
            "max_height": null,
            "max_width": null,
            "min_height": null,
            "min_width": null,
            "object_fit": null,
            "object_position": null,
            "order": null,
            "overflow": null,
            "overflow_x": null,
            "overflow_y": null,
            "padding": null,
            "right": null,
            "top": null,
            "visibility": null,
            "width": null
          }
        },
        "81dd0a600b6b4f41b22caf638f7eb6ea": {
          "model_module": "@jupyter-widgets/controls",
          "model_name": "DescriptionStyleModel",
          "model_module_version": "1.5.0",
          "state": {
            "_model_module": "@jupyter-widgets/controls",
            "_model_module_version": "1.5.0",
            "_model_name": "DescriptionStyleModel",
            "_view_count": null,
            "_view_module": "@jupyter-widgets/base",
            "_view_module_version": "1.2.0",
            "_view_name": "StyleView",
            "description_width": ""
          }
        },
        "f2bf00add4984d8481f7c73241ca62fa": {
          "model_module": "@jupyter-widgets/base",
          "model_name": "LayoutModel",
          "model_module_version": "1.2.0",
          "state": {
            "_model_module": "@jupyter-widgets/base",
            "_model_module_version": "1.2.0",
            "_model_name": "LayoutModel",
            "_view_count": null,
            "_view_module": "@jupyter-widgets/base",
            "_view_module_version": "1.2.0",
            "_view_name": "LayoutView",
            "align_content": null,
            "align_items": null,
            "align_self": null,
            "border": null,
            "bottom": null,
            "display": null,
            "flex": null,
            "flex_flow": null,
            "grid_area": null,
            "grid_auto_columns": null,
            "grid_auto_flow": null,
            "grid_auto_rows": null,
            "grid_column": null,
            "grid_gap": null,
            "grid_row": null,
            "grid_template_areas": null,
            "grid_template_columns": null,
            "grid_template_rows": null,
            "height": null,
            "justify_content": null,
            "justify_items": null,
            "left": null,
            "margin": null,
            "max_height": null,
            "max_width": null,
            "min_height": null,
            "min_width": null,
            "object_fit": null,
            "object_position": null,
            "order": null,
            "overflow": null,
            "overflow_x": null,
            "overflow_y": null,
            "padding": null,
            "right": null,
            "top": null,
            "visibility": null,
            "width": null
          }
        },
        "f7084f21d29347348c7f4f93dac6aa00": {
          "model_module": "@jupyter-widgets/controls",
          "model_name": "ProgressStyleModel",
          "model_module_version": "1.5.0",
          "state": {
            "_model_module": "@jupyter-widgets/controls",
            "_model_module_version": "1.5.0",
            "_model_name": "ProgressStyleModel",
            "_view_count": null,
            "_view_module": "@jupyter-widgets/base",
            "_view_module_version": "1.2.0",
            "_view_name": "StyleView",
            "bar_color": null,
            "description_width": ""
          }
        },
        "1361e402558a4038ae57376d2f40d7d8": {
          "model_module": "@jupyter-widgets/base",
          "model_name": "LayoutModel",
          "model_module_version": "1.2.0",
          "state": {
            "_model_module": "@jupyter-widgets/base",
            "_model_module_version": "1.2.0",
            "_model_name": "LayoutModel",
            "_view_count": null,
            "_view_module": "@jupyter-widgets/base",
            "_view_module_version": "1.2.0",
            "_view_name": "LayoutView",
            "align_content": null,
            "align_items": null,
            "align_self": null,
            "border": null,
            "bottom": null,
            "display": null,
            "flex": null,
            "flex_flow": null,
            "grid_area": null,
            "grid_auto_columns": null,
            "grid_auto_flow": null,
            "grid_auto_rows": null,
            "grid_column": null,
            "grid_gap": null,
            "grid_row": null,
            "grid_template_areas": null,
            "grid_template_columns": null,
            "grid_template_rows": null,
            "height": null,
            "justify_content": null,
            "justify_items": null,
            "left": null,
            "margin": null,
            "max_height": null,
            "max_width": null,
            "min_height": null,
            "min_width": null,
            "object_fit": null,
            "object_position": null,
            "order": null,
            "overflow": null,
            "overflow_x": null,
            "overflow_y": null,
            "padding": null,
            "right": null,
            "top": null,
            "visibility": null,
            "width": null
          }
        },
        "d7ffbf80fefe4ebd851a4ef42ad45bf5": {
          "model_module": "@jupyter-widgets/controls",
          "model_name": "DescriptionStyleModel",
          "model_module_version": "1.5.0",
          "state": {
            "_model_module": "@jupyter-widgets/controls",
            "_model_module_version": "1.5.0",
            "_model_name": "DescriptionStyleModel",
            "_view_count": null,
            "_view_module": "@jupyter-widgets/base",
            "_view_module_version": "1.2.0",
            "_view_name": "StyleView",
            "description_width": ""
          }
        },
        "613d4d5d253749c3a803654cf039eebe": {
          "model_module": "@jupyter-widgets/controls",
          "model_name": "HBoxModel",
          "model_module_version": "1.5.0",
          "state": {
            "_dom_classes": [],
            "_model_module": "@jupyter-widgets/controls",
            "_model_module_version": "1.5.0",
            "_model_name": "HBoxModel",
            "_view_count": null,
            "_view_module": "@jupyter-widgets/controls",
            "_view_module_version": "1.5.0",
            "_view_name": "HBoxView",
            "box_style": "",
            "children": [
              "IPY_MODEL_6e5537c2ac84486ca1ebbe7bf5cb2b79",
              "IPY_MODEL_e67bc3975e534d729d7c5eee9237a297",
              "IPY_MODEL_fc5268a26fae4759a30b79751310e060"
            ],
            "layout": "IPY_MODEL_186e258275c64655b184d7f03cec703c"
          }
        },
        "6e5537c2ac84486ca1ebbe7bf5cb2b79": {
          "model_module": "@jupyter-widgets/controls",
          "model_name": "HTMLModel",
          "model_module_version": "1.5.0",
          "state": {
            "_dom_classes": [],
            "_model_module": "@jupyter-widgets/controls",
            "_model_module_version": "1.5.0",
            "_model_name": "HTMLModel",
            "_view_count": null,
            "_view_module": "@jupyter-widgets/controls",
            "_view_module_version": "1.5.0",
            "_view_name": "HTMLView",
            "description": "",
            "description_tooltip": null,
            "layout": "IPY_MODEL_c9540568b1244980871adea0d5ed7d35",
            "placeholder": "​",
            "style": "IPY_MODEL_48f58b7af4fa47719bf2bb3e866cd660",
            "value": "100%"
          }
        },
        "e67bc3975e534d729d7c5eee9237a297": {
          "model_module": "@jupyter-widgets/controls",
          "model_name": "FloatProgressModel",
          "model_module_version": "1.5.0",
          "state": {
            "_dom_classes": [],
            "_model_module": "@jupyter-widgets/controls",
            "_model_module_version": "1.5.0",
            "_model_name": "FloatProgressModel",
            "_view_count": null,
            "_view_module": "@jupyter-widgets/controls",
            "_view_module_version": "1.5.0",
            "_view_name": "ProgressView",
            "bar_style": "success",
            "description": "",
            "description_tooltip": null,
            "layout": "IPY_MODEL_c68193c3557e46eb98cb542f14b34d83",
            "max": 407,
            "min": 0,
            "orientation": "horizontal",
            "style": "IPY_MODEL_5f16a0f220ad48c483751235168ab658",
            "value": 407
          }
        },
        "fc5268a26fae4759a30b79751310e060": {
          "model_module": "@jupyter-widgets/controls",
          "model_name": "HTMLModel",
          "model_module_version": "1.5.0",
          "state": {
            "_dom_classes": [],
            "_model_module": "@jupyter-widgets/controls",
            "_model_module_version": "1.5.0",
            "_model_name": "HTMLModel",
            "_view_count": null,
            "_view_module": "@jupyter-widgets/controls",
            "_view_module_version": "1.5.0",
            "_view_name": "HTMLView",
            "description": "",
            "description_tooltip": null,
            "layout": "IPY_MODEL_90f5bd8400b24f3ba4aecd0c2a1072ab",
            "placeholder": "​",
            "style": "IPY_MODEL_18ceff29646046bc9b37c50ff31cb8e1",
            "value": " 407/407 [00:02&lt;00:00, 123.25it/s]"
          }
        },
        "186e258275c64655b184d7f03cec703c": {
          "model_module": "@jupyter-widgets/base",
          "model_name": "LayoutModel",
          "model_module_version": "1.2.0",
          "state": {
            "_model_module": "@jupyter-widgets/base",
            "_model_module_version": "1.2.0",
            "_model_name": "LayoutModel",
            "_view_count": null,
            "_view_module": "@jupyter-widgets/base",
            "_view_module_version": "1.2.0",
            "_view_name": "LayoutView",
            "align_content": null,
            "align_items": null,
            "align_self": null,
            "border": null,
            "bottom": null,
            "display": null,
            "flex": null,
            "flex_flow": null,
            "grid_area": null,
            "grid_auto_columns": null,
            "grid_auto_flow": null,
            "grid_auto_rows": null,
            "grid_column": null,
            "grid_gap": null,
            "grid_row": null,
            "grid_template_areas": null,
            "grid_template_columns": null,
            "grid_template_rows": null,
            "height": null,
            "justify_content": null,
            "justify_items": null,
            "left": null,
            "margin": null,
            "max_height": null,
            "max_width": null,
            "min_height": null,
            "min_width": null,
            "object_fit": null,
            "object_position": null,
            "order": null,
            "overflow": null,
            "overflow_x": null,
            "overflow_y": null,
            "padding": null,
            "right": null,
            "top": null,
            "visibility": null,
            "width": null
          }
        },
        "c9540568b1244980871adea0d5ed7d35": {
          "model_module": "@jupyter-widgets/base",
          "model_name": "LayoutModel",
          "model_module_version": "1.2.0",
          "state": {
            "_model_module": "@jupyter-widgets/base",
            "_model_module_version": "1.2.0",
            "_model_name": "LayoutModel",
            "_view_count": null,
            "_view_module": "@jupyter-widgets/base",
            "_view_module_version": "1.2.0",
            "_view_name": "LayoutView",
            "align_content": null,
            "align_items": null,
            "align_self": null,
            "border": null,
            "bottom": null,
            "display": null,
            "flex": null,
            "flex_flow": null,
            "grid_area": null,
            "grid_auto_columns": null,
            "grid_auto_flow": null,
            "grid_auto_rows": null,
            "grid_column": null,
            "grid_gap": null,
            "grid_row": null,
            "grid_template_areas": null,
            "grid_template_columns": null,
            "grid_template_rows": null,
            "height": null,
            "justify_content": null,
            "justify_items": null,
            "left": null,
            "margin": null,
            "max_height": null,
            "max_width": null,
            "min_height": null,
            "min_width": null,
            "object_fit": null,
            "object_position": null,
            "order": null,
            "overflow": null,
            "overflow_x": null,
            "overflow_y": null,
            "padding": null,
            "right": null,
            "top": null,
            "visibility": null,
            "width": null
          }
        },
        "48f58b7af4fa47719bf2bb3e866cd660": {
          "model_module": "@jupyter-widgets/controls",
          "model_name": "DescriptionStyleModel",
          "model_module_version": "1.5.0",
          "state": {
            "_model_module": "@jupyter-widgets/controls",
            "_model_module_version": "1.5.0",
            "_model_name": "DescriptionStyleModel",
            "_view_count": null,
            "_view_module": "@jupyter-widgets/base",
            "_view_module_version": "1.2.0",
            "_view_name": "StyleView",
            "description_width": ""
          }
        },
        "c68193c3557e46eb98cb542f14b34d83": {
          "model_module": "@jupyter-widgets/base",
          "model_name": "LayoutModel",
          "model_module_version": "1.2.0",
          "state": {
            "_model_module": "@jupyter-widgets/base",
            "_model_module_version": "1.2.0",
            "_model_name": "LayoutModel",
            "_view_count": null,
            "_view_module": "@jupyter-widgets/base",
            "_view_module_version": "1.2.0",
            "_view_name": "LayoutView",
            "align_content": null,
            "align_items": null,
            "align_self": null,
            "border": null,
            "bottom": null,
            "display": null,
            "flex": null,
            "flex_flow": null,
            "grid_area": null,
            "grid_auto_columns": null,
            "grid_auto_flow": null,
            "grid_auto_rows": null,
            "grid_column": null,
            "grid_gap": null,
            "grid_row": null,
            "grid_template_areas": null,
            "grid_template_columns": null,
            "grid_template_rows": null,
            "height": null,
            "justify_content": null,
            "justify_items": null,
            "left": null,
            "margin": null,
            "max_height": null,
            "max_width": null,
            "min_height": null,
            "min_width": null,
            "object_fit": null,
            "object_position": null,
            "order": null,
            "overflow": null,
            "overflow_x": null,
            "overflow_y": null,
            "padding": null,
            "right": null,
            "top": null,
            "visibility": null,
            "width": null
          }
        },
        "5f16a0f220ad48c483751235168ab658": {
          "model_module": "@jupyter-widgets/controls",
          "model_name": "ProgressStyleModel",
          "model_module_version": "1.5.0",
          "state": {
            "_model_module": "@jupyter-widgets/controls",
            "_model_module_version": "1.5.0",
            "_model_name": "ProgressStyleModel",
            "_view_count": null,
            "_view_module": "@jupyter-widgets/base",
            "_view_module_version": "1.2.0",
            "_view_name": "StyleView",
            "bar_color": null,
            "description_width": ""
          }
        },
        "90f5bd8400b24f3ba4aecd0c2a1072ab": {
          "model_module": "@jupyter-widgets/base",
          "model_name": "LayoutModel",
          "model_module_version": "1.2.0",
          "state": {
            "_model_module": "@jupyter-widgets/base",
            "_model_module_version": "1.2.0",
            "_model_name": "LayoutModel",
            "_view_count": null,
            "_view_module": "@jupyter-widgets/base",
            "_view_module_version": "1.2.0",
            "_view_name": "LayoutView",
            "align_content": null,
            "align_items": null,
            "align_self": null,
            "border": null,
            "bottom": null,
            "display": null,
            "flex": null,
            "flex_flow": null,
            "grid_area": null,
            "grid_auto_columns": null,
            "grid_auto_flow": null,
            "grid_auto_rows": null,
            "grid_column": null,
            "grid_gap": null,
            "grid_row": null,
            "grid_template_areas": null,
            "grid_template_columns": null,
            "grid_template_rows": null,
            "height": null,
            "justify_content": null,
            "justify_items": null,
            "left": null,
            "margin": null,
            "max_height": null,
            "max_width": null,
            "min_height": null,
            "min_width": null,
            "object_fit": null,
            "object_position": null,
            "order": null,
            "overflow": null,
            "overflow_x": null,
            "overflow_y": null,
            "padding": null,
            "right": null,
            "top": null,
            "visibility": null,
            "width": null
          }
        },
        "18ceff29646046bc9b37c50ff31cb8e1": {
          "model_module": "@jupyter-widgets/controls",
          "model_name": "DescriptionStyleModel",
          "model_module_version": "1.5.0",
          "state": {
            "_model_module": "@jupyter-widgets/controls",
            "_model_module_version": "1.5.0",
            "_model_name": "DescriptionStyleModel",
            "_view_count": null,
            "_view_module": "@jupyter-widgets/base",
            "_view_module_version": "1.2.0",
            "_view_name": "StyleView",
            "description_width": ""
          }
        }
      }
    }
  },
  "nbformat": 4,
  "nbformat_minor": 0
}